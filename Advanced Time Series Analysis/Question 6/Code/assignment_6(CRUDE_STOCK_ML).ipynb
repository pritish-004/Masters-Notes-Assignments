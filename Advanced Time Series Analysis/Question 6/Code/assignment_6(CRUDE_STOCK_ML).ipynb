{
  "nbformat": 4,
  "nbformat_minor": 0,
  "metadata": {
    "colab": {
      "name": "assignment_6(CRUDE_STOCK_ML).ipynb",
      "provenance": [],
      "collapsed_sections": []
    },
    "kernelspec": {
      "name": "python3",
      "display_name": "Python 3"
    }
  },
  "cells": [
    {
      "cell_type": "markdown",
      "metadata": {
        "id": "IaHHKHJ7SfhZ",
        "colab_type": "text"
      },
      "source": [
        "Install fbprophet package as follows:\n",
        "```\n",
        "!pip install fbprophet\n",
        "```\n",
        "\n",
        "If you encounter error, try:  \n",
        "\n",
        "```\n",
        "conda install -c conda-forge fbprophet\n",
        "```\n"
      ]
    },
    {
      "cell_type": "code",
      "metadata": {
        "id": "f1KrTX8nQvew",
        "colab_type": "code",
        "outputId": "37e5a14f-2e22-4a7e-9e0d-24621b6a8506",
        "colab": {
          "base_uri": "https://localhost:8080/",
          "height": 364
        }
      },
      "source": [
        "!pip install fbprophet"
      ],
      "execution_count": 88,
      "outputs": [
        {
          "output_type": "stream",
          "text": [
            "Requirement already satisfied: fbprophet in /usr/local/lib/python3.6/dist-packages (0.6)\n",
            "Requirement already satisfied: Cython>=0.22 in /usr/local/lib/python3.6/dist-packages (from fbprophet) (0.29.19)\n",
            "Requirement already satisfied: cmdstanpy==0.4 in /usr/local/lib/python3.6/dist-packages (from fbprophet) (0.4.0)\n",
            "Requirement already satisfied: pystan>=2.14 in /usr/local/lib/python3.6/dist-packages (from fbprophet) (2.19.1.1)\n",
            "Requirement already satisfied: numpy>=1.10.0 in /usr/local/lib/python3.6/dist-packages (from fbprophet) (1.18.5)\n",
            "Requirement already satisfied: pandas>=0.23.4 in /usr/local/lib/python3.6/dist-packages (from fbprophet) (1.0.4)\n",
            "Requirement already satisfied: matplotlib>=2.0.0 in /usr/local/lib/python3.6/dist-packages (from fbprophet) (3.2.1)\n",
            "Requirement already satisfied: LunarCalendar>=0.0.9 in /usr/local/lib/python3.6/dist-packages (from fbprophet) (0.0.9)\n",
            "Requirement already satisfied: convertdate>=2.1.2 in /usr/local/lib/python3.6/dist-packages (from fbprophet) (2.2.1)\n",
            "Requirement already satisfied: holidays>=0.9.5 in /usr/local/lib/python3.6/dist-packages (from fbprophet) (0.9.12)\n",
            "Requirement already satisfied: setuptools-git>=1.2 in /usr/local/lib/python3.6/dist-packages (from fbprophet) (1.2)\n",
            "Requirement already satisfied: python-dateutil>=2.8.0 in /usr/local/lib/python3.6/dist-packages (from fbprophet) (2.8.1)\n",
            "Requirement already satisfied: pytz>=2017.2 in /usr/local/lib/python3.6/dist-packages (from pandas>=0.23.4->fbprophet) (2018.9)\n",
            "Requirement already satisfied: cycler>=0.10 in /usr/local/lib/python3.6/dist-packages (from matplotlib>=2.0.0->fbprophet) (0.10.0)\n",
            "Requirement already satisfied: kiwisolver>=1.0.1 in /usr/local/lib/python3.6/dist-packages (from matplotlib>=2.0.0->fbprophet) (1.2.0)\n",
            "Requirement already satisfied: pyparsing!=2.0.4,!=2.1.2,!=2.1.6,>=2.0.1 in /usr/local/lib/python3.6/dist-packages (from matplotlib>=2.0.0->fbprophet) (2.4.7)\n",
            "Requirement already satisfied: ephem>=3.7.5.3 in /usr/local/lib/python3.6/dist-packages (from LunarCalendar>=0.0.9->fbprophet) (3.7.7.1)\n",
            "Requirement already satisfied: pymeeus<=1,>=0.3.6 in /usr/local/lib/python3.6/dist-packages (from convertdate>=2.1.2->fbprophet) (0.3.7)\n",
            "Requirement already satisfied: six in /usr/local/lib/python3.6/dist-packages (from holidays>=0.9.5->fbprophet) (1.12.0)\n"
          ],
          "name": "stdout"
        }
      ]
    },
    {
      "cell_type": "markdown",
      "metadata": {
        "id": "5hCtnRFISesM",
        "colab_type": "text"
      },
      "source": [
        ""
      ]
    },
    {
      "cell_type": "code",
      "metadata": {
        "id": "pd44PfV4gywq",
        "colab_type": "code",
        "colab": {}
      },
      "source": [
        "# import libraries\n",
        "import pandas as pd # Import Numpy for data manipulation using dataframe\n",
        "import numpy as np # Import Numpy for Data statistical Analysis\n",
        "import seaborn as sns # Import Matplotlib for data analysis\n",
        "import matplotlib.pyplot as plt\n",
        "from fbprophet import Prophet"
      ],
      "execution_count": 0,
      "outputs": []
    },
    {
      "cell_type": "markdown",
      "metadata": {
        "id": "rc8CWp_UhmPY",
        "colab_type": "text"
      },
      "source": [
        "Import data for Eicher motors stock dataset"
      ]
    },
    {
      "cell_type": "code",
      "metadata": {
        "id": "WmgyuMTzhg5d",
        "colab_type": "code",
        "outputId": "39530dc8-9ed7-438e-d6bb-3a5bc6569eff",
        "colab": {
          "base_uri": "https://localhost:8080/",
          "height": 541
        }
      },
      "source": [
        "stock_dataset_csv = pd.read_csv(\"EICHERMOT.csv\")\n",
        "stock_dataset_csv.head(10)"
      ],
      "execution_count": 90,
      "outputs": [
        {
          "output_type": "execute_result",
          "data": {
            "text/html": [
              "<div>\n",
              "<style scoped>\n",
              "    .dataframe tbody tr th:only-of-type {\n",
              "        vertical-align: middle;\n",
              "    }\n",
              "\n",
              "    .dataframe tbody tr th {\n",
              "        vertical-align: top;\n",
              "    }\n",
              "\n",
              "    .dataframe thead th {\n",
              "        text-align: right;\n",
              "    }\n",
              "</style>\n",
              "<table border=\"1\" class=\"dataframe\">\n",
              "  <thead>\n",
              "    <tr style=\"text-align: right;\">\n",
              "      <th></th>\n",
              "      <th>Date</th>\n",
              "      <th>Symbol</th>\n",
              "      <th>Series</th>\n",
              "      <th>Prev Close</th>\n",
              "      <th>Open</th>\n",
              "      <th>High</th>\n",
              "      <th>Low</th>\n",
              "      <th>Last</th>\n",
              "      <th>Close</th>\n",
              "      <th>VWAP</th>\n",
              "      <th>Volume</th>\n",
              "      <th>Turnover</th>\n",
              "      <th>Trades</th>\n",
              "      <th>Deliverable Volume</th>\n",
              "      <th>%Deliverble</th>\n",
              "    </tr>\n",
              "  </thead>\n",
              "  <tbody>\n",
              "    <tr>\n",
              "      <th>0</th>\n",
              "      <td>2020-02-24</td>\n",
              "      <td>EICHERMOT</td>\n",
              "      <td>EQ</td>\n",
              "      <td>18848.65</td>\n",
              "      <td>18700.0</td>\n",
              "      <td>18700.0</td>\n",
              "      <td>17800.10</td>\n",
              "      <td>17995.00</td>\n",
              "      <td>17949.95</td>\n",
              "      <td>18254.19</td>\n",
              "      <td>192821</td>\n",
              "      <td>3.519792e+14</td>\n",
              "      <td>44028.0</td>\n",
              "      <td>75285.0</td>\n",
              "      <td>0.3904</td>\n",
              "    </tr>\n",
              "    <tr>\n",
              "      <th>1</th>\n",
              "      <td>2020-02-25</td>\n",
              "      <td>EICHERMOT</td>\n",
              "      <td>EQ</td>\n",
              "      <td>17949.95</td>\n",
              "      <td>18135.0</td>\n",
              "      <td>18230.0</td>\n",
              "      <td>17321.00</td>\n",
              "      <td>17555.05</td>\n",
              "      <td>17532.30</td>\n",
              "      <td>17572.72</td>\n",
              "      <td>256831</td>\n",
              "      <td>4.513220e+14</td>\n",
              "      <td>56676.0</td>\n",
              "      <td>104350.0</td>\n",
              "      <td>0.4063</td>\n",
              "    </tr>\n",
              "    <tr>\n",
              "      <th>2</th>\n",
              "      <td>2020-02-26</td>\n",
              "      <td>EICHERMOT</td>\n",
              "      <td>EQ</td>\n",
              "      <td>17532.30</td>\n",
              "      <td>17430.0</td>\n",
              "      <td>17600.0</td>\n",
              "      <td>17035.40</td>\n",
              "      <td>17237.30</td>\n",
              "      <td>17156.95</td>\n",
              "      <td>17285.51</td>\n",
              "      <td>215113</td>\n",
              "      <td>3.718339e+14</td>\n",
              "      <td>54182.0</td>\n",
              "      <td>50775.0</td>\n",
              "      <td>0.2360</td>\n",
              "    </tr>\n",
              "    <tr>\n",
              "      <th>3</th>\n",
              "      <td>2020-02-27</td>\n",
              "      <td>EICHERMOT</td>\n",
              "      <td>EQ</td>\n",
              "      <td>17156.95</td>\n",
              "      <td>17167.8</td>\n",
              "      <td>17248.0</td>\n",
              "      <td>16906.10</td>\n",
              "      <td>17085.00</td>\n",
              "      <td>17053.40</td>\n",
              "      <td>17044.09</td>\n",
              "      <td>255481</td>\n",
              "      <td>4.354441e+14</td>\n",
              "      <td>56698.0</td>\n",
              "      <td>107805.0</td>\n",
              "      <td>0.4220</td>\n",
              "    </tr>\n",
              "    <tr>\n",
              "      <th>4</th>\n",
              "      <td>2020-02-28</td>\n",
              "      <td>EICHERMOT</td>\n",
              "      <td>EQ</td>\n",
              "      <td>17053.40</td>\n",
              "      <td>16697.0</td>\n",
              "      <td>16848.0</td>\n",
              "      <td>16317.05</td>\n",
              "      <td>16610.10</td>\n",
              "      <td>16602.35</td>\n",
              "      <td>16528.57</td>\n",
              "      <td>326455</td>\n",
              "      <td>5.395835e+14</td>\n",
              "      <td>65354.0</td>\n",
              "      <td>148997.0</td>\n",
              "      <td>0.4564</td>\n",
              "    </tr>\n",
              "    <tr>\n",
              "      <th>5</th>\n",
              "      <td>2020-03-02</td>\n",
              "      <td>EICHERMOT</td>\n",
              "      <td>EQ</td>\n",
              "      <td>16602.35</td>\n",
              "      <td>16666.0</td>\n",
              "      <td>17782.9</td>\n",
              "      <td>16643.00</td>\n",
              "      <td>17013.40</td>\n",
              "      <td>17013.40</td>\n",
              "      <td>17290.64</td>\n",
              "      <td>348370</td>\n",
              "      <td>6.023539e+14</td>\n",
              "      <td>74505.0</td>\n",
              "      <td>32873.0</td>\n",
              "      <td>0.0944</td>\n",
              "    </tr>\n",
              "    <tr>\n",
              "      <th>6</th>\n",
              "      <td>2020-03-03</td>\n",
              "      <td>EICHERMOT</td>\n",
              "      <td>EQ</td>\n",
              "      <td>17013.40</td>\n",
              "      <td>17500.0</td>\n",
              "      <td>18041.0</td>\n",
              "      <td>17400.00</td>\n",
              "      <td>17950.00</td>\n",
              "      <td>17888.45</td>\n",
              "      <td>17694.39</td>\n",
              "      <td>274740</td>\n",
              "      <td>4.861358e+14</td>\n",
              "      <td>68868.0</td>\n",
              "      <td>57676.0</td>\n",
              "      <td>0.2099</td>\n",
              "    </tr>\n",
              "    <tr>\n",
              "      <th>7</th>\n",
              "      <td>2020-03-04</td>\n",
              "      <td>EICHERMOT</td>\n",
              "      <td>EQ</td>\n",
              "      <td>17888.45</td>\n",
              "      <td>17954.0</td>\n",
              "      <td>18280.0</td>\n",
              "      <td>16870.00</td>\n",
              "      <td>17171.55</td>\n",
              "      <td>17254.20</td>\n",
              "      <td>17301.52</td>\n",
              "      <td>418609</td>\n",
              "      <td>7.242574e+14</td>\n",
              "      <td>79891.0</td>\n",
              "      <td>148265.0</td>\n",
              "      <td>0.3542</td>\n",
              "    </tr>\n",
              "    <tr>\n",
              "      <th>8</th>\n",
              "      <td>2020-03-05</td>\n",
              "      <td>EICHERMOT</td>\n",
              "      <td>EQ</td>\n",
              "      <td>17254.20</td>\n",
              "      <td>17450.0</td>\n",
              "      <td>17888.0</td>\n",
              "      <td>17161.80</td>\n",
              "      <td>17765.55</td>\n",
              "      <td>17775.35</td>\n",
              "      <td>17626.16</td>\n",
              "      <td>231375</td>\n",
              "      <td>4.078253e+14</td>\n",
              "      <td>52927.0</td>\n",
              "      <td>46350.0</td>\n",
              "      <td>0.2003</td>\n",
              "    </tr>\n",
              "    <tr>\n",
              "      <th>9</th>\n",
              "      <td>2020-03-06</td>\n",
              "      <td>EICHERMOT</td>\n",
              "      <td>EQ</td>\n",
              "      <td>17775.35</td>\n",
              "      <td>17350.0</td>\n",
              "      <td>17871.5</td>\n",
              "      <td>16822.00</td>\n",
              "      <td>17810.00</td>\n",
              "      <td>17743.55</td>\n",
              "      <td>17461.91</td>\n",
              "      <td>170791</td>\n",
              "      <td>2.982337e+14</td>\n",
              "      <td>47537.0</td>\n",
              "      <td>32484.0</td>\n",
              "      <td>0.1902</td>\n",
              "    </tr>\n",
              "  </tbody>\n",
              "</table>\n",
              "</div>"
            ],
            "text/plain": [
              "         Date     Symbol Series  ...   Trades  Deliverable Volume  %Deliverble\n",
              "0  2020-02-24  EICHERMOT     EQ  ...  44028.0             75285.0       0.3904\n",
              "1  2020-02-25  EICHERMOT     EQ  ...  56676.0            104350.0       0.4063\n",
              "2  2020-02-26  EICHERMOT     EQ  ...  54182.0             50775.0       0.2360\n",
              "3  2020-02-27  EICHERMOT     EQ  ...  56698.0            107805.0       0.4220\n",
              "4  2020-02-28  EICHERMOT     EQ  ...  65354.0            148997.0       0.4564\n",
              "5  2020-03-02  EICHERMOT     EQ  ...  74505.0             32873.0       0.0944\n",
              "6  2020-03-03  EICHERMOT     EQ  ...  68868.0             57676.0       0.2099\n",
              "7  2020-03-04  EICHERMOT     EQ  ...  79891.0            148265.0       0.3542\n",
              "8  2020-03-05  EICHERMOT     EQ  ...  52927.0             46350.0       0.2003\n",
              "9  2020-03-06  EICHERMOT     EQ  ...  47537.0             32484.0       0.1902\n",
              "\n",
              "[10 rows x 15 columns]"
            ]
          },
          "metadata": {
            "tags": []
          },
          "execution_count": 90
        }
      ]
    },
    {
      "cell_type": "markdown",
      "metadata": {
        "id": "UJ-KHgWaj2az",
        "colab_type": "text"
      },
      "source": [
        "Size of Eicher motor Dataset\n",
        "\n",
        " Its 63 days data "
      ]
    },
    {
      "cell_type": "code",
      "metadata": {
        "id": "aXmVq56hj2ky",
        "colab_type": "code",
        "outputId": "c5d259d2-1845-47cb-a140-9924a2490bda",
        "colab": {
          "base_uri": "https://localhost:8080/",
          "height": 34
        }
      },
      "source": [
        "stock_dataset_csv.shape"
      ],
      "execution_count": 91,
      "outputs": [
        {
          "output_type": "execute_result",
          "data": {
            "text/plain": [
              "(63, 15)"
            ]
          },
          "metadata": {
            "tags": []
          },
          "execution_count": 91
        }
      ]
    },
    {
      "cell_type": "markdown",
      "metadata": {
        "id": "lzJSPVcCkCRY",
        "colab_type": "text"
      },
      "source": [
        "Remove unnecessary columns"
      ]
    },
    {
      "cell_type": "code",
      "metadata": {
        "id": "4_nk9HqQkCaK",
        "colab_type": "code",
        "colab": {}
      },
      "source": [
        "stock_dataset_csv.drop([\"Symbol\",\"Series\",\"Prev Close\",\"VWAP\",\"Volume\",\"Deliverable Volume\"],axis=1,inplace=True)"
      ],
      "execution_count": 0,
      "outputs": []
    },
    {
      "cell_type": "code",
      "metadata": {
        "id": "0JoLcu6Pktnk",
        "colab_type": "code",
        "outputId": "a363d82d-664a-472d-bd97-4039e8319995",
        "colab": {
          "base_uri": "https://localhost:8080/",
          "height": 352
        }
      },
      "source": [
        "stock_dataset_csv.head(10)"
      ],
      "execution_count": 93,
      "outputs": [
        {
          "output_type": "execute_result",
          "data": {
            "text/html": [
              "<div>\n",
              "<style scoped>\n",
              "    .dataframe tbody tr th:only-of-type {\n",
              "        vertical-align: middle;\n",
              "    }\n",
              "\n",
              "    .dataframe tbody tr th {\n",
              "        vertical-align: top;\n",
              "    }\n",
              "\n",
              "    .dataframe thead th {\n",
              "        text-align: right;\n",
              "    }\n",
              "</style>\n",
              "<table border=\"1\" class=\"dataframe\">\n",
              "  <thead>\n",
              "    <tr style=\"text-align: right;\">\n",
              "      <th></th>\n",
              "      <th>Date</th>\n",
              "      <th>Open</th>\n",
              "      <th>High</th>\n",
              "      <th>Low</th>\n",
              "      <th>Last</th>\n",
              "      <th>Close</th>\n",
              "      <th>Turnover</th>\n",
              "      <th>Trades</th>\n",
              "      <th>%Deliverble</th>\n",
              "    </tr>\n",
              "  </thead>\n",
              "  <tbody>\n",
              "    <tr>\n",
              "      <th>0</th>\n",
              "      <td>2020-02-24</td>\n",
              "      <td>18700.0</td>\n",
              "      <td>18700.0</td>\n",
              "      <td>17800.10</td>\n",
              "      <td>17995.00</td>\n",
              "      <td>17949.95</td>\n",
              "      <td>3.519792e+14</td>\n",
              "      <td>44028.0</td>\n",
              "      <td>0.3904</td>\n",
              "    </tr>\n",
              "    <tr>\n",
              "      <th>1</th>\n",
              "      <td>2020-02-25</td>\n",
              "      <td>18135.0</td>\n",
              "      <td>18230.0</td>\n",
              "      <td>17321.00</td>\n",
              "      <td>17555.05</td>\n",
              "      <td>17532.30</td>\n",
              "      <td>4.513220e+14</td>\n",
              "      <td>56676.0</td>\n",
              "      <td>0.4063</td>\n",
              "    </tr>\n",
              "    <tr>\n",
              "      <th>2</th>\n",
              "      <td>2020-02-26</td>\n",
              "      <td>17430.0</td>\n",
              "      <td>17600.0</td>\n",
              "      <td>17035.40</td>\n",
              "      <td>17237.30</td>\n",
              "      <td>17156.95</td>\n",
              "      <td>3.718339e+14</td>\n",
              "      <td>54182.0</td>\n",
              "      <td>0.2360</td>\n",
              "    </tr>\n",
              "    <tr>\n",
              "      <th>3</th>\n",
              "      <td>2020-02-27</td>\n",
              "      <td>17167.8</td>\n",
              "      <td>17248.0</td>\n",
              "      <td>16906.10</td>\n",
              "      <td>17085.00</td>\n",
              "      <td>17053.40</td>\n",
              "      <td>4.354441e+14</td>\n",
              "      <td>56698.0</td>\n",
              "      <td>0.4220</td>\n",
              "    </tr>\n",
              "    <tr>\n",
              "      <th>4</th>\n",
              "      <td>2020-02-28</td>\n",
              "      <td>16697.0</td>\n",
              "      <td>16848.0</td>\n",
              "      <td>16317.05</td>\n",
              "      <td>16610.10</td>\n",
              "      <td>16602.35</td>\n",
              "      <td>5.395835e+14</td>\n",
              "      <td>65354.0</td>\n",
              "      <td>0.4564</td>\n",
              "    </tr>\n",
              "    <tr>\n",
              "      <th>5</th>\n",
              "      <td>2020-03-02</td>\n",
              "      <td>16666.0</td>\n",
              "      <td>17782.9</td>\n",
              "      <td>16643.00</td>\n",
              "      <td>17013.40</td>\n",
              "      <td>17013.40</td>\n",
              "      <td>6.023539e+14</td>\n",
              "      <td>74505.0</td>\n",
              "      <td>0.0944</td>\n",
              "    </tr>\n",
              "    <tr>\n",
              "      <th>6</th>\n",
              "      <td>2020-03-03</td>\n",
              "      <td>17500.0</td>\n",
              "      <td>18041.0</td>\n",
              "      <td>17400.00</td>\n",
              "      <td>17950.00</td>\n",
              "      <td>17888.45</td>\n",
              "      <td>4.861358e+14</td>\n",
              "      <td>68868.0</td>\n",
              "      <td>0.2099</td>\n",
              "    </tr>\n",
              "    <tr>\n",
              "      <th>7</th>\n",
              "      <td>2020-03-04</td>\n",
              "      <td>17954.0</td>\n",
              "      <td>18280.0</td>\n",
              "      <td>16870.00</td>\n",
              "      <td>17171.55</td>\n",
              "      <td>17254.20</td>\n",
              "      <td>7.242574e+14</td>\n",
              "      <td>79891.0</td>\n",
              "      <td>0.3542</td>\n",
              "    </tr>\n",
              "    <tr>\n",
              "      <th>8</th>\n",
              "      <td>2020-03-05</td>\n",
              "      <td>17450.0</td>\n",
              "      <td>17888.0</td>\n",
              "      <td>17161.80</td>\n",
              "      <td>17765.55</td>\n",
              "      <td>17775.35</td>\n",
              "      <td>4.078253e+14</td>\n",
              "      <td>52927.0</td>\n",
              "      <td>0.2003</td>\n",
              "    </tr>\n",
              "    <tr>\n",
              "      <th>9</th>\n",
              "      <td>2020-03-06</td>\n",
              "      <td>17350.0</td>\n",
              "      <td>17871.5</td>\n",
              "      <td>16822.00</td>\n",
              "      <td>17810.00</td>\n",
              "      <td>17743.55</td>\n",
              "      <td>2.982337e+14</td>\n",
              "      <td>47537.0</td>\n",
              "      <td>0.1902</td>\n",
              "    </tr>\n",
              "  </tbody>\n",
              "</table>\n",
              "</div>"
            ],
            "text/plain": [
              "         Date     Open     High  ...      Turnover   Trades  %Deliverble\n",
              "0  2020-02-24  18700.0  18700.0  ...  3.519792e+14  44028.0       0.3904\n",
              "1  2020-02-25  18135.0  18230.0  ...  4.513220e+14  56676.0       0.4063\n",
              "2  2020-02-26  17430.0  17600.0  ...  3.718339e+14  54182.0       0.2360\n",
              "3  2020-02-27  17167.8  17248.0  ...  4.354441e+14  56698.0       0.4220\n",
              "4  2020-02-28  16697.0  16848.0  ...  5.395835e+14  65354.0       0.4564\n",
              "5  2020-03-02  16666.0  17782.9  ...  6.023539e+14  74505.0       0.0944\n",
              "6  2020-03-03  17500.0  18041.0  ...  4.861358e+14  68868.0       0.2099\n",
              "7  2020-03-04  17954.0  18280.0  ...  7.242574e+14  79891.0       0.3542\n",
              "8  2020-03-05  17450.0  17888.0  ...  4.078253e+14  52927.0       0.2003\n",
              "9  2020-03-06  17350.0  17871.5  ...  2.982337e+14  47537.0       0.1902\n",
              "\n",
              "[10 rows x 9 columns]"
            ]
          },
          "metadata": {
            "tags": []
          },
          "execution_count": 93
        }
      ]
    },
    {
      "cell_type": "markdown",
      "metadata": {
        "id": "Z1GKDmCHlDQR",
        "colab_type": "text"
      },
      "source": [
        "Plot Open values of stock w.r.t to date"
      ]
    },
    {
      "cell_type": "code",
      "metadata": {
        "id": "KLHPWqYal1Xw",
        "colab_type": "code",
        "outputId": "6670f137-827e-43e5-b9f7-5067be6d724d",
        "colab": {
          "base_uri": "https://localhost:8080/",
          "height": 663
        }
      },
      "source": [
        "plt.figure(figsize=(10,10))\n",
        "plt.plot(stock_dataset_csv[\"Date\"],stock_dataset_csv[\"Open\"])"
      ],
      "execution_count": 94,
      "outputs": [
        {
          "output_type": "stream",
          "text": [
            "INFO:matplotlib.category:Using categorical units to plot a list of strings that are all parsable as floats or dates. If these strings should be plotted as numbers, cast to the appropriate data type before plotting.\n",
            "INFO:matplotlib.category:Using categorical units to plot a list of strings that are all parsable as floats or dates. If these strings should be plotted as numbers, cast to the appropriate data type before plotting.\n"
          ],
          "name": "stderr"
        },
        {
          "output_type": "execute_result",
          "data": {
            "text/plain": [
              "[<matplotlib.lines.Line2D at 0x7f1994bfca90>]"
            ]
          },
          "metadata": {
            "tags": []
          },
          "execution_count": 94
        },
        {
          "output_type": "display_data",
          "data": {
            "image/png": "[encoded data removed]",
            "text/plain": [
              "<Figure size 720x720 with 1 Axes>"
            ]
          },
          "metadata": {
            "tags": [],
            "needs_background": "light"
          }
        }
      ]
    },
    {
      "cell_type": "markdown",
      "metadata": {
        "id": "P8LruXPLmCKt",
        "colab_type": "text"
      },
      "source": [
        "Plot Open and Close values together"
      ]
    },
    {
      "cell_type": "code",
      "metadata": {
        "id": "NQEpeXGHmCTe",
        "colab_type": "code",
        "outputId": "f67d0538-3e1b-4d5a-b747-4750425a4120",
        "colab": {
          "base_uri": "https://localhost:8080/",
          "height": 286
        }
      },
      "source": [
        "stock_dataset_csv.plot(y=[\"Open\",\"Close\"])"
      ],
      "execution_count": 95,
      "outputs": [
        {
          "output_type": "execute_result",
          "data": {
            "text/plain": [
              "<matplotlib.axes._subplots.AxesSubplot at 0x7f1994b099e8>"
            ]
          },
          "metadata": {
            "tags": []
          },
          "execution_count": 95
        },
        {
          "output_type": "display_data",
          "data": {
            "image/png": "[encoded data removed]",
            "text/plain": [
              "<Figure size 432x288 with 1 Axes>"
            ]
          },
          "metadata": {
            "tags": [],
            "needs_background": "light"
          }
        }
      ]
    },
    {
      "cell_type": "code",
      "metadata": {
        "id": "4V1nltibp1Lt",
        "colab_type": "code",
        "outputId": "4c21fbb5-ed86-4929-b166-b89bb302e744",
        "colab": {
          "base_uri": "https://localhost:8080/",
          "height": 200
        }
      },
      "source": [
        "#Import Crudeoil price dataset \n",
        "crudeoil_report_csv=pd.read_csv(\"Crudeoil.csv\")\n",
        "crudeoil_report_csv.head()"
      ],
      "execution_count": 96,
      "outputs": [
        {
          "output_type": "execute_result",
          "data": {
            "text/html": [
              "<div>\n",
              "<style scoped>\n",
              "    .dataframe tbody tr th:only-of-type {\n",
              "        vertical-align: middle;\n",
              "    }\n",
              "\n",
              "    .dataframe tbody tr th {\n",
              "        vertical-align: top;\n",
              "    }\n",
              "\n",
              "    .dataframe thead th {\n",
              "        text-align: right;\n",
              "    }\n",
              "</style>\n",
              "<table border=\"1\" class=\"dataframe\">\n",
              "  <thead>\n",
              "    <tr style=\"text-align: right;\">\n",
              "      <th></th>\n",
              "      <th>Instrument Type</th>\n",
              "      <th>Date</th>\n",
              "      <th>Segment</th>\n",
              "      <th>Commodity</th>\n",
              "      <th>Traded Contract(Lots)</th>\n",
              "      <th>Total Value (Lacs)</th>\n",
              "      <th>Avg Daily Turnover (Lacs)</th>\n",
              "    </tr>\n",
              "  </thead>\n",
              "  <tbody>\n",
              "    <tr>\n",
              "      <th>0</th>\n",
              "      <td>FUTCOM</td>\n",
              "      <td>2020-01-01</td>\n",
              "      <td>ENERGY</td>\n",
              "      <td>CRUDEOIL</td>\n",
              "      <td>21689</td>\n",
              "      <td>94903.27</td>\n",
              "      <td>0.0</td>\n",
              "    </tr>\n",
              "    <tr>\n",
              "      <th>1</th>\n",
              "      <td>FUTCOM</td>\n",
              "      <td>2020-01-02</td>\n",
              "      <td>ENERGY</td>\n",
              "      <td>CRUDEOIL</td>\n",
              "      <td>339888</td>\n",
              "      <td>1481849.33</td>\n",
              "      <td>0.0</td>\n",
              "    </tr>\n",
              "    <tr>\n",
              "      <th>2</th>\n",
              "      <td>FUTCOM</td>\n",
              "      <td>2020-01-03</td>\n",
              "      <td>ENERGY</td>\n",
              "      <td>CRUDEOIL</td>\n",
              "      <td>532296</td>\n",
              "      <td>2413806.37</td>\n",
              "      <td>0.0</td>\n",
              "    </tr>\n",
              "    <tr>\n",
              "      <th>3</th>\n",
              "      <td>FUTCOM</td>\n",
              "      <td>2020-01-06</td>\n",
              "      <td>ENERGY</td>\n",
              "      <td>CRUDEOIL</td>\n",
              "      <td>427787</td>\n",
              "      <td>1963769.09</td>\n",
              "      <td>0.0</td>\n",
              "    </tr>\n",
              "    <tr>\n",
              "      <th>4</th>\n",
              "      <td>FUTCOM</td>\n",
              "      <td>2020-01-07</td>\n",
              "      <td>ENERGY</td>\n",
              "      <td>CRUDEOIL</td>\n",
              "      <td>355248</td>\n",
              "      <td>1600428.34</td>\n",
              "      <td>0.0</td>\n",
              "    </tr>\n",
              "  </tbody>\n",
              "</table>\n",
              "</div>"
            ],
            "text/plain": [
              "  Instrument Type        Date  ... Total Value (Lacs) Avg Daily Turnover (Lacs)\n",
              "0          FUTCOM  2020-01-01  ...           94903.27                       0.0\n",
              "1          FUTCOM  2020-01-02  ...         1481849.33                       0.0\n",
              "2          FUTCOM  2020-01-03  ...         2413806.37                       0.0\n",
              "3          FUTCOM  2020-01-06  ...         1963769.09                       0.0\n",
              "4          FUTCOM  2020-01-07  ...         1600428.34                       0.0\n",
              "\n",
              "[5 rows x 7 columns]"
            ]
          },
          "metadata": {
            "tags": []
          },
          "execution_count": 96
        }
      ]
    },
    {
      "cell_type": "markdown",
      "metadata": {
        "id": "o56jMvy-Zfbr",
        "colab_type": "text"
      },
      "source": [
        "Plot Crude oil prices w.r.t date"
      ]
    },
    {
      "cell_type": "code",
      "metadata": {
        "id": "Oma5KpurYEtS",
        "colab_type": "code",
        "colab": {
          "base_uri": "https://localhost:8080/",
          "height": 674
        },
        "outputId": "26332b91-1d07-419d-f14f-bc065296a698"
      },
      "source": [
        "plt.figure(figsize=(10,10))\n",
        "plt.plot(crudeoil_report_csv[\"Date\"],crudeoil_report_csv[\"Total Value (Lacs)\"])"
      ],
      "execution_count": 97,
      "outputs": [
        {
          "output_type": "stream",
          "text": [
            "INFO:matplotlib.category:Using categorical units to plot a list of strings that are all parsable as floats or dates. If these strings should be plotted as numbers, cast to the appropriate data type before plotting.\n",
            "INFO:matplotlib.category:Using categorical units to plot a list of strings that are all parsable as floats or dates. If these strings should be plotted as numbers, cast to the appropriate data type before plotting.\n"
          ],
          "name": "stderr"
        },
        {
          "output_type": "execute_result",
          "data": {
            "text/plain": [
              "[<matplotlib.lines.Line2D at 0x7f1994a9c4e0>]"
            ]
          },
          "metadata": {
            "tags": []
          },
          "execution_count": 97
        },
        {
          "output_type": "display_data",
          "data": {
            "image/png": "[encoded data removed]",
            "text/plain": [
              "<Figure size 720x720 with 1 Axes>"
            ]
          },
          "metadata": {
            "tags": [],
            "needs_background": "light"
          }
        }
      ]
    },
    {
      "cell_type": "markdown",
      "metadata": {
        "id": "aooYVPo2Wej4",
        "colab_type": "text"
      },
      "source": [
        "Remove unnecessary columns"
      ]
    },
    {
      "cell_type": "code",
      "metadata": {
        "id": "OEeVYAU5rIOA",
        "colab_type": "code",
        "colab": {}
      },
      "source": [
        "useless_cols = [\"Instrument Type\",\"Segment\",\"Commodity\",\"Traded Contract(Lots)\",\"Avg Daily Turnover (Lacs)\"]"
      ],
      "execution_count": 0,
      "outputs": []
    },
    {
      "cell_type": "code",
      "metadata": {
        "id": "KjmFPpe0sMbF",
        "colab_type": "code",
        "colab": {}
      },
      "source": [
        "crudeoil_report_csv.drop(useless_cols,axis=1,inplace=True)"
      ],
      "execution_count": 0,
      "outputs": []
    },
    {
      "cell_type": "code",
      "metadata": {
        "id": "pMruPy2GsW62",
        "colab_type": "code",
        "outputId": "8c0f2751-58db-4c09-c6d1-35508e549acc",
        "colab": {
          "base_uri": "https://localhost:8080/",
          "height": 200
        }
      },
      "source": [
        "crudeoil_report_csv.head()"
      ],
      "execution_count": 100,
      "outputs": [
        {
          "output_type": "execute_result",
          "data": {
            "text/html": [
              "<div>\n",
              "<style scoped>\n",
              "    .dataframe tbody tr th:only-of-type {\n",
              "        vertical-align: middle;\n",
              "    }\n",
              "\n",
              "    .dataframe tbody tr th {\n",
              "        vertical-align: top;\n",
              "    }\n",
              "\n",
              "    .dataframe thead th {\n",
              "        text-align: right;\n",
              "    }\n",
              "</style>\n",
              "<table border=\"1\" class=\"dataframe\">\n",
              "  <thead>\n",
              "    <tr style=\"text-align: right;\">\n",
              "      <th></th>\n",
              "      <th>Date</th>\n",
              "      <th>Total Value (Lacs)</th>\n",
              "    </tr>\n",
              "  </thead>\n",
              "  <tbody>\n",
              "    <tr>\n",
              "      <th>0</th>\n",
              "      <td>2020-01-01</td>\n",
              "      <td>94903.27</td>\n",
              "    </tr>\n",
              "    <tr>\n",
              "      <th>1</th>\n",
              "      <td>2020-01-02</td>\n",
              "      <td>1481849.33</td>\n",
              "    </tr>\n",
              "    <tr>\n",
              "      <th>2</th>\n",
              "      <td>2020-01-03</td>\n",
              "      <td>2413806.37</td>\n",
              "    </tr>\n",
              "    <tr>\n",
              "      <th>3</th>\n",
              "      <td>2020-01-06</td>\n",
              "      <td>1963769.09</td>\n",
              "    </tr>\n",
              "    <tr>\n",
              "      <th>4</th>\n",
              "      <td>2020-01-07</td>\n",
              "      <td>1600428.34</td>\n",
              "    </tr>\n",
              "  </tbody>\n",
              "</table>\n",
              "</div>"
            ],
            "text/plain": [
              "         Date  Total Value (Lacs)\n",
              "0  2020-01-01            94903.27\n",
              "1  2020-01-02          1481849.33\n",
              "2  2020-01-03          2413806.37\n",
              "3  2020-01-06          1963769.09\n",
              "4  2020-01-07          1600428.34"
            ]
          },
          "metadata": {
            "tags": []
          },
          "execution_count": 100
        }
      ]
    },
    {
      "cell_type": "markdown",
      "metadata": {
        "id": "1ulQaw4HWjcU",
        "colab_type": "text"
      },
      "source": [
        "In order to merge two tables, they should have same primary key.\n",
        "\n",
        "Changed the Key to Date in both the tables"
      ]
    },
    {
      "cell_type": "code",
      "metadata": {
        "id": "HjfzWrjCwxr7",
        "colab_type": "code",
        "colab": {}
      },
      "source": [
        "crudeoil_report_csv.set_index(\"Date\",inplace=True)"
      ],
      "execution_count": 0,
      "outputs": []
    },
    {
      "cell_type": "code",
      "metadata": {
        "id": "dUrnu6lO9yBQ",
        "colab_type": "code",
        "colab": {}
      },
      "source": [
        "stock_dataset_csv.set_index(\"Date\",inplace=True)"
      ],
      "execution_count": 0,
      "outputs": []
    },
    {
      "cell_type": "markdown",
      "metadata": {
        "id": "1A8YCkCqWuI3",
        "colab_type": "text"
      },
      "source": [
        "Join the COVID19 table with Stock table"
      ]
    },
    {
      "cell_type": "code",
      "metadata": {
        "id": "cNuIigJbxjXi",
        "colab_type": "code",
        "outputId": "f51d02bd-bb1b-48a4-a4b7-dc71f0cfb351",
        "colab": {
          "base_uri": "https://localhost:8080/",
          "height": 231
        }
      },
      "source": [
        "data = stock_dataset_csv.join(crudeoil_report_csv,how=\"inner\")\n",
        "data.head()"
      ],
      "execution_count": 103,
      "outputs": [
        {
          "output_type": "execute_result",
          "data": {
            "text/html": [
              "<div>\n",
              "<style scoped>\n",
              "    .dataframe tbody tr th:only-of-type {\n",
              "        vertical-align: middle;\n",
              "    }\n",
              "\n",
              "    .dataframe tbody tr th {\n",
              "        vertical-align: top;\n",
              "    }\n",
              "\n",
              "    .dataframe thead th {\n",
              "        text-align: right;\n",
              "    }\n",
              "</style>\n",
              "<table border=\"1\" class=\"dataframe\">\n",
              "  <thead>\n",
              "    <tr style=\"text-align: right;\">\n",
              "      <th></th>\n",
              "      <th>Open</th>\n",
              "      <th>High</th>\n",
              "      <th>Low</th>\n",
              "      <th>Last</th>\n",
              "      <th>Close</th>\n",
              "      <th>Turnover</th>\n",
              "      <th>Trades</th>\n",
              "      <th>%Deliverble</th>\n",
              "      <th>Total Value (Lacs)</th>\n",
              "    </tr>\n",
              "    <tr>\n",
              "      <th>Date</th>\n",
              "      <th></th>\n",
              "      <th></th>\n",
              "      <th></th>\n",
              "      <th></th>\n",
              "      <th></th>\n",
              "      <th></th>\n",
              "      <th></th>\n",
              "      <th></th>\n",
              "      <th></th>\n",
              "    </tr>\n",
              "  </thead>\n",
              "  <tbody>\n",
              "    <tr>\n",
              "      <th>2020-02-24</th>\n",
              "      <td>18700.0</td>\n",
              "      <td>18700.0</td>\n",
              "      <td>17800.10</td>\n",
              "      <td>17995.00</td>\n",
              "      <td>17949.95</td>\n",
              "      <td>3.519792e+14</td>\n",
              "      <td>44028.0</td>\n",
              "      <td>0.3904</td>\n",
              "      <td>1558751.70</td>\n",
              "    </tr>\n",
              "    <tr>\n",
              "      <th>2020-02-25</th>\n",
              "      <td>18135.0</td>\n",
              "      <td>18230.0</td>\n",
              "      <td>17321.00</td>\n",
              "      <td>17555.05</td>\n",
              "      <td>17532.30</td>\n",
              "      <td>4.513220e+14</td>\n",
              "      <td>56676.0</td>\n",
              "      <td>0.4063</td>\n",
              "      <td>1865144.53</td>\n",
              "    </tr>\n",
              "    <tr>\n",
              "      <th>2020-02-26</th>\n",
              "      <td>17430.0</td>\n",
              "      <td>17600.0</td>\n",
              "      <td>17035.40</td>\n",
              "      <td>17237.30</td>\n",
              "      <td>17156.95</td>\n",
              "      <td>3.718339e+14</td>\n",
              "      <td>54182.0</td>\n",
              "      <td>0.2360</td>\n",
              "      <td>2235781.23</td>\n",
              "    </tr>\n",
              "    <tr>\n",
              "      <th>2020-02-27</th>\n",
              "      <td>17167.8</td>\n",
              "      <td>17248.0</td>\n",
              "      <td>16906.10</td>\n",
              "      <td>17085.00</td>\n",
              "      <td>17053.40</td>\n",
              "      <td>4.354441e+14</td>\n",
              "      <td>56698.0</td>\n",
              "      <td>0.4220</td>\n",
              "      <td>2423555.97</td>\n",
              "    </tr>\n",
              "    <tr>\n",
              "      <th>2020-02-28</th>\n",
              "      <td>16697.0</td>\n",
              "      <td>16848.0</td>\n",
              "      <td>16317.05</td>\n",
              "      <td>16610.10</td>\n",
              "      <td>16602.35</td>\n",
              "      <td>5.395835e+14</td>\n",
              "      <td>65354.0</td>\n",
              "      <td>0.4564</td>\n",
              "      <td>2551718.69</td>\n",
              "    </tr>\n",
              "  </tbody>\n",
              "</table>\n",
              "</div>"
            ],
            "text/plain": [
              "               Open     High  ...  %Deliverble  Total Value (Lacs)\n",
              "Date                          ...                                 \n",
              "2020-02-24  18700.0  18700.0  ...       0.3904          1558751.70\n",
              "2020-02-25  18135.0  18230.0  ...       0.4063          1865144.53\n",
              "2020-02-26  17430.0  17600.0  ...       0.2360          2235781.23\n",
              "2020-02-27  17167.8  17248.0  ...       0.4220          2423555.97\n",
              "2020-02-28  16697.0  16848.0  ...       0.4564          2551718.69\n",
              "\n",
              "[5 rows x 9 columns]"
            ]
          },
          "metadata": {
            "tags": []
          },
          "execution_count": 103
        }
      ]
    },
    {
      "cell_type": "markdown",
      "metadata": {
        "id": "y9i3HKJtWyxO",
        "colab_type": "text"
      },
      "source": [
        "Calculate the correlation between Stock data and corona data"
      ]
    },
    {
      "cell_type": "code",
      "metadata": {
        "id": "lRO-g4xUx16Z",
        "colab_type": "code",
        "outputId": "f61a1013-6807-4a53-ad11-72419d0a2d24",
        "colab": {
          "base_uri": "https://localhost:8080/",
          "height": 322
        }
      },
      "source": [
        "data.corr()"
      ],
      "execution_count": 104,
      "outputs": [
        {
          "output_type": "execute_result",
          "data": {
            "text/html": [
              "<div>\n",
              "<style scoped>\n",
              "    .dataframe tbody tr th:only-of-type {\n",
              "        vertical-align: middle;\n",
              "    }\n",
              "\n",
              "    .dataframe tbody tr th {\n",
              "        vertical-align: top;\n",
              "    }\n",
              "\n",
              "    .dataframe thead th {\n",
              "        text-align: right;\n",
              "    }\n",
              "</style>\n",
              "<table border=\"1\" class=\"dataframe\">\n",
              "  <thead>\n",
              "    <tr style=\"text-align: right;\">\n",
              "      <th></th>\n",
              "      <th>Open</th>\n",
              "      <th>High</th>\n",
              "      <th>Low</th>\n",
              "      <th>Last</th>\n",
              "      <th>Close</th>\n",
              "      <th>Turnover</th>\n",
              "      <th>Trades</th>\n",
              "      <th>%Deliverble</th>\n",
              "      <th>Total Value (Lacs)</th>\n",
              "    </tr>\n",
              "  </thead>\n",
              "  <tbody>\n",
              "    <tr>\n",
              "      <th>Open</th>\n",
              "      <td>1.000000</td>\n",
              "      <td>0.947808</td>\n",
              "      <td>0.977249</td>\n",
              "      <td>0.942637</td>\n",
              "      <td>0.943038</td>\n",
              "      <td>0.284973</td>\n",
              "      <td>0.079392</td>\n",
              "      <td>0.143781</td>\n",
              "      <td>0.817546</td>\n",
              "    </tr>\n",
              "    <tr>\n",
              "      <th>High</th>\n",
              "      <td>0.947808</td>\n",
              "      <td>1.000000</td>\n",
              "      <td>0.936600</td>\n",
              "      <td>0.950156</td>\n",
              "      <td>0.956371</td>\n",
              "      <td>0.361446</td>\n",
              "      <td>0.191765</td>\n",
              "      <td>0.173815</td>\n",
              "      <td>0.775851</td>\n",
              "    </tr>\n",
              "    <tr>\n",
              "      <th>Low</th>\n",
              "      <td>0.977249</td>\n",
              "      <td>0.936600</td>\n",
              "      <td>1.000000</td>\n",
              "      <td>0.970441</td>\n",
              "      <td>0.971249</td>\n",
              "      <td>0.328881</td>\n",
              "      <td>0.109652</td>\n",
              "      <td>0.085908</td>\n",
              "      <td>0.822788</td>\n",
              "    </tr>\n",
              "    <tr>\n",
              "      <th>Last</th>\n",
              "      <td>0.942637</td>\n",
              "      <td>0.950156</td>\n",
              "      <td>0.970441</td>\n",
              "      <td>1.000000</td>\n",
              "      <td>0.999096</td>\n",
              "      <td>0.393140</td>\n",
              "      <td>0.203628</td>\n",
              "      <td>0.063155</td>\n",
              "      <td>0.798555</td>\n",
              "    </tr>\n",
              "    <tr>\n",
              "      <th>Close</th>\n",
              "      <td>0.943038</td>\n",
              "      <td>0.956371</td>\n",
              "      <td>0.971249</td>\n",
              "      <td>0.999096</td>\n",
              "      <td>1.000000</td>\n",
              "      <td>0.403420</td>\n",
              "      <td>0.214199</td>\n",
              "      <td>0.068395</td>\n",
              "      <td>0.796544</td>\n",
              "    </tr>\n",
              "    <tr>\n",
              "      <th>Turnover</th>\n",
              "      <td>0.284973</td>\n",
              "      <td>0.361446</td>\n",
              "      <td>0.328881</td>\n",
              "      <td>0.393140</td>\n",
              "      <td>0.403420</td>\n",
              "      <td>1.000000</td>\n",
              "      <td>0.929984</td>\n",
              "      <td>-0.006051</td>\n",
              "      <td>0.178907</td>\n",
              "    </tr>\n",
              "    <tr>\n",
              "      <th>Trades</th>\n",
              "      <td>0.079392</td>\n",
              "      <td>0.191765</td>\n",
              "      <td>0.109652</td>\n",
              "      <td>0.203628</td>\n",
              "      <td>0.214199</td>\n",
              "      <td>0.929984</td>\n",
              "      <td>1.000000</td>\n",
              "      <td>0.019849</td>\n",
              "      <td>0.017102</td>\n",
              "    </tr>\n",
              "    <tr>\n",
              "      <th>%Deliverble</th>\n",
              "      <td>0.143781</td>\n",
              "      <td>0.173815</td>\n",
              "      <td>0.085908</td>\n",
              "      <td>0.063155</td>\n",
              "      <td>0.068395</td>\n",
              "      <td>-0.006051</td>\n",
              "      <td>0.019849</td>\n",
              "      <td>1.000000</td>\n",
              "      <td>0.106976</td>\n",
              "    </tr>\n",
              "    <tr>\n",
              "      <th>Total Value (Lacs)</th>\n",
              "      <td>0.817546</td>\n",
              "      <td>0.775851</td>\n",
              "      <td>0.822788</td>\n",
              "      <td>0.798555</td>\n",
              "      <td>0.796544</td>\n",
              "      <td>0.178907</td>\n",
              "      <td>0.017102</td>\n",
              "      <td>0.106976</td>\n",
              "      <td>1.000000</td>\n",
              "    </tr>\n",
              "  </tbody>\n",
              "</table>\n",
              "</div>"
            ],
            "text/plain": [
              "                        Open      High  ...  %Deliverble  Total Value (Lacs)\n",
              "Open                1.000000  0.947808  ...     0.143781            0.817546\n",
              "High                0.947808  1.000000  ...     0.173815            0.775851\n",
              "Low                 0.977249  0.936600  ...     0.085908            0.822788\n",
              "Last                0.942637  0.950156  ...     0.063155            0.798555\n",
              "Close               0.943038  0.956371  ...     0.068395            0.796544\n",
              "Turnover            0.284973  0.361446  ...    -0.006051            0.178907\n",
              "Trades              0.079392  0.191765  ...     0.019849            0.017102\n",
              "%Deliverble         0.143781  0.173815  ...     1.000000            0.106976\n",
              "Total Value (Lacs)  0.817546  0.775851  ...     0.106976            1.000000\n",
              "\n",
              "[9 rows x 9 columns]"
            ]
          },
          "metadata": {
            "tags": []
          },
          "execution_count": 104
        }
      ]
    },
    {
      "cell_type": "markdown",
      "metadata": {
        "id": "vwrElstzyKKQ",
        "colab_type": "text"
      },
      "source": [
        "Used Seaborn to plot the time series"
      ]
    },
    {
      "cell_type": "code",
      "metadata": {
        "id": "lh5ZP7fuyRFO",
        "colab_type": "code",
        "outputId": "d24d7b97-4808-41ae-8a61-9ec339836e4e",
        "colab": {
          "base_uri": "https://localhost:8080/",
          "height": 298
        }
      },
      "source": [
        "x = data[\"Total Value (Lacs)\"]\n",
        "y = data[\"Open\"]\n",
        "sns.scatterplot(x,np.log(y))"
      ],
      "execution_count": 105,
      "outputs": [
        {
          "output_type": "execute_result",
          "data": {
            "text/plain": [
              "<matplotlib.axes._subplots.AxesSubplot at 0x7f19945fa748>"
            ]
          },
          "metadata": {
            "tags": []
          },
          "execution_count": 105
        },
        {
          "output_type": "display_data",
          "data": {
            "image/png": "[encoded data removed]",
            "text/plain": [
              "<Figure size 432x288 with 1 Axes>"
            ]
          },
          "metadata": {
            "tags": [],
            "needs_background": "light"
          }
        }
      ]
    },
    {
      "cell_type": "markdown",
      "metadata": {
        "id": "6Qrl3FgKXA8Z",
        "colab_type": "text"
      },
      "source": [
        "Plot regression line"
      ]
    },
    {
      "cell_type": "code",
      "metadata": {
        "id": "9kPhfHfey6Ur",
        "colab_type": "code",
        "outputId": "45d6eb1a-bce9-4236-977b-052df9215436",
        "colab": {
          "base_uri": "https://localhost:8080/",
          "height": 296
        }
      },
      "source": [
        "sns.regplot(x,y)"
      ],
      "execution_count": 106,
      "outputs": [
        {
          "output_type": "execute_result",
          "data": {
            "text/plain": [
              "<matplotlib.axes._subplots.AxesSubplot at 0x7f1994499f98>"
            ]
          },
          "metadata": {
            "tags": []
          },
          "execution_count": 106
        },
        {
          "output_type": "display_data",
          "data": {
            "image/png": "[encoded data removed]",
            "text/plain": [
              "<Figure size 432x288 with 1 Axes>"
            ]
          },
          "metadata": {
            "tags": [],
            "needs_background": "light"
          }
        }
      ]
    },
    {
      "cell_type": "markdown",
      "metadata": {
        "id": "bagrFsH5XMy7",
        "colab_type": "text"
      },
      "source": [
        "From the graph it can be observed that there is a increase in stock value as total value of crude oil increased. There is a positive correlation between stock price and Open stock market data"
      ]
    },
    {
      "cell_type": "markdown",
      "metadata": {
        "id": "IOx8mn8rTPnB",
        "colab_type": "text"
      },
      "source": [
        "# Machine learning\n",
        "\n",
        "Machine learning Part consists of two parts \n",
        "\n",
        "(1) Eicher Motors stock market prediction\n",
        "\n",
        "(2) Crude oil value prediction"
      ]
    },
    {
      "cell_type": "code",
      "metadata": {
        "id": "wYQt_yldTSD2",
        "colab_type": "code",
        "outputId": "6deefddf-7fd3-46f9-fad1-9518def917ee",
        "colab": {
          "base_uri": "https://localhost:8080/",
          "height": 358
        }
      },
      "source": [
        "#Import Eicher motors data \n",
        "stock_df=pd.read_csv(\"EICHERMOT.csv\")\n",
        "stock_df.set_index(\"Date\",inplace=True)\n",
        "#Import Crudeoil data\n",
        "crudeoil_df=pd.read_csv(\"Crudeoil.csv\")\n",
        "crudeoil_df.set_index(\"Date\",inplace=True)\n",
        "#Join the Eicher motors dataset and Crudeoil dataset\n",
        "data = stock_df.join(crudeoil_df,how=\"inner\")\n",
        "stock_data = data.reset_index()\n",
        "stock_data.head()"
      ],
      "execution_count": 107,
      "outputs": [
        {
          "output_type": "execute_result",
          "data": {
            "text/html": [
              "<div>\n",
              "<style scoped>\n",
              "    .dataframe tbody tr th:only-of-type {\n",
              "        vertical-align: middle;\n",
              "    }\n",
              "\n",
              "    .dataframe tbody tr th {\n",
              "        vertical-align: top;\n",
              "    }\n",
              "\n",
              "    .dataframe thead th {\n",
              "        text-align: right;\n",
              "    }\n",
              "</style>\n",
              "<table border=\"1\" class=\"dataframe\">\n",
              "  <thead>\n",
              "    <tr style=\"text-align: right;\">\n",
              "      <th></th>\n",
              "      <th>Date</th>\n",
              "      <th>Symbol</th>\n",
              "      <th>Series</th>\n",
              "      <th>Prev Close</th>\n",
              "      <th>Open</th>\n",
              "      <th>High</th>\n",
              "      <th>Low</th>\n",
              "      <th>Last</th>\n",
              "      <th>Close</th>\n",
              "      <th>VWAP</th>\n",
              "      <th>Volume</th>\n",
              "      <th>Turnover</th>\n",
              "      <th>Trades</th>\n",
              "      <th>Deliverable Volume</th>\n",
              "      <th>%Deliverble</th>\n",
              "      <th>Instrument Type</th>\n",
              "      <th>Segment</th>\n",
              "      <th>Commodity</th>\n",
              "      <th>Traded Contract(Lots)</th>\n",
              "      <th>Total Value (Lacs)</th>\n",
              "      <th>Avg Daily Turnover (Lacs)</th>\n",
              "    </tr>\n",
              "  </thead>\n",
              "  <tbody>\n",
              "    <tr>\n",
              "      <th>0</th>\n",
              "      <td>2020-02-24</td>\n",
              "      <td>EICHERMOT</td>\n",
              "      <td>EQ</td>\n",
              "      <td>18848.65</td>\n",
              "      <td>18700.0</td>\n",
              "      <td>18700.0</td>\n",
              "      <td>17800.10</td>\n",
              "      <td>17995.00</td>\n",
              "      <td>17949.95</td>\n",
              "      <td>18254.19</td>\n",
              "      <td>192821</td>\n",
              "      <td>3.519792e+14</td>\n",
              "      <td>44028.0</td>\n",
              "      <td>75285.0</td>\n",
              "      <td>0.3904</td>\n",
              "      <td>FUTCOM</td>\n",
              "      <td>ENERGY</td>\n",
              "      <td>CRUDEOIL</td>\n",
              "      <td>420476</td>\n",
              "      <td>1558751.70</td>\n",
              "      <td>0.0</td>\n",
              "    </tr>\n",
              "    <tr>\n",
              "      <th>1</th>\n",
              "      <td>2020-02-25</td>\n",
              "      <td>EICHERMOT</td>\n",
              "      <td>EQ</td>\n",
              "      <td>17949.95</td>\n",
              "      <td>18135.0</td>\n",
              "      <td>18230.0</td>\n",
              "      <td>17321.00</td>\n",
              "      <td>17555.05</td>\n",
              "      <td>17532.30</td>\n",
              "      <td>17572.72</td>\n",
              "      <td>256831</td>\n",
              "      <td>4.513220e+14</td>\n",
              "      <td>56676.0</td>\n",
              "      <td>104350.0</td>\n",
              "      <td>0.4063</td>\n",
              "      <td>FUTCOM</td>\n",
              "      <td>ENERGY</td>\n",
              "      <td>CRUDEOIL</td>\n",
              "      <td>505246</td>\n",
              "      <td>1865144.53</td>\n",
              "      <td>0.0</td>\n",
              "    </tr>\n",
              "    <tr>\n",
              "      <th>2</th>\n",
              "      <td>2020-02-26</td>\n",
              "      <td>EICHERMOT</td>\n",
              "      <td>EQ</td>\n",
              "      <td>17532.30</td>\n",
              "      <td>17430.0</td>\n",
              "      <td>17600.0</td>\n",
              "      <td>17035.40</td>\n",
              "      <td>17237.30</td>\n",
              "      <td>17156.95</td>\n",
              "      <td>17285.51</td>\n",
              "      <td>215113</td>\n",
              "      <td>3.718339e+14</td>\n",
              "      <td>54182.0</td>\n",
              "      <td>50775.0</td>\n",
              "      <td>0.2360</td>\n",
              "      <td>FUTCOM</td>\n",
              "      <td>ENERGY</td>\n",
              "      <td>CRUDEOIL</td>\n",
              "      <td>625902</td>\n",
              "      <td>2235781.23</td>\n",
              "      <td>0.0</td>\n",
              "    </tr>\n",
              "    <tr>\n",
              "      <th>3</th>\n",
              "      <td>2020-02-27</td>\n",
              "      <td>EICHERMOT</td>\n",
              "      <td>EQ</td>\n",
              "      <td>17156.95</td>\n",
              "      <td>17167.8</td>\n",
              "      <td>17248.0</td>\n",
              "      <td>16906.10</td>\n",
              "      <td>17085.00</td>\n",
              "      <td>17053.40</td>\n",
              "      <td>17044.09</td>\n",
              "      <td>255481</td>\n",
              "      <td>4.354441e+14</td>\n",
              "      <td>56698.0</td>\n",
              "      <td>107805.0</td>\n",
              "      <td>0.4220</td>\n",
              "      <td>FUTCOM</td>\n",
              "      <td>ENERGY</td>\n",
              "      <td>CRUDEOIL</td>\n",
              "      <td>713304</td>\n",
              "      <td>2423555.97</td>\n",
              "      <td>0.0</td>\n",
              "    </tr>\n",
              "    <tr>\n",
              "      <th>4</th>\n",
              "      <td>2020-02-28</td>\n",
              "      <td>EICHERMOT</td>\n",
              "      <td>EQ</td>\n",
              "      <td>17053.40</td>\n",
              "      <td>16697.0</td>\n",
              "      <td>16848.0</td>\n",
              "      <td>16317.05</td>\n",
              "      <td>16610.10</td>\n",
              "      <td>16602.35</td>\n",
              "      <td>16528.57</td>\n",
              "      <td>326455</td>\n",
              "      <td>5.395835e+14</td>\n",
              "      <td>65354.0</td>\n",
              "      <td>148997.0</td>\n",
              "      <td>0.4564</td>\n",
              "      <td>FUTCOM</td>\n",
              "      <td>ENERGY</td>\n",
              "      <td>CRUDEOIL</td>\n",
              "      <td>776254</td>\n",
              "      <td>2551718.69</td>\n",
              "      <td>0.0</td>\n",
              "    </tr>\n",
              "  </tbody>\n",
              "</table>\n",
              "</div>"
            ],
            "text/plain": [
              "         Date     Symbol  ... Total Value (Lacs)  Avg Daily Turnover (Lacs)\n",
              "0  2020-02-24  EICHERMOT  ...         1558751.70                        0.0\n",
              "1  2020-02-25  EICHERMOT  ...         1865144.53                        0.0\n",
              "2  2020-02-26  EICHERMOT  ...         2235781.23                        0.0\n",
              "3  2020-02-27  EICHERMOT  ...         2423555.97                        0.0\n",
              "4  2020-02-28  EICHERMOT  ...         2551718.69                        0.0\n",
              "\n",
              "[5 rows x 21 columns]"
            ]
          },
          "metadata": {
            "tags": []
          },
          "execution_count": 107
        }
      ]
    },
    {
      "cell_type": "markdown",
      "metadata": {
        "id": "izXxOP8vTZQ3",
        "colab_type": "text"
      },
      "source": [
        "Prepare the input dataset before applying the Facebook Prophet tool"
      ]
    },
    {
      "cell_type": "code",
      "metadata": {
        "id": "L0riNLLYaqhj",
        "colab_type": "code",
        "colab": {
          "base_uri": "https://localhost:8080/",
          "height": 412
        },
        "outputId": "364fa7a7-e976-49aa-a34c-058f4352b774"
      },
      "source": [
        "stock_prophet_open = stock_data[['Date','Open']]\n",
        "stock_prophet_open = stock_prophet_open.rename(columns = {'Date': 'ds', 'Open': 'y'})\n",
        "stock_prophet_open"
      ],
      "execution_count": 108,
      "outputs": [
        {
          "output_type": "execute_result",
          "data": {
            "text/html": [
              "<div>\n",
              "<style scoped>\n",
              "    .dataframe tbody tr th:only-of-type {\n",
              "        vertical-align: middle;\n",
              "    }\n",
              "\n",
              "    .dataframe tbody tr th {\n",
              "        vertical-align: top;\n",
              "    }\n",
              "\n",
              "    .dataframe thead th {\n",
              "        text-align: right;\n",
              "    }\n",
              "</style>\n",
              "<table border=\"1\" class=\"dataframe\">\n",
              "  <thead>\n",
              "    <tr style=\"text-align: right;\">\n",
              "      <th></th>\n",
              "      <th>ds</th>\n",
              "      <th>y</th>\n",
              "    </tr>\n",
              "  </thead>\n",
              "  <tbody>\n",
              "    <tr>\n",
              "      <th>0</th>\n",
              "      <td>2020-02-24</td>\n",
              "      <td>18700.0</td>\n",
              "    </tr>\n",
              "    <tr>\n",
              "      <th>1</th>\n",
              "      <td>2020-02-25</td>\n",
              "      <td>18135.0</td>\n",
              "    </tr>\n",
              "    <tr>\n",
              "      <th>2</th>\n",
              "      <td>2020-02-26</td>\n",
              "      <td>17430.0</td>\n",
              "    </tr>\n",
              "    <tr>\n",
              "      <th>3</th>\n",
              "      <td>2020-02-27</td>\n",
              "      <td>17167.8</td>\n",
              "    </tr>\n",
              "    <tr>\n",
              "      <th>4</th>\n",
              "      <td>2020-02-28</td>\n",
              "      <td>16697.0</td>\n",
              "    </tr>\n",
              "    <tr>\n",
              "      <th>...</th>\n",
              "      <td>...</td>\n",
              "      <td>...</td>\n",
              "    </tr>\n",
              "    <tr>\n",
              "      <th>58</th>\n",
              "      <td>2020-05-22</td>\n",
              "      <td>13901.0</td>\n",
              "    </tr>\n",
              "    <tr>\n",
              "      <th>59</th>\n",
              "      <td>2020-05-26</td>\n",
              "      <td>14105.0</td>\n",
              "    </tr>\n",
              "    <tr>\n",
              "      <th>60</th>\n",
              "      <td>2020-05-27</td>\n",
              "      <td>14880.0</td>\n",
              "    </tr>\n",
              "    <tr>\n",
              "      <th>61</th>\n",
              "      <td>2020-05-28</td>\n",
              "      <td>15120.0</td>\n",
              "    </tr>\n",
              "    <tr>\n",
              "      <th>62</th>\n",
              "      <td>2020-05-29</td>\n",
              "      <td>15903.0</td>\n",
              "    </tr>\n",
              "  </tbody>\n",
              "</table>\n",
              "<p>63 rows × 2 columns</p>\n",
              "</div>"
            ],
            "text/plain": [
              "            ds        y\n",
              "0   2020-02-24  18700.0\n",
              "1   2020-02-25  18135.0\n",
              "2   2020-02-26  17430.0\n",
              "3   2020-02-27  17167.8\n",
              "4   2020-02-28  16697.0\n",
              "..         ...      ...\n",
              "58  2020-05-22  13901.0\n",
              "59  2020-05-26  14105.0\n",
              "60  2020-05-27  14880.0\n",
              "61  2020-05-28  15120.0\n",
              "62  2020-05-29  15903.0\n",
              "\n",
              "[63 rows x 2 columns]"
            ]
          },
          "metadata": {
            "tags": []
          },
          "execution_count": 108
        }
      ]
    },
    {
      "cell_type": "markdown",
      "metadata": {
        "id": "8GqDejHiksQE",
        "colab_type": "text"
      },
      "source": [
        "Prophet is open source software released by Faceook's core Datascience team"
      ]
    },
    {
      "cell_type": "code",
      "metadata": {
        "id": "2k3q8m7wTiUI",
        "colab_type": "code",
        "colab": {
          "base_uri": "https://localhost:8080/",
          "height": 69
        },
        "outputId": "22358a4c-a3cd-412d-af8e-d19fb2670385"
      },
      "source": [
        "m = Prophet()\n",
        "m.fit(stock_prophet_open)"
      ],
      "execution_count": 109,
      "outputs": [
        {
          "output_type": "stream",
          "text": [
            "INFO:fbprophet:Disabling yearly seasonality. Run prophet with yearly_seasonality=True to override this.\n",
            "INFO:fbprophet:Disabling daily seasonality. Run prophet with daily_seasonality=True to override this.\n"
          ],
          "name": "stderr"
        },
        {
          "output_type": "execute_result",
          "data": {
            "text/plain": [
              "<fbprophet.forecaster.Prophet at 0x7f1994b2b080>"
            ]
          },
          "metadata": {
            "tags": []
          },
          "execution_count": 109
        }
      ]
    },
    {
      "cell_type": "markdown",
      "metadata": {
        "id": "Z9haYdyqlgku",
        "colab_type": "text"
      },
      "source": [
        "Lets develop the model and make prediction of stock value of Eicher motors for next 30 days\n"
      ]
    },
    {
      "cell_type": "code",
      "metadata": {
        "id": "fP9tosbYTgeR",
        "colab_type": "code",
        "colab": {}
      },
      "source": [
        "future = m.make_future_dataframe(periods = 30)\n",
        "future['day'] = future['ds'].dt.weekday\n",
        "future = future[future['day']<=4]"
      ],
      "execution_count": 0,
      "outputs": []
    },
    {
      "cell_type": "markdown",
      "metadata": {
        "id": "ddo_ynsoTncw",
        "colab_type": "text"
      },
      "source": [
        "Forecasting "
      ]
    },
    {
      "cell_type": "code",
      "metadata": {
        "id": "lt60mVyYTnuc",
        "colab_type": "code",
        "colab": {
          "base_uri": "https://localhost:8080/",
          "height": 604
        },
        "outputId": "cea8fd97-2d98-43e2-c8c2-67ea65f20c8f"
      },
      "source": [
        "forecast = m.predict(future)\n",
        "forecast"
      ],
      "execution_count": 111,
      "outputs": [
        {
          "output_type": "execute_result",
          "data": {
            "text/html": [
              "<div>\n",
              "<style scoped>\n",
              "    .dataframe tbody tr th:only-of-type {\n",
              "        vertical-align: middle;\n",
              "    }\n",
              "\n",
              "    .dataframe tbody tr th {\n",
              "        vertical-align: top;\n",
              "    }\n",
              "\n",
              "    .dataframe thead th {\n",
              "        text-align: right;\n",
              "    }\n",
              "</style>\n",
              "<table border=\"1\" class=\"dataframe\">\n",
              "  <thead>\n",
              "    <tr style=\"text-align: right;\">\n",
              "      <th></th>\n",
              "      <th>ds</th>\n",
              "      <th>trend</th>\n",
              "      <th>yhat_lower</th>\n",
              "      <th>yhat_upper</th>\n",
              "      <th>trend_lower</th>\n",
              "      <th>trend_upper</th>\n",
              "      <th>additive_terms</th>\n",
              "      <th>additive_terms_lower</th>\n",
              "      <th>additive_terms_upper</th>\n",
              "      <th>weekly</th>\n",
              "      <th>weekly_lower</th>\n",
              "      <th>weekly_upper</th>\n",
              "      <th>multiplicative_terms</th>\n",
              "      <th>multiplicative_terms_lower</th>\n",
              "      <th>multiplicative_terms_upper</th>\n",
              "      <th>yhat</th>\n",
              "    </tr>\n",
              "  </thead>\n",
              "  <tbody>\n",
              "    <tr>\n",
              "      <th>0</th>\n",
              "      <td>2020-02-24</td>\n",
              "      <td>10146.894124</td>\n",
              "      <td>17540.482134</td>\n",
              "      <td>19197.867451</td>\n",
              "      <td>10146.894124</td>\n",
              "      <td>10146.894124</td>\n",
              "      <td>8234.548505</td>\n",
              "      <td>8234.548505</td>\n",
              "      <td>8234.548505</td>\n",
              "      <td>8234.548505</td>\n",
              "      <td>8234.548505</td>\n",
              "      <td>8234.548505</td>\n",
              "      <td>0.0</td>\n",
              "      <td>0.0</td>\n",
              "      <td>0.0</td>\n",
              "      <td>18381.442628</td>\n",
              "    </tr>\n",
              "    <tr>\n",
              "      <th>1</th>\n",
              "      <td>2020-02-25</td>\n",
              "      <td>10029.553634</td>\n",
              "      <td>17202.832280</td>\n",
              "      <td>18839.317300</td>\n",
              "      <td>10029.553634</td>\n",
              "      <td>10029.553634</td>\n",
              "      <td>7985.535885</td>\n",
              "      <td>7985.535885</td>\n",
              "      <td>7985.535885</td>\n",
              "      <td>7985.535885</td>\n",
              "      <td>7985.535885</td>\n",
              "      <td>7985.535885</td>\n",
              "      <td>0.0</td>\n",
              "      <td>0.0</td>\n",
              "      <td>0.0</td>\n",
              "      <td>18015.089520</td>\n",
              "    </tr>\n",
              "    <tr>\n",
              "      <th>2</th>\n",
              "      <td>2020-02-26</td>\n",
              "      <td>9912.213145</td>\n",
              "      <td>17228.786950</td>\n",
              "      <td>18829.262148</td>\n",
              "      <td>9912.213145</td>\n",
              "      <td>9912.213145</td>\n",
              "      <td>8135.597907</td>\n",
              "      <td>8135.597907</td>\n",
              "      <td>8135.597907</td>\n",
              "      <td>8135.597907</td>\n",
              "      <td>8135.597907</td>\n",
              "      <td>8135.597907</td>\n",
              "      <td>0.0</td>\n",
              "      <td>0.0</td>\n",
              "      <td>0.0</td>\n",
              "      <td>18047.811052</td>\n",
              "    </tr>\n",
              "    <tr>\n",
              "      <th>3</th>\n",
              "      <td>2020-02-27</td>\n",
              "      <td>9794.872655</td>\n",
              "      <td>17043.922006</td>\n",
              "      <td>18683.479682</td>\n",
              "      <td>9794.872655</td>\n",
              "      <td>9794.872655</td>\n",
              "      <td>8072.385137</td>\n",
              "      <td>8072.385137</td>\n",
              "      <td>8072.385137</td>\n",
              "      <td>8072.385137</td>\n",
              "      <td>8072.385137</td>\n",
              "      <td>8072.385137</td>\n",
              "      <td>0.0</td>\n",
              "      <td>0.0</td>\n",
              "      <td>0.0</td>\n",
              "      <td>17867.257792</td>\n",
              "    </tr>\n",
              "    <tr>\n",
              "      <th>4</th>\n",
              "      <td>2020-02-28</td>\n",
              "      <td>9677.532166</td>\n",
              "      <td>16975.234957</td>\n",
              "      <td>18570.261708</td>\n",
              "      <td>9677.532166</td>\n",
              "      <td>9677.532166</td>\n",
              "      <td>8160.240069</td>\n",
              "      <td>8160.240069</td>\n",
              "      <td>8160.240069</td>\n",
              "      <td>8160.240069</td>\n",
              "      <td>8160.240069</td>\n",
              "      <td>8160.240069</td>\n",
              "      <td>0.0</td>\n",
              "      <td>0.0</td>\n",
              "      <td>0.0</td>\n",
              "      <td>17837.772235</td>\n",
              "    </tr>\n",
              "    <tr>\n",
              "      <th>...</th>\n",
              "      <td>...</td>\n",
              "      <td>...</td>\n",
              "      <td>...</td>\n",
              "      <td>...</td>\n",
              "      <td>...</td>\n",
              "      <td>...</td>\n",
              "      <td>...</td>\n",
              "      <td>...</td>\n",
              "      <td>...</td>\n",
              "      <td>...</td>\n",
              "      <td>...</td>\n",
              "      <td>...</td>\n",
              "      <td>...</td>\n",
              "      <td>...</td>\n",
              "      <td>...</td>\n",
              "      <td>...</td>\n",
              "    </tr>\n",
              "    <tr>\n",
              "      <th>78</th>\n",
              "      <td>2020-06-22</td>\n",
              "      <td>6495.473264</td>\n",
              "      <td>13782.536999</td>\n",
              "      <td>15584.893628</td>\n",
              "      <td>6184.847238</td>\n",
              "      <td>6821.629453</td>\n",
              "      <td>8234.548505</td>\n",
              "      <td>8234.548505</td>\n",
              "      <td>8234.548505</td>\n",
              "      <td>8234.548505</td>\n",
              "      <td>8234.548505</td>\n",
              "      <td>8234.548505</td>\n",
              "      <td>0.0</td>\n",
              "      <td>0.0</td>\n",
              "      <td>0.0</td>\n",
              "      <td>14730.021769</td>\n",
              "    </tr>\n",
              "    <tr>\n",
              "      <th>79</th>\n",
              "      <td>2020-06-23</td>\n",
              "      <td>6507.083042</td>\n",
              "      <td>13592.216151</td>\n",
              "      <td>15412.701284</td>\n",
              "      <td>6179.570043</td>\n",
              "      <td>6850.240646</td>\n",
              "      <td>7985.535885</td>\n",
              "      <td>7985.535885</td>\n",
              "      <td>7985.535885</td>\n",
              "      <td>7985.535885</td>\n",
              "      <td>7985.535885</td>\n",
              "      <td>7985.535885</td>\n",
              "      <td>0.0</td>\n",
              "      <td>0.0</td>\n",
              "      <td>0.0</td>\n",
              "      <td>14492.618927</td>\n",
              "    </tr>\n",
              "    <tr>\n",
              "      <th>80</th>\n",
              "      <td>2020-06-24</td>\n",
              "      <td>6518.692820</td>\n",
              "      <td>13750.226504</td>\n",
              "      <td>15495.233681</td>\n",
              "      <td>6166.230275</td>\n",
              "      <td>6876.111079</td>\n",
              "      <td>8135.597907</td>\n",
              "      <td>8135.597907</td>\n",
              "      <td>8135.597907</td>\n",
              "      <td>8135.597907</td>\n",
              "      <td>8135.597907</td>\n",
              "      <td>8135.597907</td>\n",
              "      <td>0.0</td>\n",
              "      <td>0.0</td>\n",
              "      <td>0.0</td>\n",
              "      <td>14654.290727</td>\n",
              "    </tr>\n",
              "    <tr>\n",
              "      <th>81</th>\n",
              "      <td>2020-06-25</td>\n",
              "      <td>6530.302597</td>\n",
              "      <td>13682.064798</td>\n",
              "      <td>15510.615735</td>\n",
              "      <td>6160.811950</td>\n",
              "      <td>6907.584228</td>\n",
              "      <td>8072.385137</td>\n",
              "      <td>8072.385137</td>\n",
              "      <td>8072.385137</td>\n",
              "      <td>8072.385137</td>\n",
              "      <td>8072.385137</td>\n",
              "      <td>8072.385137</td>\n",
              "      <td>0.0</td>\n",
              "      <td>0.0</td>\n",
              "      <td>0.0</td>\n",
              "      <td>14602.687734</td>\n",
              "    </tr>\n",
              "    <tr>\n",
              "      <th>82</th>\n",
              "      <td>2020-06-26</td>\n",
              "      <td>6541.912375</td>\n",
              "      <td>13819.905595</td>\n",
              "      <td>15596.447120</td>\n",
              "      <td>6149.224364</td>\n",
              "      <td>6937.460795</td>\n",
              "      <td>8160.240069</td>\n",
              "      <td>8160.240069</td>\n",
              "      <td>8160.240069</td>\n",
              "      <td>8160.240069</td>\n",
              "      <td>8160.240069</td>\n",
              "      <td>8160.240069</td>\n",
              "      <td>0.0</td>\n",
              "      <td>0.0</td>\n",
              "      <td>0.0</td>\n",
              "      <td>14702.152445</td>\n",
              "    </tr>\n",
              "  </tbody>\n",
              "</table>\n",
              "<p>83 rows × 16 columns</p>\n",
              "</div>"
            ],
            "text/plain": [
              "           ds         trend  ...  multiplicative_terms_upper          yhat\n",
              "0  2020-02-24  10146.894124  ...                         0.0  18381.442628\n",
              "1  2020-02-25  10029.553634  ...                         0.0  18015.089520\n",
              "2  2020-02-26   9912.213145  ...                         0.0  18047.811052\n",
              "3  2020-02-27   9794.872655  ...                         0.0  17867.257792\n",
              "4  2020-02-28   9677.532166  ...                         0.0  17837.772235\n",
              "..        ...           ...  ...                         ...           ...\n",
              "78 2020-06-22   6495.473264  ...                         0.0  14730.021769\n",
              "79 2020-06-23   6507.083042  ...                         0.0  14492.618927\n",
              "80 2020-06-24   6518.692820  ...                         0.0  14654.290727\n",
              "81 2020-06-25   6530.302597  ...                         0.0  14602.687734\n",
              "82 2020-06-26   6541.912375  ...                         0.0  14702.152445\n",
              "\n",
              "[83 rows x 16 columns]"
            ]
          },
          "metadata": {
            "tags": []
          },
          "execution_count": 111
        }
      ]
    },
    {
      "cell_type": "markdown",
      "metadata": {
        "id": "_scL9n8pTptJ",
        "colab_type": "text"
      },
      "source": [
        "Plot of existing and forecasted values of stock market"
      ]
    },
    {
      "cell_type": "code",
      "metadata": {
        "id": "SAvRRyvUTp_6",
        "colab_type": "code",
        "colab": {
          "base_uri": "https://localhost:8080/",
          "height": 441
        },
        "outputId": "31426cfa-3476-4d25-d61e-9f55cf5ec8ce"
      },
      "source": [
        "figure2 = m.plot(forecast,xlabel = 'Date', ylabel='stock_cases') "
      ],
      "execution_count": 112,
      "outputs": [
        {
          "output_type": "display_data",
          "data": {
            "image/png": "[encoded data removed]",
            "text/plain": [
              "<Figure size 720x432 with 1 Axes>"
            ]
          },
          "metadata": {
            "tags": []
          }
        }
      ]
    },
    {
      "cell_type": "markdown",
      "metadata": {
        "id": "-8L7wGL_TsK2",
        "colab_type": "text"
      },
      "source": [
        "There are two additional graphs:\n",
        "\n",
        "(1) Trend of stock market value\n",
        "\n",
        "(2) stock values based on the day"
      ]
    },
    {
      "cell_type": "code",
      "metadata": {
        "id": "kU--XtX2Ts_8",
        "colab_type": "code",
        "colab": {
          "base_uri": "https://localhost:8080/",
          "height": 441
        },
        "outputId": "072c0a31-d787-463d-fed8-bc3b7bc761f7"
      },
      "source": [
        "figure = m.plot_components(forecast)"
      ],
      "execution_count": 113,
      "outputs": [
        {
          "output_type": "display_data",
          "data": {
            "image/png": "[encoded data removed]",
            "text/plain": [
              "<Figure size 648x432 with 2 Axes>"
            ]
          },
          "metadata": {
            "tags": []
          }
        }
      ]
    },
    {
      "cell_type": "markdown",
      "metadata": {
        "id": "m5KJjkuLbDxJ",
        "colab_type": "text"
      },
      "source": [
        "# Predict the crude oil prices for next 30 days"
      ]
    },
    {
      "cell_type": "markdown",
      "metadata": {
        "id": "NXHdP9cMoWDh",
        "colab_type": "text"
      },
      "source": [
        "Prepare the crudeoil dataset to perform prediction using facebook prophet"
      ]
    },
    {
      "cell_type": "code",
      "metadata": {
        "id": "5YENS8nlbEUL",
        "colab_type": "code",
        "colab": {
          "base_uri": "https://localhost:8080/",
          "height": 412
        },
        "outputId": "dfb2284b-2d8a-470b-c508-15bc45f8c7af"
      },
      "source": [
        "\n",
        "stock_prophet_crudeoil = stock_data[['Date','Total Value (Lacs)']]\n",
        "stock_prophet_crudeoil = stock_prophet_crudeoil.rename(columns = {'Date': 'ds', 'Total Value (Lacs)': 'y'})\n",
        "stock_prophet_crudeoil"
      ],
      "execution_count": 114,
      "outputs": [
        {
          "output_type": "execute_result",
          "data": {
            "text/html": [
              "<div>\n",
              "<style scoped>\n",
              "    .dataframe tbody tr th:only-of-type {\n",
              "        vertical-align: middle;\n",
              "    }\n",
              "\n",
              "    .dataframe tbody tr th {\n",
              "        vertical-align: top;\n",
              "    }\n",
              "\n",
              "    .dataframe thead th {\n",
              "        text-align: right;\n",
              "    }\n",
              "</style>\n",
              "<table border=\"1\" class=\"dataframe\">\n",
              "  <thead>\n",
              "    <tr style=\"text-align: right;\">\n",
              "      <th></th>\n",
              "      <th>ds</th>\n",
              "      <th>y</th>\n",
              "    </tr>\n",
              "  </thead>\n",
              "  <tbody>\n",
              "    <tr>\n",
              "      <th>0</th>\n",
              "      <td>2020-02-24</td>\n",
              "      <td>1558751.70</td>\n",
              "    </tr>\n",
              "    <tr>\n",
              "      <th>1</th>\n",
              "      <td>2020-02-25</td>\n",
              "      <td>1865144.53</td>\n",
              "    </tr>\n",
              "    <tr>\n",
              "      <th>2</th>\n",
              "      <td>2020-02-26</td>\n",
              "      <td>2235781.23</td>\n",
              "    </tr>\n",
              "    <tr>\n",
              "      <th>3</th>\n",
              "      <td>2020-02-27</td>\n",
              "      <td>2423555.97</td>\n",
              "    </tr>\n",
              "    <tr>\n",
              "      <th>4</th>\n",
              "      <td>2020-02-28</td>\n",
              "      <td>2551718.69</td>\n",
              "    </tr>\n",
              "    <tr>\n",
              "      <th>...</th>\n",
              "      <td>...</td>\n",
              "      <td>...</td>\n",
              "    </tr>\n",
              "    <tr>\n",
              "      <th>58</th>\n",
              "      <td>2020-05-22</td>\n",
              "      <td>320081.40</td>\n",
              "    </tr>\n",
              "    <tr>\n",
              "      <th>59</th>\n",
              "      <td>2020-05-26</td>\n",
              "      <td>261137.31</td>\n",
              "    </tr>\n",
              "    <tr>\n",
              "      <th>60</th>\n",
              "      <td>2020-05-27</td>\n",
              "      <td>309445.73</td>\n",
              "    </tr>\n",
              "    <tr>\n",
              "      <th>61</th>\n",
              "      <td>2020-05-28</td>\n",
              "      <td>343999.45</td>\n",
              "    </tr>\n",
              "    <tr>\n",
              "      <th>62</th>\n",
              "      <td>2020-05-29</td>\n",
              "      <td>312519.83</td>\n",
              "    </tr>\n",
              "  </tbody>\n",
              "</table>\n",
              "<p>63 rows × 2 columns</p>\n",
              "</div>"
            ],
            "text/plain": [
              "            ds           y\n",
              "0   2020-02-24  1558751.70\n",
              "1   2020-02-25  1865144.53\n",
              "2   2020-02-26  2235781.23\n",
              "3   2020-02-27  2423555.97\n",
              "4   2020-02-28  2551718.69\n",
              "..         ...         ...\n",
              "58  2020-05-22   320081.40\n",
              "59  2020-05-26   261137.31\n",
              "60  2020-05-27   309445.73\n",
              "61  2020-05-28   343999.45\n",
              "62  2020-05-29   312519.83\n",
              "\n",
              "[63 rows x 2 columns]"
            ]
          },
          "metadata": {
            "tags": []
          },
          "execution_count": 114
        }
      ]
    },
    {
      "cell_type": "markdown",
      "metadata": {
        "id": "NBe16LkiqBY2",
        "colab_type": "text"
      },
      "source": [
        "Forecasting"
      ]
    },
    {
      "cell_type": "code",
      "metadata": {
        "id": "ck70nSNGbmbq",
        "colab_type": "code",
        "colab": {
          "base_uri": "https://localhost:8080/",
          "height": 475
        },
        "outputId": "7aa86874-9e14-4082-ef6f-a7d30474a7a4"
      },
      "source": [
        "n = Prophet()\n",
        "n.fit(stock_prophet_crudeoil)\n",
        "future = n.make_future_dataframe(periods = 30)\n",
        "future['day'] = future['ds'].dt.weekday\n",
        "future = future[future['day']<=4]\n",
        "forecast_crudeoil = n.predict(future)\n",
        "figure = n.plot(forecast_crudeoil,xlabel = 'Date', ylabel='Crudeoil_price')"
      ],
      "execution_count": 115,
      "outputs": [
        {
          "output_type": "stream",
          "text": [
            "INFO:fbprophet:Disabling yearly seasonality. Run prophet with yearly_seasonality=True to override this.\n",
            "INFO:fbprophet:Disabling daily seasonality. Run prophet with daily_seasonality=True to override this.\n"
          ],
          "name": "stderr"
        },
        {
          "output_type": "display_data",
          "data": {
            "image/png": "[encoded data removed]",
            "text/plain": [
              "<Figure size 720x432 with 1 Axes>"
            ]
          },
          "metadata": {
            "tags": []
          }
        }
      ]
    },
    {
      "cell_type": "code",
      "metadata": {
        "id": "D3o-Xsh31GAH",
        "colab_type": "code",
        "colab": {
          "base_uri": "https://localhost:8080/",
          "height": 441
        },
        "outputId": "d69ef221-5362-4d52-a943-bbc44df5b667"
      },
      "source": [
        "figure2 = m.plot_components(forecast_crudeoil)"
      ],
      "execution_count": 116,
      "outputs": [
        {
          "output_type": "display_data",
          "data": {
            "image/png": "[encoded data removed]",
            "text/plain": [
              "<Figure size 648x432 with 2 Axes>"
            ]
          },
          "metadata": {
            "tags": []
          }
        }
      ]
    }
  ]
}