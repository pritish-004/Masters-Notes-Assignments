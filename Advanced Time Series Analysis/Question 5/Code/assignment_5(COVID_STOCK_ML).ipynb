{
  "nbformat": 4,
  "nbformat_minor": 0,
  "metadata": {
    "colab": {
      "name": "assignment_5(COVID_STOCK_ML).ipynb",
      "provenance": [],
      "collapsed_sections": []
    },
    "kernelspec": {
      "name": "python3",
      "display_name": "Python 3"
    }
  },
  "cells": [
    {
      "cell_type": "markdown",
      "metadata": {
        "id": "X-CjkUf65aQi",
        "colab_type": "text"
      },
      "source": [
        "Install fbprophet package as follows:\n",
        "```\n",
        "!pip install fbprophet\n",
        "```\n",
        "\n",
        "If you encounter error, try:  \n",
        "\n",
        "```\n",
        "conda install -c conda-forge fbprophet\n",
        "```\n"
      ]
    },
    {
      "cell_type": "code",
      "metadata": {
        "id": "f1KrTX8nQvew",
        "colab_type": "code",
        "outputId": "16e01688-f54e-4ec2-c481-3a8bd8724f55",
        "colab": {
          "base_uri": "https://localhost:8080/",
          "height": 364
        }
      },
      "source": [
        "!pip install fbprophet"
      ],
      "execution_count": 0,
      "outputs": [
        {
          "output_type": "stream",
          "text": [
            "Requirement already satisfied: fbprophet in /usr/local/lib/python3.6/dist-packages (0.6)\n",
            "Requirement already satisfied: Cython>=0.22 in /usr/local/lib/python3.6/dist-packages (from fbprophet) (0.29.19)\n",
            "Requirement already satisfied: cmdstanpy==0.4 in /usr/local/lib/python3.6/dist-packages (from fbprophet) (0.4.0)\n",
            "Requirement already satisfied: pystan>=2.14 in /usr/local/lib/python3.6/dist-packages (from fbprophet) (2.19.1.1)\n",
            "Requirement already satisfied: numpy>=1.10.0 in /usr/local/lib/python3.6/dist-packages (from fbprophet) (1.18.5)\n",
            "Requirement already satisfied: pandas>=0.23.4 in /usr/local/lib/python3.6/dist-packages (from fbprophet) (1.0.4)\n",
            "Requirement already satisfied: matplotlib>=2.0.0 in /usr/local/lib/python3.6/dist-packages (from fbprophet) (3.2.1)\n",
            "Requirement already satisfied: LunarCalendar>=0.0.9 in /usr/local/lib/python3.6/dist-packages (from fbprophet) (0.0.9)\n",
            "Requirement already satisfied: convertdate>=2.1.2 in /usr/local/lib/python3.6/dist-packages (from fbprophet) (2.2.1)\n",
            "Requirement already satisfied: holidays>=0.9.5 in /usr/local/lib/python3.6/dist-packages (from fbprophet) (0.9.12)\n",
            "Requirement already satisfied: setuptools-git>=1.2 in /usr/local/lib/python3.6/dist-packages (from fbprophet) (1.2)\n",
            "Requirement already satisfied: python-dateutil>=2.8.0 in /usr/local/lib/python3.6/dist-packages (from fbprophet) (2.8.1)\n",
            "Requirement already satisfied: pytz>=2017.2 in /usr/local/lib/python3.6/dist-packages (from pandas>=0.23.4->fbprophet) (2018.9)\n",
            "Requirement already satisfied: kiwisolver>=1.0.1 in /usr/local/lib/python3.6/dist-packages (from matplotlib>=2.0.0->fbprophet) (1.2.0)\n",
            "Requirement already satisfied: cycler>=0.10 in /usr/local/lib/python3.6/dist-packages (from matplotlib>=2.0.0->fbprophet) (0.10.0)\n",
            "Requirement already satisfied: pyparsing!=2.0.4,!=2.1.2,!=2.1.6,>=2.0.1 in /usr/local/lib/python3.6/dist-packages (from matplotlib>=2.0.0->fbprophet) (2.4.7)\n",
            "Requirement already satisfied: ephem>=3.7.5.3 in /usr/local/lib/python3.6/dist-packages (from LunarCalendar>=0.0.9->fbprophet) (3.7.7.1)\n",
            "Requirement already satisfied: pymeeus<=1,>=0.3.6 in /usr/local/lib/python3.6/dist-packages (from convertdate>=2.1.2->fbprophet) (0.3.7)\n",
            "Requirement already satisfied: six in /usr/local/lib/python3.6/dist-packages (from holidays>=0.9.5->fbprophet) (1.12.0)\n"
          ],
          "name": "stdout"
        }
      ]
    },
    {
      "cell_type": "code",
      "metadata": {
        "id": "pd44PfV4gywq",
        "colab_type": "code",
        "colab": {}
      },
      "source": [
        "# import libraries\n",
        "import pandas as pd # Import Numpy for data manipulation using dataframe\n",
        "import numpy as np # Import Numpy for Data statistical Analysis\n",
        "import seaborn as sns # Import Matplotlib for data analysis\n",
        "import matplotlib.pyplot as plt\n",
        "from fbprophet import Prophet"
      ],
      "execution_count": 0,
      "outputs": []
    },
    {
      "cell_type": "markdown",
      "metadata": {
        "id": "rc8CWp_UhmPY",
        "colab_type": "text"
      },
      "source": [
        "Import data for Eicher motors stock dataset"
      ]
    },
    {
      "cell_type": "code",
      "metadata": {
        "id": "WmgyuMTzhg5d",
        "colab_type": "code",
        "outputId": "6067eb1e-56dc-46f3-9ca6-feb746d2710d",
        "colab": {
          "base_uri": "https://localhost:8080/",
          "height": 561
        }
      },
      "source": [
        "stock_dataset_csv = pd.read_csv(\"EICHERMOT.csv\")\n",
        "stock_dataset_csv.head(10)"
      ],
      "execution_count": 0,
      "outputs": [
        {
          "output_type": "execute_result",
          "data": {
            "text/html": [
              "<div>\n",
              "<style scoped>\n",
              "    .dataframe tbody tr th:only-of-type {\n",
              "        vertical-align: middle;\n",
              "    }\n",
              "\n",
              "    .dataframe tbody tr th {\n",
              "        vertical-align: top;\n",
              "    }\n",
              "\n",
              "    .dataframe thead th {\n",
              "        text-align: right;\n",
              "    }\n",
              "</style>\n",
              "<table border=\"1\" class=\"dataframe\">\n",
              "  <thead>\n",
              "    <tr style=\"text-align: right;\">\n",
              "      <th></th>\n",
              "      <th>Date</th>\n",
              "      <th>Symbol</th>\n",
              "      <th>Series</th>\n",
              "      <th>Prev Close</th>\n",
              "      <th>Open</th>\n",
              "      <th>High</th>\n",
              "      <th>Low</th>\n",
              "      <th>Last</th>\n",
              "      <th>Close</th>\n",
              "      <th>VWAP</th>\n",
              "      <th>Volume</th>\n",
              "      <th>Turnover</th>\n",
              "      <th>Trades</th>\n",
              "      <th>Deliverable Volume</th>\n",
              "      <th>%Deliverble</th>\n",
              "    </tr>\n",
              "  </thead>\n",
              "  <tbody>\n",
              "    <tr>\n",
              "      <th>0</th>\n",
              "      <td>2020-02-24</td>\n",
              "      <td>EICHERMOT</td>\n",
              "      <td>EQ</td>\n",
              "      <td>18848.65</td>\n",
              "      <td>18700.0</td>\n",
              "      <td>18700.0</td>\n",
              "      <td>17800.10</td>\n",
              "      <td>17995.00</td>\n",
              "      <td>17949.95</td>\n",
              "      <td>18254.19</td>\n",
              "      <td>192821</td>\n",
              "      <td>3.519792e+14</td>\n",
              "      <td>44028.0</td>\n",
              "      <td>75285.0</td>\n",
              "      <td>0.3904</td>\n",
              "    </tr>\n",
              "    <tr>\n",
              "      <th>1</th>\n",
              "      <td>2020-02-25</td>\n",
              "      <td>EICHERMOT</td>\n",
              "      <td>EQ</td>\n",
              "      <td>17949.95</td>\n",
              "      <td>18135.0</td>\n",
              "      <td>18230.0</td>\n",
              "      <td>17321.00</td>\n",
              "      <td>17555.05</td>\n",
              "      <td>17532.30</td>\n",
              "      <td>17572.72</td>\n",
              "      <td>256831</td>\n",
              "      <td>4.513220e+14</td>\n",
              "      <td>56676.0</td>\n",
              "      <td>104350.0</td>\n",
              "      <td>0.4063</td>\n",
              "    </tr>\n",
              "    <tr>\n",
              "      <th>2</th>\n",
              "      <td>2020-02-26</td>\n",
              "      <td>EICHERMOT</td>\n",
              "      <td>EQ</td>\n",
              "      <td>17532.30</td>\n",
              "      <td>17430.0</td>\n",
              "      <td>17600.0</td>\n",
              "      <td>17035.40</td>\n",
              "      <td>17237.30</td>\n",
              "      <td>17156.95</td>\n",
              "      <td>17285.51</td>\n",
              "      <td>215113</td>\n",
              "      <td>3.718339e+14</td>\n",
              "      <td>54182.0</td>\n",
              "      <td>50775.0</td>\n",
              "      <td>0.2360</td>\n",
              "    </tr>\n",
              "    <tr>\n",
              "      <th>3</th>\n",
              "      <td>2020-02-27</td>\n",
              "      <td>EICHERMOT</td>\n",
              "      <td>EQ</td>\n",
              "      <td>17156.95</td>\n",
              "      <td>17167.8</td>\n",
              "      <td>17248.0</td>\n",
              "      <td>16906.10</td>\n",
              "      <td>17085.00</td>\n",
              "      <td>17053.40</td>\n",
              "      <td>17044.09</td>\n",
              "      <td>255481</td>\n",
              "      <td>4.354441e+14</td>\n",
              "      <td>56698.0</td>\n",
              "      <td>107805.0</td>\n",
              "      <td>0.4220</td>\n",
              "    </tr>\n",
              "    <tr>\n",
              "      <th>4</th>\n",
              "      <td>2020-02-28</td>\n",
              "      <td>EICHERMOT</td>\n",
              "      <td>EQ</td>\n",
              "      <td>17053.40</td>\n",
              "      <td>16697.0</td>\n",
              "      <td>16848.0</td>\n",
              "      <td>16317.05</td>\n",
              "      <td>16610.10</td>\n",
              "      <td>16602.35</td>\n",
              "      <td>16528.57</td>\n",
              "      <td>326455</td>\n",
              "      <td>5.395835e+14</td>\n",
              "      <td>65354.0</td>\n",
              "      <td>148997.0</td>\n",
              "      <td>0.4564</td>\n",
              "    </tr>\n",
              "    <tr>\n",
              "      <th>5</th>\n",
              "      <td>2020-03-02</td>\n",
              "      <td>EICHERMOT</td>\n",
              "      <td>EQ</td>\n",
              "      <td>16602.35</td>\n",
              "      <td>16666.0</td>\n",
              "      <td>17782.9</td>\n",
              "      <td>16643.00</td>\n",
              "      <td>17013.40</td>\n",
              "      <td>17013.40</td>\n",
              "      <td>17290.64</td>\n",
              "      <td>348370</td>\n",
              "      <td>6.023539e+14</td>\n",
              "      <td>74505.0</td>\n",
              "      <td>32873.0</td>\n",
              "      <td>0.0944</td>\n",
              "    </tr>\n",
              "    <tr>\n",
              "      <th>6</th>\n",
              "      <td>2020-03-03</td>\n",
              "      <td>EICHERMOT</td>\n",
              "      <td>EQ</td>\n",
              "      <td>17013.40</td>\n",
              "      <td>17500.0</td>\n",
              "      <td>18041.0</td>\n",
              "      <td>17400.00</td>\n",
              "      <td>17950.00</td>\n",
              "      <td>17888.45</td>\n",
              "      <td>17694.39</td>\n",
              "      <td>274740</td>\n",
              "      <td>4.861358e+14</td>\n",
              "      <td>68868.0</td>\n",
              "      <td>57676.0</td>\n",
              "      <td>0.2099</td>\n",
              "    </tr>\n",
              "    <tr>\n",
              "      <th>7</th>\n",
              "      <td>2020-03-04</td>\n",
              "      <td>EICHERMOT</td>\n",
              "      <td>EQ</td>\n",
              "      <td>17888.45</td>\n",
              "      <td>17954.0</td>\n",
              "      <td>18280.0</td>\n",
              "      <td>16870.00</td>\n",
              "      <td>17171.55</td>\n",
              "      <td>17254.20</td>\n",
              "      <td>17301.52</td>\n",
              "      <td>418609</td>\n",
              "      <td>7.242574e+14</td>\n",
              "      <td>79891.0</td>\n",
              "      <td>148265.0</td>\n",
              "      <td>0.3542</td>\n",
              "    </tr>\n",
              "    <tr>\n",
              "      <th>8</th>\n",
              "      <td>2020-03-05</td>\n",
              "      <td>EICHERMOT</td>\n",
              "      <td>EQ</td>\n",
              "      <td>17254.20</td>\n",
              "      <td>17450.0</td>\n",
              "      <td>17888.0</td>\n",
              "      <td>17161.80</td>\n",
              "      <td>17765.55</td>\n",
              "      <td>17775.35</td>\n",
              "      <td>17626.16</td>\n",
              "      <td>231375</td>\n",
              "      <td>4.078253e+14</td>\n",
              "      <td>52927.0</td>\n",
              "      <td>46350.0</td>\n",
              "      <td>0.2003</td>\n",
              "    </tr>\n",
              "    <tr>\n",
              "      <th>9</th>\n",
              "      <td>2020-03-06</td>\n",
              "      <td>EICHERMOT</td>\n",
              "      <td>EQ</td>\n",
              "      <td>17775.35</td>\n",
              "      <td>17350.0</td>\n",
              "      <td>17871.5</td>\n",
              "      <td>16822.00</td>\n",
              "      <td>17810.00</td>\n",
              "      <td>17743.55</td>\n",
              "      <td>17461.91</td>\n",
              "      <td>170791</td>\n",
              "      <td>2.982337e+14</td>\n",
              "      <td>47537.0</td>\n",
              "      <td>32484.0</td>\n",
              "      <td>0.1902</td>\n",
              "    </tr>\n",
              "  </tbody>\n",
              "</table>\n",
              "</div>"
            ],
            "text/plain": [
              "         Date     Symbol Series  ...   Trades  Deliverable Volume  %Deliverble\n",
              "0  2020-02-24  EICHERMOT     EQ  ...  44028.0             75285.0       0.3904\n",
              "1  2020-02-25  EICHERMOT     EQ  ...  56676.0            104350.0       0.4063\n",
              "2  2020-02-26  EICHERMOT     EQ  ...  54182.0             50775.0       0.2360\n",
              "3  2020-02-27  EICHERMOT     EQ  ...  56698.0            107805.0       0.4220\n",
              "4  2020-02-28  EICHERMOT     EQ  ...  65354.0            148997.0       0.4564\n",
              "5  2020-03-02  EICHERMOT     EQ  ...  74505.0             32873.0       0.0944\n",
              "6  2020-03-03  EICHERMOT     EQ  ...  68868.0             57676.0       0.2099\n",
              "7  2020-03-04  EICHERMOT     EQ  ...  79891.0            148265.0       0.3542\n",
              "8  2020-03-05  EICHERMOT     EQ  ...  52927.0             46350.0       0.2003\n",
              "9  2020-03-06  EICHERMOT     EQ  ...  47537.0             32484.0       0.1902\n",
              "\n",
              "[10 rows x 15 columns]"
            ]
          },
          "metadata": {
            "tags": []
          },
          "execution_count": 267
        }
      ]
    },
    {
      "cell_type": "markdown",
      "metadata": {
        "id": "UJ-KHgWaj2az",
        "colab_type": "text"
      },
      "source": [
        "Size of Eicher motor Dataset\n",
        "\n",
        " Its 63 days data "
      ]
    },
    {
      "cell_type": "code",
      "metadata": {
        "id": "aXmVq56hj2ky",
        "colab_type": "code",
        "outputId": "5fc6ef35-576a-4ace-b2c7-c365b1fcb927",
        "colab": {
          "base_uri": "https://localhost:8080/",
          "height": 34
        }
      },
      "source": [
        "stock_dataset_csv.shape"
      ],
      "execution_count": 0,
      "outputs": [
        {
          "output_type": "execute_result",
          "data": {
            "text/plain": [
              "(63, 15)"
            ]
          },
          "metadata": {
            "tags": []
          },
          "execution_count": 268
        }
      ]
    },
    {
      "cell_type": "markdown",
      "metadata": {
        "id": "lzJSPVcCkCRY",
        "colab_type": "text"
      },
      "source": [
        "Remove unnecessary columns"
      ]
    },
    {
      "cell_type": "code",
      "metadata": {
        "id": "4_nk9HqQkCaK",
        "colab_type": "code",
        "outputId": "3ad75f66-426f-45cb-d912-9ee5da7f2d04",
        "colab": {
          "base_uri": "https://localhost:8080/",
          "height": 352
        }
      },
      "source": [
        "stock_dataset_csv.drop([\"Symbol\",\"Series\",\"Prev Close\",\"VWAP\",\"Volume\",\"Deliverable Volume\"],axis=1,inplace=True)\n",
        "stock_dataset_csv.head(10)"
      ],
      "execution_count": 0,
      "outputs": [
        {
          "output_type": "execute_result",
          "data": {
            "text/html": [
              "<div>\n",
              "<style scoped>\n",
              "    .dataframe tbody tr th:only-of-type {\n",
              "        vertical-align: middle;\n",
              "    }\n",
              "\n",
              "    .dataframe tbody tr th {\n",
              "        vertical-align: top;\n",
              "    }\n",
              "\n",
              "    .dataframe thead th {\n",
              "        text-align: right;\n",
              "    }\n",
              "</style>\n",
              "<table border=\"1\" class=\"dataframe\">\n",
              "  <thead>\n",
              "    <tr style=\"text-align: right;\">\n",
              "      <th></th>\n",
              "      <th>Date</th>\n",
              "      <th>Open</th>\n",
              "      <th>High</th>\n",
              "      <th>Low</th>\n",
              "      <th>Last</th>\n",
              "      <th>Close</th>\n",
              "      <th>Turnover</th>\n",
              "      <th>Trades</th>\n",
              "      <th>%Deliverble</th>\n",
              "    </tr>\n",
              "  </thead>\n",
              "  <tbody>\n",
              "    <tr>\n",
              "      <th>0</th>\n",
              "      <td>2020-02-24</td>\n",
              "      <td>18700.0</td>\n",
              "      <td>18700.0</td>\n",
              "      <td>17800.10</td>\n",
              "      <td>17995.00</td>\n",
              "      <td>17949.95</td>\n",
              "      <td>3.519792e+14</td>\n",
              "      <td>44028.0</td>\n",
              "      <td>0.3904</td>\n",
              "    </tr>\n",
              "    <tr>\n",
              "      <th>1</th>\n",
              "      <td>2020-02-25</td>\n",
              "      <td>18135.0</td>\n",
              "      <td>18230.0</td>\n",
              "      <td>17321.00</td>\n",
              "      <td>17555.05</td>\n",
              "      <td>17532.30</td>\n",
              "      <td>4.513220e+14</td>\n",
              "      <td>56676.0</td>\n",
              "      <td>0.4063</td>\n",
              "    </tr>\n",
              "    <tr>\n",
              "      <th>2</th>\n",
              "      <td>2020-02-26</td>\n",
              "      <td>17430.0</td>\n",
              "      <td>17600.0</td>\n",
              "      <td>17035.40</td>\n",
              "      <td>17237.30</td>\n",
              "      <td>17156.95</td>\n",
              "      <td>3.718339e+14</td>\n",
              "      <td>54182.0</td>\n",
              "      <td>0.2360</td>\n",
              "    </tr>\n",
              "    <tr>\n",
              "      <th>3</th>\n",
              "      <td>2020-02-27</td>\n",
              "      <td>17167.8</td>\n",
              "      <td>17248.0</td>\n",
              "      <td>16906.10</td>\n",
              "      <td>17085.00</td>\n",
              "      <td>17053.40</td>\n",
              "      <td>4.354441e+14</td>\n",
              "      <td>56698.0</td>\n",
              "      <td>0.4220</td>\n",
              "    </tr>\n",
              "    <tr>\n",
              "      <th>4</th>\n",
              "      <td>2020-02-28</td>\n",
              "      <td>16697.0</td>\n",
              "      <td>16848.0</td>\n",
              "      <td>16317.05</td>\n",
              "      <td>16610.10</td>\n",
              "      <td>16602.35</td>\n",
              "      <td>5.395835e+14</td>\n",
              "      <td>65354.0</td>\n",
              "      <td>0.4564</td>\n",
              "    </tr>\n",
              "    <tr>\n",
              "      <th>5</th>\n",
              "      <td>2020-03-02</td>\n",
              "      <td>16666.0</td>\n",
              "      <td>17782.9</td>\n",
              "      <td>16643.00</td>\n",
              "      <td>17013.40</td>\n",
              "      <td>17013.40</td>\n",
              "      <td>6.023539e+14</td>\n",
              "      <td>74505.0</td>\n",
              "      <td>0.0944</td>\n",
              "    </tr>\n",
              "    <tr>\n",
              "      <th>6</th>\n",
              "      <td>2020-03-03</td>\n",
              "      <td>17500.0</td>\n",
              "      <td>18041.0</td>\n",
              "      <td>17400.00</td>\n",
              "      <td>17950.00</td>\n",
              "      <td>17888.45</td>\n",
              "      <td>4.861358e+14</td>\n",
              "      <td>68868.0</td>\n",
              "      <td>0.2099</td>\n",
              "    </tr>\n",
              "    <tr>\n",
              "      <th>7</th>\n",
              "      <td>2020-03-04</td>\n",
              "      <td>17954.0</td>\n",
              "      <td>18280.0</td>\n",
              "      <td>16870.00</td>\n",
              "      <td>17171.55</td>\n",
              "      <td>17254.20</td>\n",
              "      <td>7.242574e+14</td>\n",
              "      <td>79891.0</td>\n",
              "      <td>0.3542</td>\n",
              "    </tr>\n",
              "    <tr>\n",
              "      <th>8</th>\n",
              "      <td>2020-03-05</td>\n",
              "      <td>17450.0</td>\n",
              "      <td>17888.0</td>\n",
              "      <td>17161.80</td>\n",
              "      <td>17765.55</td>\n",
              "      <td>17775.35</td>\n",
              "      <td>4.078253e+14</td>\n",
              "      <td>52927.0</td>\n",
              "      <td>0.2003</td>\n",
              "    </tr>\n",
              "    <tr>\n",
              "      <th>9</th>\n",
              "      <td>2020-03-06</td>\n",
              "      <td>17350.0</td>\n",
              "      <td>17871.5</td>\n",
              "      <td>16822.00</td>\n",
              "      <td>17810.00</td>\n",
              "      <td>17743.55</td>\n",
              "      <td>2.982337e+14</td>\n",
              "      <td>47537.0</td>\n",
              "      <td>0.1902</td>\n",
              "    </tr>\n",
              "  </tbody>\n",
              "</table>\n",
              "</div>"
            ],
            "text/plain": [
              "         Date     Open     High  ...      Turnover   Trades  %Deliverble\n",
              "0  2020-02-24  18700.0  18700.0  ...  3.519792e+14  44028.0       0.3904\n",
              "1  2020-02-25  18135.0  18230.0  ...  4.513220e+14  56676.0       0.4063\n",
              "2  2020-02-26  17430.0  17600.0  ...  3.718339e+14  54182.0       0.2360\n",
              "3  2020-02-27  17167.8  17248.0  ...  4.354441e+14  56698.0       0.4220\n",
              "4  2020-02-28  16697.0  16848.0  ...  5.395835e+14  65354.0       0.4564\n",
              "5  2020-03-02  16666.0  17782.9  ...  6.023539e+14  74505.0       0.0944\n",
              "6  2020-03-03  17500.0  18041.0  ...  4.861358e+14  68868.0       0.2099\n",
              "7  2020-03-04  17954.0  18280.0  ...  7.242574e+14  79891.0       0.3542\n",
              "8  2020-03-05  17450.0  17888.0  ...  4.078253e+14  52927.0       0.2003\n",
              "9  2020-03-06  17350.0  17871.5  ...  2.982337e+14  47537.0       0.1902\n",
              "\n",
              "[10 rows x 9 columns]"
            ]
          },
          "metadata": {
            "tags": []
          },
          "execution_count": 269
        }
      ]
    },
    {
      "cell_type": "markdown",
      "metadata": {
        "id": "vOBBMtL25Yej",
        "colab_type": "text"
      },
      "source": [
        "Plot Open values of stock w.r.t to date"
      ]
    },
    {
      "cell_type": "code",
      "metadata": {
        "id": "KLHPWqYal1Xw",
        "colab_type": "code",
        "outputId": "3c3139c8-591c-4401-c505-d10f9201a8fb",
        "colab": {
          "base_uri": "https://localhost:8080/",
          "height": 663
        }
      },
      "source": [
        "plt.figure(figsize=(10,10))\n",
        "plt.plot(stock_dataset_csv[\"Date\"],stock_dataset_csv[\"Open\"])"
      ],
      "execution_count": 270,
      "outputs": [
        {
          "output_type": "stream",
          "text": [
            "INFO:matplotlib.category:Using categorical units to plot a list of strings that are all parsable as floats or dates. If these strings should be plotted as numbers, cast to the appropriate data type before plotting.\n",
            "INFO:matplotlib.category:Using categorical units to plot a list of strings that are all parsable as floats or dates. If these strings should be plotted as numbers, cast to the appropriate data type before plotting.\n"
          ],
          "name": "stderr"
        },
        {
          "output_type": "execute_result",
          "data": {
            "text/plain": [
              "[<matplotlib.lines.Line2D at 0x7f05a84456d8>]"
            ]
          },
          "metadata": {
            "tags": []
          },
          "execution_count": 270
        },
        {
          "output_type": "display_data",
          "data": {
            "image/png": "[encoded data removed]",
            "text/plain": [
              "<Figure size 720x720 with 1 Axes>"
            ]
          },
          "metadata": {
            "tags": [],
            "needs_background": "light"
          }
        }
      ]
    },
    {
      "cell_type": "markdown",
      "metadata": {
        "id": "1fc-e6tAl52c",
        "colab_type": "text"
      },
      "source": [
        "Plot Open and Close values together"
      ]
    },
    {
      "cell_type": "code",
      "metadata": {
        "id": "NQEpeXGHmCTe",
        "colab_type": "code",
        "colab": {
          "base_uri": "https://localhost:8080/",
          "height": 286
        },
        "outputId": "028f17b1-91bb-4d4b-e191-90b9d3d490b7"
      },
      "source": [
        "stock_dataset_csv.plot(y=[\"Open\",\"Close\"])"
      ],
      "execution_count": 271,
      "outputs": [
        {
          "output_type": "execute_result",
          "data": {
            "text/plain": [
              "<matplotlib.axes._subplots.AxesSubplot at 0x7f05a844f198>"
            ]
          },
          "metadata": {
            "tags": []
          },
          "execution_count": 271
        },
        {
          "output_type": "display_data",
          "data": {
            "image/png": "[encoded data removed]",
            "text/plain": [
              "<Figure size 432x288 with 1 Axes>"
            ]
          },
          "metadata": {
            "tags": [],
            "needs_background": "light"
          }
        }
      ]
    },
    {
      "cell_type": "markdown",
      "metadata": {
        "id": "d_E1Yd_ymcbh",
        "colab_type": "text"
      },
      "source": [
        "Import Novel corona cases dataset measured per day"
      ]
    },
    {
      "cell_type": "code",
      "metadata": {
        "id": "4V1nltibp1Lt",
        "colab_type": "code",
        "colab": {
          "base_uri": "https://localhost:8080/",
          "height": 303
        },
        "outputId": "b5c5e3fb-39a2-4c68-c992-7a87277b6fc0"
      },
      "source": [
        "corona_report_csv=pd.read_csv(\"india_day_wise.csv\")\n",
        "corona_report_csv.head()"
      ],
      "execution_count": 272,
      "outputs": [
        {
          "output_type": "execute_result",
          "data": {
            "text/html": [
              "<div>\n",
              "<style scoped>\n",
              "    .dataframe tbody tr th:only-of-type {\n",
              "        vertical-align: middle;\n",
              "    }\n",
              "\n",
              "    .dataframe tbody tr th {\n",
              "        vertical-align: top;\n",
              "    }\n",
              "\n",
              "    .dataframe thead th {\n",
              "        text-align: right;\n",
              "    }\n",
              "</style>\n",
              "<table border=\"1\" class=\"dataframe\">\n",
              "  <thead>\n",
              "    <tr style=\"text-align: right;\">\n",
              "      <th></th>\n",
              "      <th>Date</th>\n",
              "      <th>Confirmed</th>\n",
              "      <th>Deaths</th>\n",
              "      <th>Recovered</th>\n",
              "      <th>Active</th>\n",
              "      <th>New cases</th>\n",
              "      <th>New deaths</th>\n",
              "      <th>New recovered</th>\n",
              "      <th>Deaths / 100 Cases</th>\n",
              "      <th>Recovered / 100 Cases</th>\n",
              "      <th>Deaths / 100 Recovered</th>\n",
              "      <th>No. of countries</th>\n",
              "    </tr>\n",
              "  </thead>\n",
              "  <tbody>\n",
              "    <tr>\n",
              "      <th>0</th>\n",
              "      <td>2020-01-22</td>\n",
              "      <td>555</td>\n",
              "      <td>17</td>\n",
              "      <td>28</td>\n",
              "      <td>510</td>\n",
              "      <td>0</td>\n",
              "      <td>0</td>\n",
              "      <td>0</td>\n",
              "      <td>3.06</td>\n",
              "      <td>5.05</td>\n",
              "      <td>60.71</td>\n",
              "      <td>6</td>\n",
              "    </tr>\n",
              "    <tr>\n",
              "      <th>1</th>\n",
              "      <td>2020-01-23</td>\n",
              "      <td>654</td>\n",
              "      <td>18</td>\n",
              "      <td>30</td>\n",
              "      <td>606</td>\n",
              "      <td>99</td>\n",
              "      <td>1</td>\n",
              "      <td>2</td>\n",
              "      <td>2.75</td>\n",
              "      <td>4.59</td>\n",
              "      <td>60.00</td>\n",
              "      <td>8</td>\n",
              "    </tr>\n",
              "    <tr>\n",
              "      <th>2</th>\n",
              "      <td>2020-01-24</td>\n",
              "      <td>941</td>\n",
              "      <td>26</td>\n",
              "      <td>36</td>\n",
              "      <td>879</td>\n",
              "      <td>287</td>\n",
              "      <td>8</td>\n",
              "      <td>6</td>\n",
              "      <td>2.76</td>\n",
              "      <td>3.83</td>\n",
              "      <td>72.22</td>\n",
              "      <td>9</td>\n",
              "    </tr>\n",
              "    <tr>\n",
              "      <th>3</th>\n",
              "      <td>2020-01-25</td>\n",
              "      <td>1434</td>\n",
              "      <td>42</td>\n",
              "      <td>39</td>\n",
              "      <td>1353</td>\n",
              "      <td>493</td>\n",
              "      <td>16</td>\n",
              "      <td>3</td>\n",
              "      <td>2.93</td>\n",
              "      <td>2.72</td>\n",
              "      <td>107.69</td>\n",
              "      <td>11</td>\n",
              "    </tr>\n",
              "    <tr>\n",
              "      <th>4</th>\n",
              "      <td>2020-01-26</td>\n",
              "      <td>2118</td>\n",
              "      <td>56</td>\n",
              "      <td>52</td>\n",
              "      <td>2010</td>\n",
              "      <td>684</td>\n",
              "      <td>14</td>\n",
              "      <td>13</td>\n",
              "      <td>2.64</td>\n",
              "      <td>2.46</td>\n",
              "      <td>107.69</td>\n",
              "      <td>13</td>\n",
              "    </tr>\n",
              "  </tbody>\n",
              "</table>\n",
              "</div>"
            ],
            "text/plain": [
              "         Date  Confirmed  ...  Deaths / 100 Recovered  No. of countries\n",
              "0  2020-01-22        555  ...                   60.71                 6\n",
              "1  2020-01-23        654  ...                   60.00                 8\n",
              "2  2020-01-24        941  ...                   72.22                 9\n",
              "3  2020-01-25       1434  ...                  107.69                11\n",
              "4  2020-01-26       2118  ...                  107.69                13\n",
              "\n",
              "[5 rows x 12 columns]"
            ]
          },
          "metadata": {
            "tags": []
          },
          "execution_count": 272
        }
      ]
    },
    {
      "cell_type": "code",
      "metadata": {
        "id": "BSA7P_yBsJko",
        "colab_type": "code",
        "colab": {
          "base_uri": "https://localhost:8080/",
          "height": 293
        },
        "outputId": "ae706531-1e51-47d5-e524-cabb3933dce3"
      },
      "source": [
        "corona_report_csv.plot(y=[\"Active\"])"
      ],
      "execution_count": 273,
      "outputs": [
        {
          "output_type": "execute_result",
          "data": {
            "text/plain": [
              "<matplotlib.axes._subplots.AxesSubplot at 0x7f05aaac25c0>"
            ]
          },
          "metadata": {
            "tags": []
          },
          "execution_count": 273
        },
        {
          "output_type": "display_data",
          "data": {
            "image/png": "[encoded data removed]",
            "text/plain": [
              "<Figure size 432x288 with 1 Axes>"
            ]
          },
          "metadata": {
            "tags": [],
            "needs_background": "light"
          }
        }
      ]
    },
    {
      "cell_type": "markdown",
      "metadata": {
        "id": "Y3mRW0HID5s2",
        "colab_type": "text"
      },
      "source": [
        "Remove unnecessary columns"
      ]
    },
    {
      "cell_type": "code",
      "metadata": {
        "id": "OEeVYAU5rIOA",
        "colab_type": "code",
        "colab": {}
      },
      "source": [
        "useless_cols = [\"Deaths / 100 Cases\",\"Recovered / 100 Cases\",\"Deaths / 100 Recovered\",\"No. of countries\"]\n",
        "corona_report_csv.drop(useless_cols,axis=1,inplace=True)"
      ],
      "execution_count": 0,
      "outputs": []
    },
    {
      "cell_type": "code",
      "metadata": {
        "id": "pMruPy2GsW62",
        "colab_type": "code",
        "colab": {
          "base_uri": "https://localhost:8080/",
          "height": 200
        },
        "outputId": "6085a4d4-cf06-4dc3-a9b8-444135e5ac20"
      },
      "source": [
        "corona_report_csv.head()"
      ],
      "execution_count": 275,
      "outputs": [
        {
          "output_type": "execute_result",
          "data": {
            "text/html": [
              "<div>\n",
              "<style scoped>\n",
              "    .dataframe tbody tr th:only-of-type {\n",
              "        vertical-align: middle;\n",
              "    }\n",
              "\n",
              "    .dataframe tbody tr th {\n",
              "        vertical-align: top;\n",
              "    }\n",
              "\n",
              "    .dataframe thead th {\n",
              "        text-align: right;\n",
              "    }\n",
              "</style>\n",
              "<table border=\"1\" class=\"dataframe\">\n",
              "  <thead>\n",
              "    <tr style=\"text-align: right;\">\n",
              "      <th></th>\n",
              "      <th>Date</th>\n",
              "      <th>Confirmed</th>\n",
              "      <th>Deaths</th>\n",
              "      <th>Recovered</th>\n",
              "      <th>Active</th>\n",
              "      <th>New cases</th>\n",
              "      <th>New deaths</th>\n",
              "      <th>New recovered</th>\n",
              "    </tr>\n",
              "  </thead>\n",
              "  <tbody>\n",
              "    <tr>\n",
              "      <th>0</th>\n",
              "      <td>2020-01-22</td>\n",
              "      <td>555</td>\n",
              "      <td>17</td>\n",
              "      <td>28</td>\n",
              "      <td>510</td>\n",
              "      <td>0</td>\n",
              "      <td>0</td>\n",
              "      <td>0</td>\n",
              "    </tr>\n",
              "    <tr>\n",
              "      <th>1</th>\n",
              "      <td>2020-01-23</td>\n",
              "      <td>654</td>\n",
              "      <td>18</td>\n",
              "      <td>30</td>\n",
              "      <td>606</td>\n",
              "      <td>99</td>\n",
              "      <td>1</td>\n",
              "      <td>2</td>\n",
              "    </tr>\n",
              "    <tr>\n",
              "      <th>2</th>\n",
              "      <td>2020-01-24</td>\n",
              "      <td>941</td>\n",
              "      <td>26</td>\n",
              "      <td>36</td>\n",
              "      <td>879</td>\n",
              "      <td>287</td>\n",
              "      <td>8</td>\n",
              "      <td>6</td>\n",
              "    </tr>\n",
              "    <tr>\n",
              "      <th>3</th>\n",
              "      <td>2020-01-25</td>\n",
              "      <td>1434</td>\n",
              "      <td>42</td>\n",
              "      <td>39</td>\n",
              "      <td>1353</td>\n",
              "      <td>493</td>\n",
              "      <td>16</td>\n",
              "      <td>3</td>\n",
              "    </tr>\n",
              "    <tr>\n",
              "      <th>4</th>\n",
              "      <td>2020-01-26</td>\n",
              "      <td>2118</td>\n",
              "      <td>56</td>\n",
              "      <td>52</td>\n",
              "      <td>2010</td>\n",
              "      <td>684</td>\n",
              "      <td>14</td>\n",
              "      <td>13</td>\n",
              "    </tr>\n",
              "  </tbody>\n",
              "</table>\n",
              "</div>"
            ],
            "text/plain": [
              "         Date  Confirmed  Deaths  ...  New cases  New deaths  New recovered\n",
              "0  2020-01-22        555      17  ...          0           0              0\n",
              "1  2020-01-23        654      18  ...         99           1              2\n",
              "2  2020-01-24        941      26  ...        287           8              6\n",
              "3  2020-01-25       1434      42  ...        493          16              3\n",
              "4  2020-01-26       2118      56  ...        684          14             13\n",
              "\n",
              "[5 rows x 8 columns]"
            ]
          },
          "metadata": {
            "tags": []
          },
          "execution_count": 275
        }
      ]
    },
    {
      "cell_type": "markdown",
      "metadata": {
        "id": "_VwFY5K0ED2D",
        "colab_type": "text"
      },
      "source": [
        "In order to merge two tables, they should have same primary key.\n",
        "\n",
        "Changed the Key to Date in both the tables  "
      ]
    },
    {
      "cell_type": "code",
      "metadata": {
        "id": "HjfzWrjCwxr7",
        "colab_type": "code",
        "colab": {}
      },
      "source": [
        "corona_report_csv.set_index(\"Date\",inplace=True)"
      ],
      "execution_count": 0,
      "outputs": []
    },
    {
      "cell_type": "code",
      "metadata": {
        "id": "dUrnu6lO9yBQ",
        "colab_type": "code",
        "colab": {}
      },
      "source": [
        "stock_dataset_csv.set_index(\"Date\",inplace=True)"
      ],
      "execution_count": 0,
      "outputs": []
    },
    {
      "cell_type": "markdown",
      "metadata": {
        "id": "XeVIuAXLEjBo",
        "colab_type": "text"
      },
      "source": [
        "Join the COVID19 table with Stock table"
      ]
    },
    {
      "cell_type": "code",
      "metadata": {
        "id": "cNuIigJbxjXi",
        "colab_type": "code",
        "colab": {
          "base_uri": "https://localhost:8080/",
          "height": 354
        },
        "outputId": "776b0066-c0cf-4504-baf4-345d0b9952df"
      },
      "source": [
        "data = stock_dataset_csv.join(corona_report_csv,how=\"inner\")\n",
        "data.head()"
      ],
      "execution_count": 278,
      "outputs": [
        {
          "output_type": "execute_result",
          "data": {
            "text/html": [
              "<div>\n",
              "<style scoped>\n",
              "    .dataframe tbody tr th:only-of-type {\n",
              "        vertical-align: middle;\n",
              "    }\n",
              "\n",
              "    .dataframe tbody tr th {\n",
              "        vertical-align: top;\n",
              "    }\n",
              "\n",
              "    .dataframe thead th {\n",
              "        text-align: right;\n",
              "    }\n",
              "</style>\n",
              "<table border=\"1\" class=\"dataframe\">\n",
              "  <thead>\n",
              "    <tr style=\"text-align: right;\">\n",
              "      <th></th>\n",
              "      <th>Open</th>\n",
              "      <th>High</th>\n",
              "      <th>Low</th>\n",
              "      <th>Last</th>\n",
              "      <th>Close</th>\n",
              "      <th>Turnover</th>\n",
              "      <th>Trades</th>\n",
              "      <th>%Deliverble</th>\n",
              "      <th>Confirmed</th>\n",
              "      <th>Deaths</th>\n",
              "      <th>Recovered</th>\n",
              "      <th>Active</th>\n",
              "      <th>New cases</th>\n",
              "      <th>New deaths</th>\n",
              "      <th>New recovered</th>\n",
              "    </tr>\n",
              "    <tr>\n",
              "      <th>Date</th>\n",
              "      <th></th>\n",
              "      <th></th>\n",
              "      <th></th>\n",
              "      <th></th>\n",
              "      <th></th>\n",
              "      <th></th>\n",
              "      <th></th>\n",
              "      <th></th>\n",
              "      <th></th>\n",
              "      <th></th>\n",
              "      <th></th>\n",
              "      <th></th>\n",
              "      <th></th>\n",
              "      <th></th>\n",
              "      <th></th>\n",
              "    </tr>\n",
              "  </thead>\n",
              "  <tbody>\n",
              "    <tr>\n",
              "      <th>2020-02-24</th>\n",
              "      <td>18700.0</td>\n",
              "      <td>18700.0</td>\n",
              "      <td>17800.10</td>\n",
              "      <td>17995.00</td>\n",
              "      <td>17949.95</td>\n",
              "      <td>3.519792e+14</td>\n",
              "      <td>44028.0</td>\n",
              "      <td>0.3904</td>\n",
              "      <td>78834</td>\n",
              "      <td>2626</td>\n",
              "      <td>25224</td>\n",
              "      <td>50984</td>\n",
              "      <td>567</td>\n",
              "      <td>160</td>\n",
              "      <td>1833</td>\n",
              "    </tr>\n",
              "    <tr>\n",
              "      <th>2020-02-25</th>\n",
              "      <td>18135.0</td>\n",
              "      <td>18230.0</td>\n",
              "      <td>17321.00</td>\n",
              "      <td>17555.05</td>\n",
              "      <td>17532.30</td>\n",
              "      <td>4.513220e+14</td>\n",
              "      <td>56676.0</td>\n",
              "      <td>0.4063</td>\n",
              "      <td>79681</td>\n",
              "      <td>2705</td>\n",
              "      <td>27902</td>\n",
              "      <td>49074</td>\n",
              "      <td>847</td>\n",
              "      <td>79</td>\n",
              "      <td>2678</td>\n",
              "    </tr>\n",
              "    <tr>\n",
              "      <th>2020-02-26</th>\n",
              "      <td>17430.0</td>\n",
              "      <td>17600.0</td>\n",
              "      <td>17035.40</td>\n",
              "      <td>17237.30</td>\n",
              "      <td>17156.95</td>\n",
              "      <td>3.718339e+14</td>\n",
              "      <td>54182.0</td>\n",
              "      <td>0.2360</td>\n",
              "      <td>80641</td>\n",
              "      <td>2766</td>\n",
              "      <td>30371</td>\n",
              "      <td>47504</td>\n",
              "      <td>960</td>\n",
              "      <td>61</td>\n",
              "      <td>2469</td>\n",
              "    </tr>\n",
              "    <tr>\n",
              "      <th>2020-02-27</th>\n",
              "      <td>17167.8</td>\n",
              "      <td>17248.0</td>\n",
              "      <td>16906.10</td>\n",
              "      <td>17085.00</td>\n",
              "      <td>17053.40</td>\n",
              "      <td>4.354441e+14</td>\n",
              "      <td>56698.0</td>\n",
              "      <td>0.4220</td>\n",
              "      <td>81999</td>\n",
              "      <td>2810</td>\n",
              "      <td>33261</td>\n",
              "      <td>45928</td>\n",
              "      <td>1358</td>\n",
              "      <td>44</td>\n",
              "      <td>2890</td>\n",
              "    </tr>\n",
              "    <tr>\n",
              "      <th>2020-02-28</th>\n",
              "      <td>16697.0</td>\n",
              "      <td>16848.0</td>\n",
              "      <td>16317.05</td>\n",
              "      <td>16610.10</td>\n",
              "      <td>16602.35</td>\n",
              "      <td>5.395835e+14</td>\n",
              "      <td>65354.0</td>\n",
              "      <td>0.4564</td>\n",
              "      <td>83365</td>\n",
              "      <td>2866</td>\n",
              "      <td>36695</td>\n",
              "      <td>43804</td>\n",
              "      <td>1366</td>\n",
              "      <td>56</td>\n",
              "      <td>3434</td>\n",
              "    </tr>\n",
              "  </tbody>\n",
              "</table>\n",
              "</div>"
            ],
            "text/plain": [
              "               Open     High       Low  ...  New cases  New deaths  New recovered\n",
              "Date                                    ...                                      \n",
              "2020-02-24  18700.0  18700.0  17800.10  ...        567         160           1833\n",
              "2020-02-25  18135.0  18230.0  17321.00  ...        847          79           2678\n",
              "2020-02-26  17430.0  17600.0  17035.40  ...        960          61           2469\n",
              "2020-02-27  17167.8  17248.0  16906.10  ...       1358          44           2890\n",
              "2020-02-28  16697.0  16848.0  16317.05  ...       1366          56           3434\n",
              "\n",
              "[5 rows x 15 columns]"
            ]
          },
          "metadata": {
            "tags": []
          },
          "execution_count": 278
        }
      ]
    },
    {
      "cell_type": "markdown",
      "metadata": {
        "id": "I2CS8fToEuih",
        "colab_type": "text"
      },
      "source": [
        "Calculate the correlation between Stock data and corona data"
      ]
    },
    {
      "cell_type": "code",
      "metadata": {
        "id": "lRO-g4xUx16Z",
        "colab_type": "code",
        "colab": {
          "base_uri": "https://localhost:8080/",
          "height": 576
        },
        "outputId": "55c28791-958c-4ec5-a6ab-e991e152718a"
      },
      "source": [
        "data.corr()"
      ],
      "execution_count": 279,
      "outputs": [
        {
          "output_type": "execute_result",
          "data": {
            "text/html": [
              "<div>\n",
              "<style scoped>\n",
              "    .dataframe tbody tr th:only-of-type {\n",
              "        vertical-align: middle;\n",
              "    }\n",
              "\n",
              "    .dataframe tbody tr th {\n",
              "        vertical-align: top;\n",
              "    }\n",
              "\n",
              "    .dataframe thead th {\n",
              "        text-align: right;\n",
              "    }\n",
              "</style>\n",
              "<table border=\"1\" class=\"dataframe\">\n",
              "  <thead>\n",
              "    <tr style=\"text-align: right;\">\n",
              "      <th></th>\n",
              "      <th>Open</th>\n",
              "      <th>High</th>\n",
              "      <th>Low</th>\n",
              "      <th>Last</th>\n",
              "      <th>Close</th>\n",
              "      <th>Turnover</th>\n",
              "      <th>Trades</th>\n",
              "      <th>%Deliverble</th>\n",
              "      <th>Confirmed</th>\n",
              "      <th>Deaths</th>\n",
              "      <th>Recovered</th>\n",
              "      <th>Active</th>\n",
              "      <th>New cases</th>\n",
              "      <th>New deaths</th>\n",
              "      <th>New recovered</th>\n",
              "    </tr>\n",
              "  </thead>\n",
              "  <tbody>\n",
              "    <tr>\n",
              "      <th>Open</th>\n",
              "      <td>1.000000</td>\n",
              "      <td>0.947808</td>\n",
              "      <td>0.977249</td>\n",
              "      <td>0.942637</td>\n",
              "      <td>0.943038</td>\n",
              "      <td>0.284973</td>\n",
              "      <td>0.079392</td>\n",
              "      <td>0.143781</td>\n",
              "      <td>-0.546706</td>\n",
              "      <td>-0.555840</td>\n",
              "      <td>-0.435835</td>\n",
              "      <td>-0.609777</td>\n",
              "      <td>-0.833894</td>\n",
              "      <td>-0.855063</td>\n",
              "      <td>-0.534852</td>\n",
              "    </tr>\n",
              "    <tr>\n",
              "      <th>High</th>\n",
              "      <td>0.947808</td>\n",
              "      <td>1.000000</td>\n",
              "      <td>0.936600</td>\n",
              "      <td>0.950156</td>\n",
              "      <td>0.956371</td>\n",
              "      <td>0.361446</td>\n",
              "      <td>0.191765</td>\n",
              "      <td>0.173815</td>\n",
              "      <td>-0.554711</td>\n",
              "      <td>-0.570942</td>\n",
              "      <td>-0.431958</td>\n",
              "      <td>-0.624728</td>\n",
              "      <td>-0.821349</td>\n",
              "      <td>-0.866837</td>\n",
              "      <td>-0.549896</td>\n",
              "    </tr>\n",
              "    <tr>\n",
              "      <th>Low</th>\n",
              "      <td>0.977249</td>\n",
              "      <td>0.936600</td>\n",
              "      <td>1.000000</td>\n",
              "      <td>0.970441</td>\n",
              "      <td>0.971249</td>\n",
              "      <td>0.328881</td>\n",
              "      <td>0.109652</td>\n",
              "      <td>0.085908</td>\n",
              "      <td>-0.504492</td>\n",
              "      <td>-0.513591</td>\n",
              "      <td>-0.391582</td>\n",
              "      <td>-0.569693</td>\n",
              "      <td>-0.808578</td>\n",
              "      <td>-0.832758</td>\n",
              "      <td>-0.491293</td>\n",
              "    </tr>\n",
              "    <tr>\n",
              "      <th>Last</th>\n",
              "      <td>0.942637</td>\n",
              "      <td>0.950156</td>\n",
              "      <td>0.970441</td>\n",
              "      <td>1.000000</td>\n",
              "      <td>0.999096</td>\n",
              "      <td>0.393140</td>\n",
              "      <td>0.203628</td>\n",
              "      <td>0.063155</td>\n",
              "      <td>-0.486592</td>\n",
              "      <td>-0.500022</td>\n",
              "      <td>-0.367055</td>\n",
              "      <td>-0.556028</td>\n",
              "      <td>-0.784647</td>\n",
              "      <td>-0.817052</td>\n",
              "      <td>-0.479038</td>\n",
              "    </tr>\n",
              "    <tr>\n",
              "      <th>Close</th>\n",
              "      <td>0.943038</td>\n",
              "      <td>0.956371</td>\n",
              "      <td>0.971249</td>\n",
              "      <td>0.999096</td>\n",
              "      <td>1.000000</td>\n",
              "      <td>0.403420</td>\n",
              "      <td>0.214199</td>\n",
              "      <td>0.068395</td>\n",
              "      <td>-0.486905</td>\n",
              "      <td>-0.501230</td>\n",
              "      <td>-0.365814</td>\n",
              "      <td>-0.557267</td>\n",
              "      <td>-0.783780</td>\n",
              "      <td>-0.820551</td>\n",
              "      <td>-0.480272</td>\n",
              "    </tr>\n",
              "    <tr>\n",
              "      <th>Turnover</th>\n",
              "      <td>0.284973</td>\n",
              "      <td>0.361446</td>\n",
              "      <td>0.328881</td>\n",
              "      <td>0.393140</td>\n",
              "      <td>0.403420</td>\n",
              "      <td>1.000000</td>\n",
              "      <td>0.929984</td>\n",
              "      <td>-0.006051</td>\n",
              "      <td>0.202425</td>\n",
              "      <td>0.166129</td>\n",
              "      <td>0.285060</td>\n",
              "      <td>0.147883</td>\n",
              "      <td>0.060792</td>\n",
              "      <td>-0.081254</td>\n",
              "      <td>0.218873</td>\n",
              "    </tr>\n",
              "    <tr>\n",
              "      <th>Trades</th>\n",
              "      <td>0.079392</td>\n",
              "      <td>0.191765</td>\n",
              "      <td>0.109652</td>\n",
              "      <td>0.203628</td>\n",
              "      <td>0.214199</td>\n",
              "      <td>0.929984</td>\n",
              "      <td>1.000000</td>\n",
              "      <td>0.019849</td>\n",
              "      <td>0.222524</td>\n",
              "      <td>0.185583</td>\n",
              "      <td>0.280148</td>\n",
              "      <td>0.184402</td>\n",
              "      <td>0.186809</td>\n",
              "      <td>0.084923</td>\n",
              "      <td>0.240702</td>\n",
              "    </tr>\n",
              "    <tr>\n",
              "      <th>%Deliverble</th>\n",
              "      <td>0.143781</td>\n",
              "      <td>0.173815</td>\n",
              "      <td>0.085908</td>\n",
              "      <td>0.063155</td>\n",
              "      <td>0.068395</td>\n",
              "      <td>-0.006051</td>\n",
              "      <td>0.019849</td>\n",
              "      <td>1.000000</td>\n",
              "      <td>-0.525861</td>\n",
              "      <td>-0.527717</td>\n",
              "      <td>-0.533615</td>\n",
              "      <td>-0.510935</td>\n",
              "      <td>-0.339319</td>\n",
              "      <td>-0.205674</td>\n",
              "      <td>-0.448198</td>\n",
              "    </tr>\n",
              "    <tr>\n",
              "      <th>Confirmed</th>\n",
              "      <td>-0.546706</td>\n",
              "      <td>-0.554711</td>\n",
              "      <td>-0.504492</td>\n",
              "      <td>-0.486592</td>\n",
              "      <td>-0.486905</td>\n",
              "      <td>0.202425</td>\n",
              "      <td>0.222524</td>\n",
              "      <td>-0.525861</td>\n",
              "      <td>1.000000</td>\n",
              "      <td>0.996718</td>\n",
              "      <td>0.983304</td>\n",
              "      <td>0.993430</td>\n",
              "      <td>0.855959</td>\n",
              "      <td>0.607103</td>\n",
              "      <td>0.927206</td>\n",
              "    </tr>\n",
              "    <tr>\n",
              "      <th>Deaths</th>\n",
              "      <td>-0.555840</td>\n",
              "      <td>-0.570942</td>\n",
              "      <td>-0.513591</td>\n",
              "      <td>-0.500022</td>\n",
              "      <td>-0.501230</td>\n",
              "      <td>0.166129</td>\n",
              "      <td>0.185583</td>\n",
              "      <td>-0.527717</td>\n",
              "      <td>0.996718</td>\n",
              "      <td>1.000000</td>\n",
              "      <td>0.968947</td>\n",
              "      <td>0.996823</td>\n",
              "      <td>0.854036</td>\n",
              "      <td>0.626772</td>\n",
              "      <td>0.921365</td>\n",
              "    </tr>\n",
              "    <tr>\n",
              "      <th>Recovered</th>\n",
              "      <td>-0.435835</td>\n",
              "      <td>-0.431958</td>\n",
              "      <td>-0.391582</td>\n",
              "      <td>-0.367055</td>\n",
              "      <td>-0.365814</td>\n",
              "      <td>0.285060</td>\n",
              "      <td>0.280148</td>\n",
              "      <td>-0.533615</td>\n",
              "      <td>0.983304</td>\n",
              "      <td>0.968947</td>\n",
              "      <td>1.000000</td>\n",
              "      <td>0.956051</td>\n",
              "      <td>0.784300</td>\n",
              "      <td>0.477926</td>\n",
              "      <td>0.910705</td>\n",
              "    </tr>\n",
              "    <tr>\n",
              "      <th>Active</th>\n",
              "      <td>-0.609777</td>\n",
              "      <td>-0.624728</td>\n",
              "      <td>-0.569693</td>\n",
              "      <td>-0.556028</td>\n",
              "      <td>-0.557267</td>\n",
              "      <td>0.147883</td>\n",
              "      <td>0.184402</td>\n",
              "      <td>-0.510935</td>\n",
              "      <td>0.993430</td>\n",
              "      <td>0.996823</td>\n",
              "      <td>0.956051</td>\n",
              "      <td>1.000000</td>\n",
              "      <td>0.888552</td>\n",
              "      <td>0.680052</td>\n",
              "      <td>0.922129</td>\n",
              "    </tr>\n",
              "    <tr>\n",
              "      <th>New cases</th>\n",
              "      <td>-0.833894</td>\n",
              "      <td>-0.821349</td>\n",
              "      <td>-0.808578</td>\n",
              "      <td>-0.784647</td>\n",
              "      <td>-0.783780</td>\n",
              "      <td>0.060792</td>\n",
              "      <td>0.186809</td>\n",
              "      <td>-0.339319</td>\n",
              "      <td>0.855959</td>\n",
              "      <td>0.854036</td>\n",
              "      <td>0.784300</td>\n",
              "      <td>0.888552</td>\n",
              "      <td>1.000000</td>\n",
              "      <td>0.874014</td>\n",
              "      <td>0.839262</td>\n",
              "    </tr>\n",
              "    <tr>\n",
              "      <th>New deaths</th>\n",
              "      <td>-0.855063</td>\n",
              "      <td>-0.866837</td>\n",
              "      <td>-0.832758</td>\n",
              "      <td>-0.817052</td>\n",
              "      <td>-0.820551</td>\n",
              "      <td>-0.081254</td>\n",
              "      <td>0.084923</td>\n",
              "      <td>-0.205674</td>\n",
              "      <td>0.607103</td>\n",
              "      <td>0.626772</td>\n",
              "      <td>0.477926</td>\n",
              "      <td>0.680052</td>\n",
              "      <td>0.874014</td>\n",
              "      <td>1.000000</td>\n",
              "      <td>0.624764</td>\n",
              "    </tr>\n",
              "    <tr>\n",
              "      <th>New recovered</th>\n",
              "      <td>-0.534852</td>\n",
              "      <td>-0.549896</td>\n",
              "      <td>-0.491293</td>\n",
              "      <td>-0.479038</td>\n",
              "      <td>-0.480272</td>\n",
              "      <td>0.218873</td>\n",
              "      <td>0.240702</td>\n",
              "      <td>-0.448198</td>\n",
              "      <td>0.927206</td>\n",
              "      <td>0.921365</td>\n",
              "      <td>0.910705</td>\n",
              "      <td>0.922129</td>\n",
              "      <td>0.839262</td>\n",
              "      <td>0.624764</td>\n",
              "      <td>1.000000</td>\n",
              "    </tr>\n",
              "  </tbody>\n",
              "</table>\n",
              "</div>"
            ],
            "text/plain": [
              "                   Open      High  ...  New deaths  New recovered\n",
              "Open           1.000000  0.947808  ...   -0.855063      -0.534852\n",
              "High           0.947808  1.000000  ...   -0.866837      -0.549896\n",
              "Low            0.977249  0.936600  ...   -0.832758      -0.491293\n",
              "Last           0.942637  0.950156  ...   -0.817052      -0.479038\n",
              "Close          0.943038  0.956371  ...   -0.820551      -0.480272\n",
              "Turnover       0.284973  0.361446  ...   -0.081254       0.218873\n",
              "Trades         0.079392  0.191765  ...    0.084923       0.240702\n",
              "%Deliverble    0.143781  0.173815  ...   -0.205674      -0.448198\n",
              "Confirmed     -0.546706 -0.554711  ...    0.607103       0.927206\n",
              "Deaths        -0.555840 -0.570942  ...    0.626772       0.921365\n",
              "Recovered     -0.435835 -0.431958  ...    0.477926       0.910705\n",
              "Active        -0.609777 -0.624728  ...    0.680052       0.922129\n",
              "New cases     -0.833894 -0.821349  ...    0.874014       0.839262\n",
              "New deaths    -0.855063 -0.866837  ...    1.000000       0.624764\n",
              "New recovered -0.534852 -0.549896  ...    0.624764       1.000000\n",
              "\n",
              "[15 rows x 15 columns]"
            ]
          },
          "metadata": {
            "tags": []
          },
          "execution_count": 279
        }
      ]
    },
    {
      "cell_type": "markdown",
      "metadata": {
        "id": "vwrElstzyKKQ",
        "colab_type": "text"
      },
      "source": [
        "I am using Seaborn to plot the time series"
      ]
    },
    {
      "cell_type": "code",
      "metadata": {
        "id": "lh5ZP7fuyRFO",
        "colab_type": "code",
        "outputId": "36fa51f8-1df0-48c0-d912-620f5aec2bf7",
        "colab": {
          "base_uri": "https://localhost:8080/",
          "height": 279
        }
      },
      "source": [
        "x = data[\"Active\"]\n",
        "y = data[\"Open\"]\n",
        "sns.scatterplot(x,y)"
      ],
      "execution_count": 0,
      "outputs": [
        {
          "output_type": "display_data",
          "data": {
            "image/png": "[encoded data removed]",
            "text/plain": [
              "<Figure size 432x288 with 1 Axes>"
            ]
          },
          "metadata": {
            "tags": [],
            "needs_background": "light"
          }
        }
      ]
    },
    {
      "cell_type": "markdown",
      "metadata": {
        "id": "QuipmPm9FHpy",
        "colab_type": "text"
      },
      "source": [
        "From the graph it can be observed that there is a steep fall in stock value as number of corona cases in the world increased from 0 to 1 Million. Interestingly as people started digesting the COVID19 reality, the stock price started improving gradually.  "
      ]
    },
    {
      "cell_type": "code",
      "metadata": {
        "id": "9kPhfHfey6Ur",
        "colab_type": "code",
        "outputId": "83f2da32-fb6c-4f43-9818-7bde489d70f5",
        "colab": {
          "base_uri": "https://localhost:8080/",
          "height": 296
        }
      },
      "source": [
        "sns.regplot(x,y)"
      ],
      "execution_count": 0,
      "outputs": [
        {
          "output_type": "execute_result",
          "data": {
            "text/plain": [
              "<matplotlib.axes._subplots.AxesSubplot at 0x7f05a83e1198>"
            ]
          },
          "metadata": {
            "tags": []
          },
          "execution_count": 281
        },
        {
          "output_type": "display_data",
          "data": {
            "image/png": "[encoded data removed]",
            "text/plain": [
              "<Figure size 432x288 with 1 Axes>"
            ]
          },
          "metadata": {
            "tags": [],
            "needs_background": "light"
          }
        }
      ]
    },
    {
      "cell_type": "markdown",
      "metadata": {
        "id": "IOx8mn8rTPnB",
        "colab_type": "text"
      },
      "source": [
        "# Machine learning\n",
        "Machine learning Part consists of two parts\n",
        "\n",
        "(1) Eicher Motors stock market prediction\n",
        "\n",
        "(2) Crude oil value prediction"
      ]
    },
    {
      "cell_type": "code",
      "metadata": {
        "id": "Ba1TBDr8pwrp",
        "colab_type": "code",
        "outputId": "07e057e8-b016-4fce-f93c-5321ceb643ec",
        "colab": {
          "base_uri": "https://localhost:8080/",
          "height": 341
        }
      },
      "source": [
        "stock_df=pd.read_csv(\"EICHERMOT.csv\")\n",
        "stock_df.set_index(\"Date\",inplace=True)\n",
        "corona_df=pd.read_csv(\"india_day_wise.csv\")\n",
        "corona_df.set_index(\"Date\",inplace=True)\n",
        "data = stock_df.join(corona_df,how=\"inner\")\n",
        "stock_data = data.reset_index()\n",
        "stock_data.head()"
      ],
      "execution_count": 0,
      "outputs": [
        {
          "output_type": "execute_result",
          "data": {
            "text/html": [
              "<div>\n",
              "<style scoped>\n",
              "    .dataframe tbody tr th:only-of-type {\n",
              "        vertical-align: middle;\n",
              "    }\n",
              "\n",
              "    .dataframe tbody tr th {\n",
              "        vertical-align: top;\n",
              "    }\n",
              "\n",
              "    .dataframe thead th {\n",
              "        text-align: right;\n",
              "    }\n",
              "</style>\n",
              "<table border=\"1\" class=\"dataframe\">\n",
              "  <thead>\n",
              "    <tr style=\"text-align: right;\">\n",
              "      <th></th>\n",
              "      <th>Date</th>\n",
              "      <th>Symbol</th>\n",
              "      <th>Series</th>\n",
              "      <th>Prev Close</th>\n",
              "      <th>Open</th>\n",
              "      <th>High</th>\n",
              "      <th>Low</th>\n",
              "      <th>Last</th>\n",
              "      <th>Close</th>\n",
              "      <th>VWAP</th>\n",
              "      <th>Volume</th>\n",
              "      <th>Turnover</th>\n",
              "      <th>Trades</th>\n",
              "      <th>Deliverable Volume</th>\n",
              "      <th>%Deliverble</th>\n",
              "      <th>Confirmed</th>\n",
              "      <th>Deaths</th>\n",
              "      <th>Recovered</th>\n",
              "      <th>Active</th>\n",
              "      <th>New cases</th>\n",
              "      <th>New deaths</th>\n",
              "      <th>New recovered</th>\n",
              "      <th>Deaths / 100 Cases</th>\n",
              "      <th>Recovered / 100 Cases</th>\n",
              "      <th>Deaths / 100 Recovered</th>\n",
              "      <th>No. of countries</th>\n",
              "    </tr>\n",
              "  </thead>\n",
              "  <tbody>\n",
              "    <tr>\n",
              "      <th>0</th>\n",
              "      <td>2020-02-24</td>\n",
              "      <td>EICHERMOT</td>\n",
              "      <td>EQ</td>\n",
              "      <td>18848.65</td>\n",
              "      <td>18700.0</td>\n",
              "      <td>18700.0</td>\n",
              "      <td>17800.10</td>\n",
              "      <td>17995.00</td>\n",
              "      <td>17949.95</td>\n",
              "      <td>18254.19</td>\n",
              "      <td>192821</td>\n",
              "      <td>3.519792e+14</td>\n",
              "      <td>44028.0</td>\n",
              "      <td>75285.0</td>\n",
              "      <td>0.3904</td>\n",
              "      <td>78834</td>\n",
              "      <td>2626</td>\n",
              "      <td>25224</td>\n",
              "      <td>50984</td>\n",
              "      <td>567</td>\n",
              "      <td>160</td>\n",
              "      <td>1833</td>\n",
              "      <td>3.33</td>\n",
              "      <td>32.00</td>\n",
              "      <td>10.41</td>\n",
              "      <td>35</td>\n",
              "    </tr>\n",
              "    <tr>\n",
              "      <th>1</th>\n",
              "      <td>2020-02-25</td>\n",
              "      <td>EICHERMOT</td>\n",
              "      <td>EQ</td>\n",
              "      <td>17949.95</td>\n",
              "      <td>18135.0</td>\n",
              "      <td>18230.0</td>\n",
              "      <td>17321.00</td>\n",
              "      <td>17555.05</td>\n",
              "      <td>17532.30</td>\n",
              "      <td>17572.72</td>\n",
              "      <td>256831</td>\n",
              "      <td>4.513220e+14</td>\n",
              "      <td>56676.0</td>\n",
              "      <td>104350.0</td>\n",
              "      <td>0.4063</td>\n",
              "      <td>79681</td>\n",
              "      <td>2705</td>\n",
              "      <td>27902</td>\n",
              "      <td>49074</td>\n",
              "      <td>847</td>\n",
              "      <td>79</td>\n",
              "      <td>2678</td>\n",
              "      <td>3.39</td>\n",
              "      <td>35.02</td>\n",
              "      <td>9.69</td>\n",
              "      <td>40</td>\n",
              "    </tr>\n",
              "    <tr>\n",
              "      <th>2</th>\n",
              "      <td>2020-02-26</td>\n",
              "      <td>EICHERMOT</td>\n",
              "      <td>EQ</td>\n",
              "      <td>17532.30</td>\n",
              "      <td>17430.0</td>\n",
              "      <td>17600.0</td>\n",
              "      <td>17035.40</td>\n",
              "      <td>17237.30</td>\n",
              "      <td>17156.95</td>\n",
              "      <td>17285.51</td>\n",
              "      <td>215113</td>\n",
              "      <td>3.718339e+14</td>\n",
              "      <td>54182.0</td>\n",
              "      <td>50775.0</td>\n",
              "      <td>0.2360</td>\n",
              "      <td>80641</td>\n",
              "      <td>2766</td>\n",
              "      <td>30371</td>\n",
              "      <td>47504</td>\n",
              "      <td>960</td>\n",
              "      <td>61</td>\n",
              "      <td>2469</td>\n",
              "      <td>3.43</td>\n",
              "      <td>37.66</td>\n",
              "      <td>9.11</td>\n",
              "      <td>46</td>\n",
              "    </tr>\n",
              "    <tr>\n",
              "      <th>3</th>\n",
              "      <td>2020-02-27</td>\n",
              "      <td>EICHERMOT</td>\n",
              "      <td>EQ</td>\n",
              "      <td>17156.95</td>\n",
              "      <td>17167.8</td>\n",
              "      <td>17248.0</td>\n",
              "      <td>16906.10</td>\n",
              "      <td>17085.00</td>\n",
              "      <td>17053.40</td>\n",
              "      <td>17044.09</td>\n",
              "      <td>255481</td>\n",
              "      <td>4.354441e+14</td>\n",
              "      <td>56698.0</td>\n",
              "      <td>107805.0</td>\n",
              "      <td>0.4220</td>\n",
              "      <td>81999</td>\n",
              "      <td>2810</td>\n",
              "      <td>33261</td>\n",
              "      <td>45928</td>\n",
              "      <td>1358</td>\n",
              "      <td>44</td>\n",
              "      <td>2890</td>\n",
              "      <td>3.43</td>\n",
              "      <td>40.56</td>\n",
              "      <td>8.45</td>\n",
              "      <td>50</td>\n",
              "    </tr>\n",
              "    <tr>\n",
              "      <th>4</th>\n",
              "      <td>2020-02-28</td>\n",
              "      <td>EICHERMOT</td>\n",
              "      <td>EQ</td>\n",
              "      <td>17053.40</td>\n",
              "      <td>16697.0</td>\n",
              "      <td>16848.0</td>\n",
              "      <td>16317.05</td>\n",
              "      <td>16610.10</td>\n",
              "      <td>16602.35</td>\n",
              "      <td>16528.57</td>\n",
              "      <td>326455</td>\n",
              "      <td>5.395835e+14</td>\n",
              "      <td>65354.0</td>\n",
              "      <td>148997.0</td>\n",
              "      <td>0.4564</td>\n",
              "      <td>83365</td>\n",
              "      <td>2866</td>\n",
              "      <td>36695</td>\n",
              "      <td>43804</td>\n",
              "      <td>1366</td>\n",
              "      <td>56</td>\n",
              "      <td>3434</td>\n",
              "      <td>3.44</td>\n",
              "      <td>44.02</td>\n",
              "      <td>7.81</td>\n",
              "      <td>56</td>\n",
              "    </tr>\n",
              "  </tbody>\n",
              "</table>\n",
              "</div>"
            ],
            "text/plain": [
              "         Date     Symbol  ... Deaths / 100 Recovered  No. of countries\n",
              "0  2020-02-24  EICHERMOT  ...                  10.41                35\n",
              "1  2020-02-25  EICHERMOT  ...                   9.69                40\n",
              "2  2020-02-26  EICHERMOT  ...                   9.11                46\n",
              "3  2020-02-27  EICHERMOT  ...                   8.45                50\n",
              "4  2020-02-28  EICHERMOT  ...                   7.81                56\n",
              "\n",
              "[5 rows x 26 columns]"
            ]
          },
          "metadata": {
            "tags": []
          },
          "execution_count": 282
        }
      ]
    },
    {
      "cell_type": "markdown",
      "metadata": {
        "id": "2aZzGamspkoe",
        "colab_type": "text"
      },
      "source": [
        "Prepare the input dataset before applying the Facebook Prophet tool"
      ]
    },
    {
      "cell_type": "code",
      "metadata": {
        "id": "wYQt_yldTSD2",
        "colab_type": "code",
        "outputId": "4f284114-4aac-4a74-b991-22c67611a473",
        "colab": {
          "base_uri": "https://localhost:8080/",
          "height": 412
        }
      },
      "source": [
        "stock_prophet_open = stock_data[['Date','Open']]\n",
        "stock_prophet_open = stock_prophet_open.rename(columns = {'Date': 'ds', 'Open': 'y'})\n",
        "stock_prophet_open"
      ],
      "execution_count": 0,
      "outputs": [
        {
          "output_type": "execute_result",
          "data": {
            "text/html": [
              "<div>\n",
              "<style scoped>\n",
              "    .dataframe tbody tr th:only-of-type {\n",
              "        vertical-align: middle;\n",
              "    }\n",
              "\n",
              "    .dataframe tbody tr th {\n",
              "        vertical-align: top;\n",
              "    }\n",
              "\n",
              "    .dataframe thead th {\n",
              "        text-align: right;\n",
              "    }\n",
              "</style>\n",
              "<table border=\"1\" class=\"dataframe\">\n",
              "  <thead>\n",
              "    <tr style=\"text-align: right;\">\n",
              "      <th></th>\n",
              "      <th>ds</th>\n",
              "      <th>y</th>\n",
              "    </tr>\n",
              "  </thead>\n",
              "  <tbody>\n",
              "    <tr>\n",
              "      <th>0</th>\n",
              "      <td>2020-02-24</td>\n",
              "      <td>18700.0</td>\n",
              "    </tr>\n",
              "    <tr>\n",
              "      <th>1</th>\n",
              "      <td>2020-02-25</td>\n",
              "      <td>18135.0</td>\n",
              "    </tr>\n",
              "    <tr>\n",
              "      <th>2</th>\n",
              "      <td>2020-02-26</td>\n",
              "      <td>17430.0</td>\n",
              "    </tr>\n",
              "    <tr>\n",
              "      <th>3</th>\n",
              "      <td>2020-02-27</td>\n",
              "      <td>17167.8</td>\n",
              "    </tr>\n",
              "    <tr>\n",
              "      <th>4</th>\n",
              "      <td>2020-02-28</td>\n",
              "      <td>16697.0</td>\n",
              "    </tr>\n",
              "    <tr>\n",
              "      <th>...</th>\n",
              "      <td>...</td>\n",
              "      <td>...</td>\n",
              "    </tr>\n",
              "    <tr>\n",
              "      <th>58</th>\n",
              "      <td>2020-05-22</td>\n",
              "      <td>13901.0</td>\n",
              "    </tr>\n",
              "    <tr>\n",
              "      <th>59</th>\n",
              "      <td>2020-05-26</td>\n",
              "      <td>14105.0</td>\n",
              "    </tr>\n",
              "    <tr>\n",
              "      <th>60</th>\n",
              "      <td>2020-05-27</td>\n",
              "      <td>14880.0</td>\n",
              "    </tr>\n",
              "    <tr>\n",
              "      <th>61</th>\n",
              "      <td>2020-05-28</td>\n",
              "      <td>15120.0</td>\n",
              "    </tr>\n",
              "    <tr>\n",
              "      <th>62</th>\n",
              "      <td>2020-05-29</td>\n",
              "      <td>15903.0</td>\n",
              "    </tr>\n",
              "  </tbody>\n",
              "</table>\n",
              "<p>63 rows × 2 columns</p>\n",
              "</div>"
            ],
            "text/plain": [
              "            ds        y\n",
              "0   2020-02-24  18700.0\n",
              "1   2020-02-25  18135.0\n",
              "2   2020-02-26  17430.0\n",
              "3   2020-02-27  17167.8\n",
              "4   2020-02-28  16697.0\n",
              "..         ...      ...\n",
              "58  2020-05-22  13901.0\n",
              "59  2020-05-26  14105.0\n",
              "60  2020-05-27  14880.0\n",
              "61  2020-05-28  15120.0\n",
              "62  2020-05-29  15903.0\n",
              "\n",
              "[63 rows x 2 columns]"
            ]
          },
          "metadata": {
            "tags": []
          },
          "execution_count": 283
        }
      ]
    },
    {
      "cell_type": "markdown",
      "metadata": {
        "id": "izXxOP8vTZQ3",
        "colab_type": "text"
      },
      "source": [
        "Prophet is open source software released by Faceook's core Datascience team"
      ]
    },
    {
      "cell_type": "code",
      "metadata": {
        "id": "2k3q8m7wTiUI",
        "colab_type": "code",
        "outputId": "bf6c1c86-e7f7-4697-9103-0bf20d0d8904",
        "colab": {
          "base_uri": "https://localhost:8080/",
          "height": 69
        }
      },
      "source": [
        "m = Prophet()\n",
        "m.fit(stock_prophet_open)"
      ],
      "execution_count": 0,
      "outputs": [
        {
          "output_type": "stream",
          "text": [
            "INFO:fbprophet:Disabling yearly seasonality. Run prophet with yearly_seasonality=True to override this.\n",
            "INFO:fbprophet:Disabling daily seasonality. Run prophet with daily_seasonality=True to override this.\n"
          ],
          "name": "stderr"
        },
        {
          "output_type": "execute_result",
          "data": {
            "text/plain": [
              "<fbprophet.forecaster.Prophet at 0x7f05a8482240>"
            ]
          },
          "metadata": {
            "tags": []
          },
          "execution_count": 284
        }
      ]
    },
    {
      "cell_type": "markdown",
      "metadata": {
        "id": "7qKiwt75TgJs",
        "colab_type": "text"
      },
      "source": [
        "Lets develop the model and make prediction of stock value of Eicher motors for next 30 days"
      ]
    },
    {
      "cell_type": "code",
      "metadata": {
        "id": "fP9tosbYTgeR",
        "colab_type": "code",
        "outputId": "4e61109f-c9bd-4b8a-b559-34c4f001da60",
        "colab": {
          "base_uri": "https://localhost:8080/",
          "height": 604
        }
      },
      "source": [
        "future = m.make_future_dataframe(periods = 30)\n",
        "future['day'] = future['ds'].dt.weekday\n",
        "future = future[future['day']<=4]\n",
        "forecast = m.predict(future)\n",
        "forecast"
      ],
      "execution_count": 0,
      "outputs": [
        {
          "output_type": "execute_result",
          "data": {
            "text/html": [
              "<div>\n",
              "<style scoped>\n",
              "    .dataframe tbody tr th:only-of-type {\n",
              "        vertical-align: middle;\n",
              "    }\n",
              "\n",
              "    .dataframe tbody tr th {\n",
              "        vertical-align: top;\n",
              "    }\n",
              "\n",
              "    .dataframe thead th {\n",
              "        text-align: right;\n",
              "    }\n",
              "</style>\n",
              "<table border=\"1\" class=\"dataframe\">\n",
              "  <thead>\n",
              "    <tr style=\"text-align: right;\">\n",
              "      <th></th>\n",
              "      <th>ds</th>\n",
              "      <th>trend</th>\n",
              "      <th>yhat_lower</th>\n",
              "      <th>yhat_upper</th>\n",
              "      <th>trend_lower</th>\n",
              "      <th>trend_upper</th>\n",
              "      <th>additive_terms</th>\n",
              "      <th>additive_terms_lower</th>\n",
              "      <th>additive_terms_upper</th>\n",
              "      <th>weekly</th>\n",
              "      <th>weekly_lower</th>\n",
              "      <th>weekly_upper</th>\n",
              "      <th>multiplicative_terms</th>\n",
              "      <th>multiplicative_terms_lower</th>\n",
              "      <th>multiplicative_terms_upper</th>\n",
              "      <th>yhat</th>\n",
              "    </tr>\n",
              "  </thead>\n",
              "  <tbody>\n",
              "    <tr>\n",
              "      <th>0</th>\n",
              "      <td>2020-02-24</td>\n",
              "      <td>10146.894124</td>\n",
              "      <td>17552.429936</td>\n",
              "      <td>19206.893938</td>\n",
              "      <td>10146.894124</td>\n",
              "      <td>10146.894124</td>\n",
              "      <td>8234.548505</td>\n",
              "      <td>8234.548505</td>\n",
              "      <td>8234.548505</td>\n",
              "      <td>8234.548505</td>\n",
              "      <td>8234.548505</td>\n",
              "      <td>8234.548505</td>\n",
              "      <td>0.0</td>\n",
              "      <td>0.0</td>\n",
              "      <td>0.0</td>\n",
              "      <td>18381.442628</td>\n",
              "    </tr>\n",
              "    <tr>\n",
              "      <th>1</th>\n",
              "      <td>2020-02-25</td>\n",
              "      <td>10029.553634</td>\n",
              "      <td>17249.162802</td>\n",
              "      <td>18817.550200</td>\n",
              "      <td>10029.553634</td>\n",
              "      <td>10029.553634</td>\n",
              "      <td>7985.535885</td>\n",
              "      <td>7985.535885</td>\n",
              "      <td>7985.535885</td>\n",
              "      <td>7985.535885</td>\n",
              "      <td>7985.535885</td>\n",
              "      <td>7985.535885</td>\n",
              "      <td>0.0</td>\n",
              "      <td>0.0</td>\n",
              "      <td>0.0</td>\n",
              "      <td>18015.089520</td>\n",
              "    </tr>\n",
              "    <tr>\n",
              "      <th>2</th>\n",
              "      <td>2020-02-26</td>\n",
              "      <td>9912.213145</td>\n",
              "      <td>17257.719387</td>\n",
              "      <td>18850.547069</td>\n",
              "      <td>9912.213145</td>\n",
              "      <td>9912.213145</td>\n",
              "      <td>8135.597907</td>\n",
              "      <td>8135.597907</td>\n",
              "      <td>8135.597907</td>\n",
              "      <td>8135.597907</td>\n",
              "      <td>8135.597907</td>\n",
              "      <td>8135.597907</td>\n",
              "      <td>0.0</td>\n",
              "      <td>0.0</td>\n",
              "      <td>0.0</td>\n",
              "      <td>18047.811052</td>\n",
              "    </tr>\n",
              "    <tr>\n",
              "      <th>3</th>\n",
              "      <td>2020-02-27</td>\n",
              "      <td>9794.872655</td>\n",
              "      <td>17029.604928</td>\n",
              "      <td>18694.163159</td>\n",
              "      <td>9794.872655</td>\n",
              "      <td>9794.872655</td>\n",
              "      <td>8072.385137</td>\n",
              "      <td>8072.385137</td>\n",
              "      <td>8072.385137</td>\n",
              "      <td>8072.385137</td>\n",
              "      <td>8072.385137</td>\n",
              "      <td>8072.385137</td>\n",
              "      <td>0.0</td>\n",
              "      <td>0.0</td>\n",
              "      <td>0.0</td>\n",
              "      <td>17867.257792</td>\n",
              "    </tr>\n",
              "    <tr>\n",
              "      <th>4</th>\n",
              "      <td>2020-02-28</td>\n",
              "      <td>9677.532166</td>\n",
              "      <td>17024.210368</td>\n",
              "      <td>18650.008161</td>\n",
              "      <td>9677.532166</td>\n",
              "      <td>9677.532166</td>\n",
              "      <td>8160.240069</td>\n",
              "      <td>8160.240069</td>\n",
              "      <td>8160.240069</td>\n",
              "      <td>8160.240069</td>\n",
              "      <td>8160.240069</td>\n",
              "      <td>8160.240069</td>\n",
              "      <td>0.0</td>\n",
              "      <td>0.0</td>\n",
              "      <td>0.0</td>\n",
              "      <td>17837.772235</td>\n",
              "    </tr>\n",
              "    <tr>\n",
              "      <th>...</th>\n",
              "      <td>...</td>\n",
              "      <td>...</td>\n",
              "      <td>...</td>\n",
              "      <td>...</td>\n",
              "      <td>...</td>\n",
              "      <td>...</td>\n",
              "      <td>...</td>\n",
              "      <td>...</td>\n",
              "      <td>...</td>\n",
              "      <td>...</td>\n",
              "      <td>...</td>\n",
              "      <td>...</td>\n",
              "      <td>...</td>\n",
              "      <td>...</td>\n",
              "      <td>...</td>\n",
              "      <td>...</td>\n",
              "    </tr>\n",
              "    <tr>\n",
              "      <th>78</th>\n",
              "      <td>2020-06-22</td>\n",
              "      <td>6495.473264</td>\n",
              "      <td>13857.564403</td>\n",
              "      <td>15589.155255</td>\n",
              "      <td>6200.574094</td>\n",
              "      <td>6780.468549</td>\n",
              "      <td>8234.548505</td>\n",
              "      <td>8234.548505</td>\n",
              "      <td>8234.548505</td>\n",
              "      <td>8234.548505</td>\n",
              "      <td>8234.548505</td>\n",
              "      <td>8234.548505</td>\n",
              "      <td>0.0</td>\n",
              "      <td>0.0</td>\n",
              "      <td>0.0</td>\n",
              "      <td>14730.021769</td>\n",
              "    </tr>\n",
              "    <tr>\n",
              "      <th>79</th>\n",
              "      <td>2020-06-23</td>\n",
              "      <td>6507.083042</td>\n",
              "      <td>13589.433681</td>\n",
              "      <td>15397.119232</td>\n",
              "      <td>6193.947909</td>\n",
              "      <td>6807.696485</td>\n",
              "      <td>7985.535885</td>\n",
              "      <td>7985.535885</td>\n",
              "      <td>7985.535885</td>\n",
              "      <td>7985.535885</td>\n",
              "      <td>7985.535885</td>\n",
              "      <td>7985.535885</td>\n",
              "      <td>0.0</td>\n",
              "      <td>0.0</td>\n",
              "      <td>0.0</td>\n",
              "      <td>14492.618927</td>\n",
              "    </tr>\n",
              "    <tr>\n",
              "      <th>80</th>\n",
              "      <td>2020-06-24</td>\n",
              "      <td>6518.692820</td>\n",
              "      <td>13768.006419</td>\n",
              "      <td>15606.738702</td>\n",
              "      <td>6186.355437</td>\n",
              "      <td>6836.231516</td>\n",
              "      <td>8135.597907</td>\n",
              "      <td>8135.597907</td>\n",
              "      <td>8135.597907</td>\n",
              "      <td>8135.597907</td>\n",
              "      <td>8135.597907</td>\n",
              "      <td>8135.597907</td>\n",
              "      <td>0.0</td>\n",
              "      <td>0.0</td>\n",
              "      <td>0.0</td>\n",
              "      <td>14654.290727</td>\n",
              "    </tr>\n",
              "    <tr>\n",
              "      <th>81</th>\n",
              "      <td>2020-06-25</td>\n",
              "      <td>6530.302597</td>\n",
              "      <td>13678.942612</td>\n",
              "      <td>15552.505465</td>\n",
              "      <td>6177.083922</td>\n",
              "      <td>6865.862573</td>\n",
              "      <td>8072.385137</td>\n",
              "      <td>8072.385137</td>\n",
              "      <td>8072.385137</td>\n",
              "      <td>8072.385137</td>\n",
              "      <td>8072.385137</td>\n",
              "      <td>8072.385137</td>\n",
              "      <td>0.0</td>\n",
              "      <td>0.0</td>\n",
              "      <td>0.0</td>\n",
              "      <td>14602.687734</td>\n",
              "    </tr>\n",
              "    <tr>\n",
              "      <th>82</th>\n",
              "      <td>2020-06-26</td>\n",
              "      <td>6541.912375</td>\n",
              "      <td>13797.335690</td>\n",
              "      <td>15606.081125</td>\n",
              "      <td>6170.366439</td>\n",
              "      <td>6897.977968</td>\n",
              "      <td>8160.240069</td>\n",
              "      <td>8160.240069</td>\n",
              "      <td>8160.240069</td>\n",
              "      <td>8160.240069</td>\n",
              "      <td>8160.240069</td>\n",
              "      <td>8160.240069</td>\n",
              "      <td>0.0</td>\n",
              "      <td>0.0</td>\n",
              "      <td>0.0</td>\n",
              "      <td>14702.152445</td>\n",
              "    </tr>\n",
              "  </tbody>\n",
              "</table>\n",
              "<p>83 rows × 16 columns</p>\n",
              "</div>"
            ],
            "text/plain": [
              "           ds         trend  ...  multiplicative_terms_upper          yhat\n",
              "0  2020-02-24  10146.894124  ...                         0.0  18381.442628\n",
              "1  2020-02-25  10029.553634  ...                         0.0  18015.089520\n",
              "2  2020-02-26   9912.213145  ...                         0.0  18047.811052\n",
              "3  2020-02-27   9794.872655  ...                         0.0  17867.257792\n",
              "4  2020-02-28   9677.532166  ...                         0.0  17837.772235\n",
              "..        ...           ...  ...                         ...           ...\n",
              "78 2020-06-22   6495.473264  ...                         0.0  14730.021769\n",
              "79 2020-06-23   6507.083042  ...                         0.0  14492.618927\n",
              "80 2020-06-24   6518.692820  ...                         0.0  14654.290727\n",
              "81 2020-06-25   6530.302597  ...                         0.0  14602.687734\n",
              "82 2020-06-26   6541.912375  ...                         0.0  14702.152445\n",
              "\n",
              "[83 rows x 16 columns]"
            ]
          },
          "metadata": {
            "tags": []
          },
          "execution_count": 285
        }
      ]
    },
    {
      "cell_type": "markdown",
      "metadata": {
        "id": "_scL9n8pTptJ",
        "colab_type": "text"
      },
      "source": [
        "Plot of existing and forecasted values of stock market\n",
        "\n"
      ]
    },
    {
      "cell_type": "code",
      "metadata": {
        "id": "SAvRRyvUTp_6",
        "colab_type": "code",
        "outputId": "fae6cf19-dcd6-4312-987c-b3e1b8a399ec",
        "colab": {
          "base_uri": "https://localhost:8080/",
          "height": 441
        }
      },
      "source": [
        "figure = m.plot(forecast,xlabel = 'Date', ylabel='stock_cases') "
      ],
      "execution_count": 0,
      "outputs": [
        {
          "output_type": "display_data",
          "data": {
            "image/png": "[encoded data removed]",
            "text/plain": [
              "<Figure size 720x432 with 1 Axes>"
            ]
          },
          "metadata": {
            "tags": []
          }
        }
      ]
    },
    {
      "cell_type": "markdown",
      "metadata": {
        "id": "-8L7wGL_TsK2",
        "colab_type": "text"
      },
      "source": [
        "There are two additional graphs:\n",
        "\n",
        "(1) Trend of stock market value\n",
        "\n",
        "(2) stock values based on the day"
      ]
    },
    {
      "cell_type": "code",
      "metadata": {
        "id": "kU--XtX2Ts_8",
        "colab_type": "code",
        "outputId": "3c269ca1-725b-43f8-cbf9-097bc1e08178",
        "colab": {
          "base_uri": "https://localhost:8080/",
          "height": 441
        }
      },
      "source": [
        "figure2 = m.plot_components(forecast)"
      ],
      "execution_count": 0,
      "outputs": [
        {
          "output_type": "display_data",
          "data": {
            "image/png": "[encoded data removed]",
            "text/plain": [
              "<Figure size 648x432 with 2 Axes>"
            ]
          },
          "metadata": {
            "tags": []
          }
        }
      ]
    },
    {
      "cell_type": "markdown",
      "metadata": {
        "id": "cqA1Nl0FvFe2",
        "colab_type": "text"
      },
      "source": [
        "# Predict the corona cases for next 30 days"
      ]
    },
    {
      "cell_type": "markdown",
      "metadata": {
        "id": "kpYRTMfFqY_i",
        "colab_type": "text"
      },
      "source": [
        "Prepare the corona dataset to perform prediction using facebook prophet"
      ]
    },
    {
      "cell_type": "code",
      "metadata": {
        "id": "fiuubPJ-vF65",
        "colab_type": "code",
        "outputId": "e87b4a5c-8362-49ec-f6cb-9bc45b8eb908",
        "colab": {
          "base_uri": "https://localhost:8080/",
          "height": 412
        }
      },
      "source": [
        "stock_prophet_corona = stock_data[['Date','Active']]\n",
        "stock_prophet_corona = stock_prophet_corona.rename(columns = {'Date': 'ds', 'Active': 'y'})\n",
        "stock_prophet_corona"
      ],
      "execution_count": 0,
      "outputs": [
        {
          "output_type": "execute_result",
          "data": {
            "text/html": [
              "<div>\n",
              "<style scoped>\n",
              "    .dataframe tbody tr th:only-of-type {\n",
              "        vertical-align: middle;\n",
              "    }\n",
              "\n",
              "    .dataframe tbody tr th {\n",
              "        vertical-align: top;\n",
              "    }\n",
              "\n",
              "    .dataframe thead th {\n",
              "        text-align: right;\n",
              "    }\n",
              "</style>\n",
              "<table border=\"1\" class=\"dataframe\">\n",
              "  <thead>\n",
              "    <tr style=\"text-align: right;\">\n",
              "      <th></th>\n",
              "      <th>ds</th>\n",
              "      <th>y</th>\n",
              "    </tr>\n",
              "  </thead>\n",
              "  <tbody>\n",
              "    <tr>\n",
              "      <th>0</th>\n",
              "      <td>2020-02-24</td>\n",
              "      <td>50984</td>\n",
              "    </tr>\n",
              "    <tr>\n",
              "      <th>1</th>\n",
              "      <td>2020-02-25</td>\n",
              "      <td>49074</td>\n",
              "    </tr>\n",
              "    <tr>\n",
              "      <th>2</th>\n",
              "      <td>2020-02-26</td>\n",
              "      <td>47504</td>\n",
              "    </tr>\n",
              "    <tr>\n",
              "      <th>3</th>\n",
              "      <td>2020-02-27</td>\n",
              "      <td>45928</td>\n",
              "    </tr>\n",
              "    <tr>\n",
              "      <th>4</th>\n",
              "      <td>2020-02-28</td>\n",
              "      <td>43804</td>\n",
              "    </tr>\n",
              "    <tr>\n",
              "      <th>...</th>\n",
              "      <td>...</td>\n",
              "      <td>...</td>\n",
              "    </tr>\n",
              "    <tr>\n",
              "      <th>58</th>\n",
              "      <td>2020-05-22</td>\n",
              "      <td>2866801</td>\n",
              "    </tr>\n",
              "    <tr>\n",
              "      <th>59</th>\n",
              "      <td>2020-05-26</td>\n",
              "      <td>3006396</td>\n",
              "    </tr>\n",
              "    <tr>\n",
              "      <th>60</th>\n",
              "      <td>2020-05-27</td>\n",
              "      <td>3041501</td>\n",
              "    </tr>\n",
              "    <tr>\n",
              "      <th>61</th>\n",
              "      <td>2020-05-28</td>\n",
              "      <td>3088694</td>\n",
              "    </tr>\n",
              "    <tr>\n",
              "      <th>62</th>\n",
              "      <td>2020-05-29</td>\n",
              "      <td>3129194</td>\n",
              "    </tr>\n",
              "  </tbody>\n",
              "</table>\n",
              "<p>63 rows × 2 columns</p>\n",
              "</div>"
            ],
            "text/plain": [
              "            ds        y\n",
              "0   2020-02-24    50984\n",
              "1   2020-02-25    49074\n",
              "2   2020-02-26    47504\n",
              "3   2020-02-27    45928\n",
              "4   2020-02-28    43804\n",
              "..         ...      ...\n",
              "58  2020-05-22  2866801\n",
              "59  2020-05-26  3006396\n",
              "60  2020-05-27  3041501\n",
              "61  2020-05-28  3088694\n",
              "62  2020-05-29  3129194\n",
              "\n",
              "[63 rows x 2 columns]"
            ]
          },
          "metadata": {
            "tags": []
          },
          "execution_count": 288
        }
      ]
    },
    {
      "cell_type": "code",
      "metadata": {
        "id": "u9On_6uSN972",
        "colab_type": "code",
        "outputId": "37bcc0eb-7ba2-4e64-9c1f-9ad13274d3ff",
        "colab": {
          "base_uri": "https://localhost:8080/",
          "height": 475
        }
      },
      "source": [
        "n = Prophet()\n",
        "n.fit(stock_prophet_corona)\n",
        "future = n.make_future_dataframe(periods = 30)\n",
        "forecast_corona = n.predict(future)\n",
        "figure = n.plot(forecast_corona,xlabel = 'Date', ylabel='Active_Corona_cases') "
      ],
      "execution_count": 0,
      "outputs": [
        {
          "output_type": "stream",
          "text": [
            "INFO:fbprophet:Disabling yearly seasonality. Run prophet with yearly_seasonality=True to override this.\n",
            "INFO:fbprophet:Disabling daily seasonality. Run prophet with daily_seasonality=True to override this.\n"
          ],
          "name": "stderr"
        },
        {
          "output_type": "display_data",
          "data": {
            "image/png": "[encoded data removed]",
            "text/plain": [
              "<Figure size 720x432 with 1 Axes>"
            ]
          },
          "metadata": {
            "tags": []
          }
        }
      ]
    },
    {
      "cell_type": "code",
      "metadata": {
        "id": "OJ0nCqqUv22A",
        "colab_type": "code",
        "outputId": "80579a89-43c0-4622-8bbb-a768c71d1ca7",
        "colab": {
          "base_uri": "https://localhost:8080/",
          "height": 441
        }
      },
      "source": [
        "figure2 = n.plot_components(forecast_corona)"
      ],
      "execution_count": 0,
      "outputs": [
        {
          "output_type": "display_data",
          "data": {
            "image/png": "[encoded data removed]",
            "text/plain": [
              "<Figure size 648x432 with 2 Axes>"
            ]
          },
          "metadata": {
            "tags": []
          }
        }
      ]
    }
  ]
}