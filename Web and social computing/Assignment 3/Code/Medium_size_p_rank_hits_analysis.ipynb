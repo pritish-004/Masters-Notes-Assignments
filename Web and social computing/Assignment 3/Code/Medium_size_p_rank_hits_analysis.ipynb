{
  "nbformat": 4,
  "nbformat_minor": 0,
  "metadata": {
    "colab": {
      "name": "Medium_size_p-rank_hits_analysis.ipynb",
      "provenance": [],
      "collapsed_sections": [],
      "toc_visible": true
    },
    "kernelspec": {
      "name": "python3",
      "display_name": "Python 3"
    }
  },
  "cells": [
    {
      "cell_type": "markdown",
      "metadata": {
        "id": "K9TtzRLfTLov",
        "colab_type": "text"
      },
      "source": [
        "# **Page Rank:**\n",
        "\n",
        "Developed by Google founders to measure the importance of webpages from the hyperlink network structure. pagerank assigns a score of importance for each node. The Impoertant nodes are those with many inlinks from important pages. Page rank can be used for any type of network, but its mainly useful for Directed networks.\n",
        "\n",
        "A node's page rank edepends upon the page rank of the other nodes.This is a kind of circular definition. \n",
        "\n",
        "In simple words, PageRank says that nodes who are central are the ones that, if you were to take a random walk on this network, then you would pass by them a lot of times or you would end up landing on them a lot of times.\n",
        "\n"
      ]
    },
    {
      "cell_type": "code",
      "metadata": {
        "id": "bCIsW9WuS37e",
        "colab_type": "code",
        "colab": {}
      },
      "source": [
        "import networkx as nx\n",
        "import matplotlib.pylab as plt\n",
        "import operator\n",
        "G1 = nx.read_adjlist('medium_sized_facebook_combined.txt',create_using=nx.Graph(),nodetype=int)"
      ],
      "execution_count": 0,
      "outputs": []
    },
    {
      "cell_type": "markdown",
      "metadata": {
        "id": "7tT4jdAPX_lY",
        "colab_type": "text"
      },
      "source": [
        "The Basic PageRank of a node can be interpreted as the probability that a random walk lands on the node after k Random steps.The problem with the basic page rank algorithm is that in some networks few nodes can \"suck up\" all the page rank from the Network.\n",
        "\n",
        "To fix this problem, Scaled PageRank introduces a parameter Alpha such that a random walker chooses a random node to jump to with probability 1 - Alpha.Typically alpha value varies between 0.8 and 0.9."
      ]
    },
    {
      "cell_type": "code",
      "metadata": {
        "id": "MgpQ-F7HTMIO",
        "colab_type": "code",
        "colab": {}
      },
      "source": [
        "def pr_calculation():\n",
        "  pr = nx.pagerank(G1,alpha=0.85)\n",
        "  return pr"
      ],
      "execution_count": 0,
      "outputs": []
    },
    {
      "cell_type": "markdown",
      "metadata": {
        "id": "nRIZam6mc-9f",
        "colab_type": "text"
      },
      "source": [
        "# **Hits Algorithm**\n",
        "\n",
        "* The HITS algorithm starts by constructing a root set of relevant web pages and expanding it to a base set.\n",
        "* HITS then assigns an authority and hub score to each node in the network. \n",
        "* Nodes that have incoming edges from **good hubs** are **good authorities**, and nodes that have outgoing edges to **good authorities** are **good hubs**. \n",
        "* Authority and hub scores converge for most networks.\n",
        "\n",
        "Important point to be noted here is, in order to understand what the HITS algorithm is saying, the Hub and authorities scores need to be looked together together."
      ]
    },
    {
      "cell_type": "code",
      "metadata": {
        "id": "hZXUiVAC2xD-",
        "colab_type": "code",
        "colab": {}
      },
      "source": [
        "def hits_calculation():\n",
        "  # max_iteration is set to 200 as default value of 100 was not sufficient for hits  vaules to converge\n",
        "  hits = nx.hits(G1,max_iter=200)\n",
        "  return hits"
      ],
      "execution_count": 0,
      "outputs": []
    },
    {
      "cell_type": "markdown",
      "metadata": {
        "id": "GtwlnbXEfn2-",
        "colab_type": "text"
      },
      "source": [
        "# **Plots**"
      ]
    },
    {
      "cell_type": "code",
      "metadata": {
        "id": "VGOYjcN5TQT1",
        "colab_type": "code",
        "outputId": "f5b11a1e-1588-4694-96b4-34c0ece1e4c5",
        "colab": {
          "base_uri": "https://localhost:8080/",
          "height": 265
        }
      },
      "source": [
        "import operator\n",
        "pr = pr_calculation()\n",
        "lists = sorted(pr.items())\n",
        "x, y = zip(*lists)\n",
        "plt.plot(x, y,'ro')\n",
        "plt.show()"
      ],
      "execution_count": 0,
      "outputs": [
        {
          "output_type": "display_data",
          "data": {
            "image/png": "[encoded data removed]",
            "text/plain": [
              "<Figure size 432x288 with 1 Axes>"
            ]
          },
          "metadata": {
            "tags": [],
            "needs_background": "light"
          }
        }
      ]
    },
    {
      "cell_type": "code",
      "metadata": {
        "id": "66--o4f93CVn",
        "colab_type": "code",
        "outputId": "4127710c-c95b-4657-ff42-eb303d96d3c2",
        "colab": {
          "base_uri": "https://localhost:8080/",
          "height": 265
        }
      },
      "source": [
        "hubs,auths = hits_calculation()\n",
        "lists = sorted(hubs.items())\n",
        "x, y = zip(*lists)\n",
        "plt.plot(x, y,'ro')\n",
        "plt.show()"
      ],
      "execution_count": 0,
      "outputs": [
        {
          "output_type": "display_data",
          "data": {
            "image/png": "[encoded data removed]",
            "text/plain": [
              "<Figure size 432x288 with 1 Axes>"
            ]
          },
          "metadata": {
            "tags": [],
            "needs_background": "light"
          }
        }
      ]
    },
    {
      "cell_type": "markdown",
      "metadata": {
        "id": "6hbkOjVGtodA",
        "colab_type": "text"
      },
      "source": [
        ""
      ]
    },
    {
      "cell_type": "code",
      "metadata": {
        "id": "bqcP8OgOS40B",
        "colab_type": "code",
        "outputId": "5eeed7d8-8e18-4d7e-bba6-b05f5febde0d",
        "colab": {
          "base_uri": "https://localhost:8080/",
          "height": 265
        }
      },
      "source": [
        "lists = sorted(auths.items())\n",
        "x, y = zip(*lists)\n",
        "plt.plot(x, y,'ro')\n",
        "plt.show()"
      ],
      "execution_count": 0,
      "outputs": [
        {
          "output_type": "display_data",
          "data": {
            "image/png": "[encoded data removed]",
            "text/plain": [
              "<Figure size 432x288 with 1 Axes>"
            ]
          },
          "metadata": {
            "tags": [],
            "needs_background": "light"
          }
        }
      ]
    },
    {
      "cell_type": "markdown",
      "metadata": {
        "id": "2UNijYVufsde",
        "colab_type": "text"
      },
      "source": [
        "# **Summary**![alt text](https://drive.google.com/uc?id=1S87Zl6WkjQfnISiCOj0IPiO57T6_EhFE)\n",
        "\n",
        "\n",
        "* It can be observed that no pair of centrality measures produces the exact same ranking of nodes, however theyshare some commonalities.\n",
        "\n",
        "* Centrality measures make different assumptions about\n",
        "what it means to be a \"central” node. Thus, they produce different rankings.\n",
        "\n",
        "* The best centrality measure depends on the context of the network one is analyzing.\n",
        "\n",
        "* When identifying central nodes, it is usually best to use multiple centrality measures instead of relying on a single one."
      ]
    },
    {
      "cell_type": "code",
      "metadata": {
        "id": "uiyAop_NtgYf",
        "colab_type": "code",
        "colab": {}
      },
      "source": [
        "top5 = sorted(pr.items(), key=operator.itemgetter(1), reverse=True)[0:5]\n",
        "print(top5)"
      ],
      "execution_count": 0,
      "outputs": []
    },
    {
      "cell_type": "code",
      "metadata": {
        "id": "_ck_jrDneb9l",
        "colab_type": "code",
        "colab": {}
      },
      "source": [
        "top5 = sorted(auths.items(), key=operator.itemgetter(1), reverse=True)[0:5]\n",
        "print(top5)"
      ],
      "execution_count": 0,
      "outputs": []
    },
    {
      "cell_type": "code",
      "metadata": {
        "id": "-fM7p0bnCDof",
        "colab_type": "code",
        "colab": {}
      },
      "source": [
        "top5 = sorted(hubs.items(), key=operator.itemgetter(1), reverse=True)[0:5]\n",
        "print(top5)"
      ],
      "execution_count": 0,
      "outputs": []
    }
  ]
}