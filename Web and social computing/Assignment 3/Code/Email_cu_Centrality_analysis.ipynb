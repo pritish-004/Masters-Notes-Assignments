{
  "nbformat": 4,
  "nbformat_minor": 0,
  "metadata": {
    "colab": {
      "name": "Email_cu_Centrality_analysis.ipynb",
      "provenance": [],
      "collapsed_sections": []
    },
    "kernelspec": {
      "name": "python3",
      "display_name": "Python 3"
    }
  },
  "cells": [
    {
      "cell_type": "markdown",
      "metadata": {
        "id": "K9TtzRLfTLov",
        "colab_type": "text"
      },
      "source": [
        "**Centrality Measure overview**\n",
        "\n",
        "> The centrality measures allows us to find the most important nodes in a particular network. The definition of important node might change depending on our interest. Sometimes we might be interested in finding who are the most influential nodes in a social network, which are good at disseminating information to many other nodes. On other hand, we might be interested in searching the nodes that are good at preventing bad behaviours or epidemics from spreading on a social network.These these measure allows us to find nodes that prevent the network from breaking up and if we remove these nodes, they would cause the network to fracture and break up into different components. \n",
        "\n",
        "\n"
      ]
    },
    {
      "cell_type": "code",
      "metadata": {
        "id": "bCIsW9WuS37e",
        "colab_type": "code",
        "colab": {}
      },
      "source": [
        "import networkx as nx\n",
        "import matplotlib.pylab as plt\n",
        "G1 = nx.read_edgelist('small_size_email_cu_graph.txt',create_using=nx.Graph(),nodetype=int)"
      ],
      "execution_count": 0,
      "outputs": []
    },
    {
      "cell_type": "code",
      "metadata": {
        "id": "KrZEXR7lAJyD",
        "colab_type": "code",
        "outputId": "5fb2b004-440d-4d9f-9820-fc4e81248a79",
        "colab": {
          "base_uri": "https://localhost:8080/",
          "height": 520
        }
      },
      "source": [
        "# draw the graph using the default spring layout\n",
        "plt.figure(figsize=(10,9))\n",
        "pos = nx.spring_layout(G1)\n",
        "nx.draw_networkx(G1,pos,with_labels=False, edge_color='.4')"
      ],
      "execution_count": 3,
      "outputs": [
        {
          "output_type": "display_data",
          "data": {
            "image/png": "[encoded data removed]",
            "text/plain": [
              "<Figure size 720x648 with 1 Axes>"
            ]
          },
          "metadata": {
            "tags": []
          }
        }
      ]
    },
    {
      "cell_type": "code",
      "metadata": {
        "id": "MgpQ-F7HTMIO",
        "colab_type": "code",
        "colab": {}
      },
      "source": [
        "def centrality_calculation():\n",
        "    dc = nx.degree_centrality(G1)\n",
        "    cc = nx.closeness_centrality(G1)\n",
        "    bc = nx.betweenness_centrality(G1, endpoints=False, normalized=True)\n",
        "    ec = nx.eigenvector_centrality(G1)\n",
        "    return dc, cc, bc, ec"
      ],
      "execution_count": 0,
      "outputs": []
    },
    {
      "cell_type": "markdown",
      "metadata": {
        "id": "nTWyqiskcU-n",
        "colab_type": "text"
      },
      "source": [
        "**Degree Centrality:**\n",
        "\n",
        "> Here the assumption is that important nodes have many connections. This is most basic type of centrality measure where we count the  neighbours that are directly connected to the node"
      ]
    },
    {
      "cell_type": "code",
      "metadata": {
        "id": "VGOYjcN5TQT1",
        "colab_type": "code",
        "outputId": "97085b7b-a028-4311-d23c-c95512a7bd7b",
        "colab": {
          "base_uri": "https://localhost:8080/",
          "height": 265
        }
      },
      "source": [
        "import operator\n",
        "a,b,c,d = centrality_calculation()\n",
        "lists = sorted(a.items())\n",
        "x, y = zip(*lists)\n",
        "plt.plot(x, y,'ro')\n",
        "plt.show()"
      ],
      "execution_count": 6,
      "outputs": [
        {
          "output_type": "display_data",
          "data": {
            "image/png": "[encoded data removed]",
            "text/plain": [
              "<Figure size 432x288 with 1 Axes>"
            ]
          },
          "metadata": {
            "tags": [],
            "needs_background": "light"
          }
        }
      ]
    },
    {
      "cell_type": "markdown",
      "metadata": {
        "id": "6hbkOjVGtodA",
        "colab_type": "text"
      },
      "source": [
        "According to degree centrality, following are the ranks of node as per their importance:\n",
        "\n",
        "Rank 1: Node no. 160\n",
        "\n",
        "Rank 2: Node no. 121\n",
        "\n",
        "Rank 3: Node no. 82\n",
        "\n",
        "Rank 4: Node no. 107\n",
        "\n",
        "Rank 5: Node no. 86"
      ]
    },
    {
      "cell_type": "code",
      "metadata": {
        "id": "uiyAop_NtgYf",
        "colab_type": "code",
        "outputId": "976c6766-d583-42d6-9ed9-204e830bc5a8",
        "colab": {
          "base_uri": "https://localhost:8080/",
          "height": 54
        }
      },
      "source": [
        "top5 = sorted(a.items(), key=operator.itemgetter(1), reverse=True)[0:5]\n",
        "print(top5)"
      ],
      "execution_count": 7,
      "outputs": [
        {
          "output_type": "stream",
          "text": [
            "[(160, 0.34561752988047806), (121, 0.23306772908366533), (82, 0.23207171314741035), (107, 0.2201195219123506), (86, 0.21713147410358566)]\n"
          ],
          "name": "stdout"
        }
      ]
    },
    {
      "cell_type": "markdown",
      "metadata": {
        "id": "rLS3UKOIdFlv",
        "colab_type": "text"
      },
      "source": [
        "**Closeness Centrality:**\n",
        "\n",
        "> Here, We assume important nodes are close to other nodes in the Network. In other words, closeness centrality says that nodes who are central are a short distance away from all the other nodes in the network"
      ]
    },
    {
      "cell_type": "code",
      "metadata": {
        "id": "COUFlg7PVzgE",
        "colab_type": "code",
        "outputId": "2e7104bb-5749-46b8-99f1-93a5cbf1c834",
        "colab": {
          "base_uri": "https://localhost:8080/",
          "height": 268
        }
      },
      "source": [
        "lists = sorted(b.items())\n",
        "x, y = zip(*lists)\n",
        "plt.plot(x, y,'ro')\n",
        "plt.show()"
      ],
      "execution_count": 8,
      "outputs": [
        {
          "output_type": "display_data",
          "data": {
            "image/png": "[encoded data removed]",
            "text/plain": [
              "<Figure size 432x288 with 1 Axes>"
            ]
          },
          "metadata": {
            "tags": [],
            "needs_background": "light"
          }
        }
      ]
    },
    {
      "cell_type": "markdown",
      "metadata": {
        "id": "Ewaaoxq5vN-F",
        "colab_type": "text"
      },
      "source": [
        "According to closeness centrality, following are the ranks of node as per their importance. \n",
        "\n",
        "Rank 1: 160\n",
        "\n",
        "Rank 2: 82 \n",
        "\n",
        "Rank 3: 121\n",
        "\n",
        "Rank 4 : 107 \n",
        "\n",
        "Rank 5: 62"
      ]
    },
    {
      "cell_type": "markdown",
      "metadata": {
        "id": "zioMNrlvggvh",
        "colab_type": "text"
      },
      "source": [
        "**Betweenness Centrality:**\n",
        "> Here the assumption is that important nodes are the ones who connect other nodes in the network. The metric used to calculate betweeness centrality is distance. Distance between two nodes is the the shortest path between them "
      ]
    },
    {
      "cell_type": "code",
      "metadata": {
        "id": "QqSp5KKFWAhc",
        "colab_type": "code",
        "outputId": "65c9a49c-091c-48bb-d3ba-663c69ee954d",
        "colab": {
          "base_uri": "https://localhost:8080/",
          "height": 265
        }
      },
      "source": [
        "lists = sorted(c.items())\n",
        "x, y = zip(*lists)\n",
        "plt.plot(x, y,'ro')\n",
        "plt.show()"
      ],
      "execution_count": 9,
      "outputs": [
        {
          "output_type": "display_data",
          "data": {
            "image/png": "[encoded data removed]",
            "text/plain": [
              "<Figure size 432x288 with 1 Axes>"
            ]
          },
          "metadata": {
            "tags": [],
            "needs_background": "light"
          }
        }
      ]
    },
    {
      "cell_type": "markdown",
      "metadata": {
        "id": "n9DO_iPszjWm",
        "colab_type": "text"
      },
      "source": [
        "According to Betweeness centrality, following are the ranks of node as per their importance. \n",
        "\n",
        "Rank 1 :160 \n",
        "\n",
        "Rank 2: 86 \n",
        "\n",
        "Rank 3: 5 \n",
        "\n",
        "Rank 4: 82\n",
        "\n",
        "Rank 5: 121"
      ]
    },
    {
      "cell_type": "code",
      "metadata": {
        "id": "fqTDe5Nsywea",
        "colab_type": "code",
        "outputId": "a4bcd727-1235-4ca9-e1b4-11cbdd2ed654",
        "colab": {
          "base_uri": "https://localhost:8080/",
          "height": 54
        }
      },
      "source": [
        "top5 = sorted(c.items(), key=operator.itemgetter(1), reverse=True)[0:5]\n",
        "print(top5)"
      ],
      "execution_count": 10,
      "outputs": [
        {
          "output_type": "stream",
          "text": [
            "[(160, 0.08741473493638795), (86, 0.03778853269115196), (5, 0.030994686545277747), (82, 0.027880741135114222), (121, 0.027841538825800698)]\n"
          ],
          "name": "stdout"
        }
      ]
    },
    {
      "cell_type": "markdown",
      "metadata": {
        "id": "Bw72XoO5VIPf",
        "colab_type": "text"
      },
      "source": [
        "**Eigen vector centrality**\n",
        "\n",
        "Eigenvector centrality is a measure of the influence a node has on a network."
      ]
    },
    {
      "cell_type": "code",
      "metadata": {
        "id": "z89oF-iuze0R",
        "colab_type": "code",
        "outputId": "fe162215-d58e-43cc-f88e-321fc368527e",
        "colab": {
          "base_uri": "https://localhost:8080/",
          "height": 265
        }
      },
      "source": [
        "lists = sorted(d.items())\n",
        "x, y = zip(*lists)\n",
        "plt.plot(x, y,'ro')\n",
        "plt.show()"
      ],
      "execution_count": 11,
      "outputs": [
        {
          "output_type": "display_data",
          "data": {
            "image/png": "[encoded data removed]",
            "text/plain": [
              "<Figure size 432x288 with 1 Axes>"
            ]
          },
          "metadata": {
            "tags": [],
            "needs_background": "light"
          }
        }
      ]
    },
    {
      "cell_type": "markdown",
      "metadata": {
        "id": "8mH98LHbzlw-",
        "colab_type": "text"
      },
      "source": [
        "According to Eigen vector centrality, following are the ranks of node as per their importance: \n",
        "\n",
        "Rank 1: 160 \n",
        "\n",
        "Rank 2: 121 \n",
        "\n",
        "Rank 3: 82\n",
        "\n",
        "Rank 4: 107\n",
        "\n",
        "Rank 5: 62"
      ]
    },
    {
      "cell_type": "code",
      "metadata": {
        "id": "nzmKLnzvzl89",
        "colab_type": "code",
        "outputId": "7ce94bd7-6210-4430-8141-02131caef061",
        "colab": {
          "base_uri": "https://localhost:8080/",
          "height": 54
        }
      },
      "source": [
        "top5 = sorted(d.items(), key=operator.itemgetter(1), reverse=True)[0:5]\n",
        "print(top5)"
      ],
      "execution_count": 12,
      "outputs": [
        {
          "output_type": "stream",
          "text": [
            "[(160, 0.16584610525626128), (121, 0.14842130571753692), (82, 0.14525180917729402), (107, 0.13987647662358504), (62, 0.13149820210508467)]\n"
          ],
          "name": "stdout"
        }
      ]
    },
    {
      "cell_type": "markdown",
      "metadata": {
        "id": "899N0JRi6tV2",
        "colab_type": "text"
      },
      "source": [
        " **Summary**\n",
        " \n",
        "![alt text](https://drive.google.com/uc?id=1dnK_B8YeLlw_kkGsLQ0SmZVAgVkBhIwC)"
      ]
    },
    {
      "cell_type": "markdown",
      "metadata": {
        "id": "3AT96DrU---j",
        "colab_type": "text"
      },
      "source": [
        "Now that we have seen a number of different ways of finding central nodes in a network,lets compare the different centrality measures,and see how nodes are ranked differently. \n",
        "\n",
        "Node no. 160 is the most important node in all the centralitity measures. Node no 121 is present in all the top 5 rankings of centrality measures, but its rank differs.  \n",
        "\n",
        "In closeness centrality,node ranks from 2 to 5 are changed. The node no 86 is no more an important node and it is replaced by node 62. This means,node 62 is more close to other nodes compared to node 86.\n",
        "\n",
        "In Betweeness centrality, node 5 is ranked 3. Node 5 is particularly interesting node as it didnt appear in Degree or closeness rankings. This means, Node 5 is neither among the closest nor has high degree, but most of the shotest path in the network pas through node 5. \n",
        "\n",
        "In Eigenvector centrality, the results are similar to degree centrality.The only difference is that the rank 5: 86 in closeness centrality was replaced by rank 5: 62 in Eigenvector centrality"
      ]
    }
  ]
}